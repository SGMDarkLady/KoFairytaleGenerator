{
 "cells": [
  {
   "cell_type": "code",
   "execution_count": 2,
   "id": "02cee425",
   "metadata": {},
   "outputs": [],
   "source": [
    "import pandas as pd\n",
    "import openpyxl\n",
    "import numpy as np\n",
    "\n",
    "import os\n",
    "import matplotlib.pyplot as plt\n",
    "import seaborn as sns\n",
    "from wordcloud import WordCloud"
   ]
  },
  {
   "cell_type": "markdown",
   "id": "6d3f596a",
   "metadata": {},
   "source": [
    "# 0. Data Concat"
   ]
  },
  {
   "cell_type": "code",
   "execution_count": 28,
   "id": "bda29e59",
   "metadata": {},
   "outputs": [
    {
     "data": {
      "text/html": [
       "<div>\n",
       "<style scoped>\n",
       "    .dataframe tbody tr th:only-of-type {\n",
       "        vertical-align: middle;\n",
       "    }\n",
       "\n",
       "    .dataframe tbody tr th {\n",
       "        vertical-align: top;\n",
       "    }\n",
       "\n",
       "    .dataframe thead th {\n",
       "        text-align: right;\n",
       "    }\n",
       "</style>\n",
       "<table border=\"1\" class=\"dataframe\">\n",
       "  <thead>\n",
       "    <tr style=\"text-align: right;\">\n",
       "      <th></th>\n",
       "      <th>Unnamed: 0</th>\n",
       "      <th>동화</th>\n",
       "      <th>정제</th>\n",
       "    </tr>\n",
       "  </thead>\n",
       "  <tbody>\n",
       "    <tr>\n",
       "      <th>0</th>\n",
       "      <td>0</td>\n",
       "      <td>\"나는 알쏭달쏭 미술관 관장 '다다'란다 이곳은 신기하고 괴상한 작품으로 가득하지 ...</td>\n",
       "      <td>\"나는 알쏭달쏭 미술관 관장 '다다'란다. 이곳은 신기하고 괴상한 작품으로 가득하지...</td>\n",
       "    </tr>\n",
       "    <tr>\n",
       "      <th>1</th>\n",
       "      <td>1</td>\n",
       "      <td>2022년 5월 5일은 방정환 선생님이 어린이날을 만든 지 100주년이 되는 날이랍...</td>\n",
       "      <td>방정환은 어려서부터 책을 참 좋아했어요. 다섯 살 때는 할아버지한테 천재문을 배웠죠...</td>\n",
       "    </tr>\n",
       "    <tr>\n",
       "      <th>2</th>\n",
       "      <td>2</td>\n",
       "      <td>5월은 가정의 달이라고 할 만큼 가족들의 소중함을 생각해보게 하는 기념일이 참 많은...</td>\n",
       "      <td>텔레비전도 재미있는 그림책도 없었던 옛날의 어린이들은 무엇을 하고 놀았을까요? \"옛...</td>\n",
       "    </tr>\n",
       "    <tr>\n",
       "      <th>3</th>\n",
       "      <td>3</td>\n",
       "      <td>우리 친구들은 또래 친구들을 만나면 보통 어떤 놀이를 하면서 시간을 보내나요?  예...</td>\n",
       "      <td>\"따뜻한 봄바람이 살랑살랑 불고 겨울에 움츠렸던 몸이 움찔움찔. 얘들아 나랑 놀자 ...</td>\n",
       "    </tr>\n",
       "    <tr>\n",
       "      <th>4</th>\n",
       "      <td>4</td>\n",
       "      <td>6월 6일은 나라를 지키기 위해 목숨을 바친 모든 이들의 넋을 기리는 법정 기념일 ...</td>\n",
       "      <td>우리 할아버지입니다. 어려서부터 나는 할아버지와 한 방을 썼어요. 할아버지는 늘 신...</td>\n",
       "    </tr>\n",
       "    <tr>\n",
       "      <th>...</th>\n",
       "      <td>...</td>\n",
       "      <td>...</td>\n",
       "      <td>...</td>\n",
       "    </tr>\n",
       "    <tr>\n",
       "      <th>1633</th>\n",
       "      <td>NaN</td>\n",
       "      <td>NaN</td>\n",
       "      <td>민족의 죄인 그동안까지는 단순히 나는 하여커나 죄인이거니 하여 면목 없는 마음 반성...</td>\n",
       "    </tr>\n",
       "    <tr>\n",
       "      <th>1634</th>\n",
       "      <td>NaN</td>\n",
       "      <td>NaN</td>\n",
       "      <td>“호―” 새로 사온 것이라 등피에서는 아직 석유내도 나지 않는다 닦을 것도 별로 없...</td>\n",
       "    </tr>\n",
       "    <tr>\n",
       "      <th>1635</th>\n",
       "      <td>NaN</td>\n",
       "      <td>NaN</td>\n",
       "      <td>冷 냉동어── 딸의 이름 ──바다를 향수하고 딸의 이름 징상을 얻다 ××빌딩 맨 위...</td>\n",
       "    </tr>\n",
       "    <tr>\n",
       "      <th>1636</th>\n",
       "      <td>NaN</td>\n",
       "      <td>NaN</td>\n",
       "      <td>제일신 사랑하는 벗이여 전번 평안하다는 편지를 부친 후 사흘만에 병이 들었다가 오늘...</td>\n",
       "    </tr>\n",
       "    <tr>\n",
       "      <th>1637</th>\n",
       "      <td>NaN</td>\n",
       "      <td>NaN</td>\n",
       "      <td>메리 년 가을이었다 명치학원 중학부 이학년생 열어섯 살 되는 소년 김동인은 동경 지...</td>\n",
       "    </tr>\n",
       "  </tbody>\n",
       "</table>\n",
       "<p>1638 rows × 3 columns</p>\n",
       "</div>"
      ],
      "text/plain": [
       "     Unnamed: 0                                                 동화  \\\n",
       "0             0  \"나는 알쏭달쏭 미술관 관장 '다다'란다 이곳은 신기하고 괴상한 작품으로 가득하지 ...   \n",
       "1             1  2022년 5월 5일은 방정환 선생님이 어린이날을 만든 지 100주년이 되는 날이랍...   \n",
       "2             2  5월은 가정의 달이라고 할 만큼 가족들의 소중함을 생각해보게 하는 기념일이 참 많은...   \n",
       "3             3  우리 친구들은 또래 친구들을 만나면 보통 어떤 놀이를 하면서 시간을 보내나요?  예...   \n",
       "4             4  6월 6일은 나라를 지키기 위해 목숨을 바친 모든 이들의 넋을 기리는 법정 기념일 ...   \n",
       "...         ...                                                ...   \n",
       "1633        NaN                                                NaN   \n",
       "1634        NaN                                                NaN   \n",
       "1635        NaN                                                NaN   \n",
       "1636        NaN                                                NaN   \n",
       "1637        NaN                                                NaN   \n",
       "\n",
       "                                                     정제  \n",
       "0     \"나는 알쏭달쏭 미술관 관장 '다다'란다. 이곳은 신기하고 괴상한 작품으로 가득하지...  \n",
       "1     방정환은 어려서부터 책을 참 좋아했어요. 다섯 살 때는 할아버지한테 천재문을 배웠죠...  \n",
       "2     텔레비전도 재미있는 그림책도 없었던 옛날의 어린이들은 무엇을 하고 놀았을까요? \"옛...  \n",
       "3     \"따뜻한 봄바람이 살랑살랑 불고 겨울에 움츠렸던 몸이 움찔움찔. 얘들아 나랑 놀자 ...  \n",
       "4     우리 할아버지입니다. 어려서부터 나는 할아버지와 한 방을 썼어요. 할아버지는 늘 신...  \n",
       "...                                                 ...  \n",
       "1633  민족의 죄인 그동안까지는 단순히 나는 하여커나 죄인이거니 하여 면목 없는 마음 반성...  \n",
       "1634  “호―” 새로 사온 것이라 등피에서는 아직 석유내도 나지 않는다 닦을 것도 별로 없...  \n",
       "1635  冷 냉동어── 딸의 이름 ──바다를 향수하고 딸의 이름 징상을 얻다 ××빌딩 맨 위...  \n",
       "1636  제일신 사랑하는 벗이여 전번 평안하다는 편지를 부친 후 사흘만에 병이 들었다가 오늘...  \n",
       "1637  메리 년 가을이었다 명치학원 중학부 이학년생 열어섯 살 되는 소년 김동인은 동경 지...  \n",
       "\n",
       "[1638 rows x 3 columns]"
      ]
     },
     "execution_count": 28,
     "metadata": {},
     "output_type": "execute_result"
    }
   ],
   "source": [
    "df = pd.read_csv(r'dataset_정제.csv')\n",
    "df"
   ]
  },
  {
   "cell_type": "code",
   "execution_count": 30,
   "id": "ed64c95a",
   "metadata": {},
   "outputs": [
    {
     "name": "stdout",
     "output_type": "stream",
     "text": [
      "<class 'pandas.core.frame.DataFrame'>\n",
      "RangeIndex: 1286 entries, 0 to 1285\n",
      "Data columns (total 1 columns):\n",
      " #   Column  Non-Null Count  Dtype \n",
      "---  ------  --------------  ----- \n",
      " 0   정제      1286 non-null   object\n",
      "dtypes: object(1)\n",
      "memory usage: 10.2+ KB\n"
     ]
    }
   ],
   "source": [
    "df = df.drop(columns=['Unnamed: 0', '동화'], axis=1)\n",
    "df = df.dropna(axis=0)\n",
    "df = df.reset_index(drop=True)\n",
    "df.info()"
   ]
  },
  {
   "cell_type": "code",
   "execution_count": 33,
   "id": "a91cea2c",
   "metadata": {},
   "outputs": [
    {
     "name": "stdout",
     "output_type": "stream",
     "text": [
      "<class 'pandas.core.frame.DataFrame'>\n",
      "RangeIndex: 961 entries, 0 to 960\n",
      "Data columns (total 1 columns):\n",
      " #   Column  Non-Null Count  Dtype \n",
      "---  ------  --------------  ----- \n",
      " 0   정제      961 non-null    object\n",
      "dtypes: object(1)\n",
      "memory usage: 7.6+ KB\n"
     ]
    }
   ],
   "source": [
    "del_index = df.loc[df['정제'] == 'delete'].index\n",
    "del_index = del_index.values\n",
    "final_df = df.drop(del_index)\n",
    "final_df = final_df.reset_index()\n",
    "final_df = final_df.drop(columns=['index'], axis=1)\n",
    "final_df.info()"
   ]
  },
  {
   "cell_type": "code",
   "execution_count": 34,
   "id": "30a35c8e",
   "metadata": {},
   "outputs": [
    {
     "name": "stdout",
     "output_type": "stream",
     "text": [
      "<class 'pandas.core.frame.DataFrame'>\n",
      "RangeIndex: 961 entries, 0 to 960\n",
      "Data columns (total 1 columns):\n",
      " #   Column  Non-Null Count  Dtype \n",
      "---  ------  --------------  ----- \n",
      " 0   정제      961 non-null    object\n",
      "dtypes: object(1)\n",
      "memory usage: 7.6+ KB\n"
     ]
    },
    {
     "data": {
      "text/html": [
       "<div>\n",
       "<style scoped>\n",
       "    .dataframe tbody tr th:only-of-type {\n",
       "        vertical-align: middle;\n",
       "    }\n",
       "\n",
       "    .dataframe tbody tr th {\n",
       "        vertical-align: top;\n",
       "    }\n",
       "\n",
       "    .dataframe thead th {\n",
       "        text-align: right;\n",
       "    }\n",
       "</style>\n",
       "<table border=\"1\" class=\"dataframe\">\n",
       "  <thead>\n",
       "    <tr style=\"text-align: right;\">\n",
       "      <th></th>\n",
       "      <th>정제</th>\n",
       "    </tr>\n",
       "  </thead>\n",
       "  <tbody>\n",
       "    <tr>\n",
       "      <th>0</th>\n",
       "      <td>\"나는 알쏭달쏭 미술관 관장 '다다'란다. 이곳은 신기하고 괴상한 작품으로 가득하지...</td>\n",
       "    </tr>\n",
       "    <tr>\n",
       "      <th>1</th>\n",
       "      <td>방정환은 어려서부터 책을 참 좋아했어요. 다섯 살 때는 할아버지한테 천재문을 배웠죠...</td>\n",
       "    </tr>\n",
       "    <tr>\n",
       "      <th>2</th>\n",
       "      <td>텔레비전도 재미있는 그림책도 없었던 옛날의 어린이들은 무엇을 하고 놀았을까요? \"옛...</td>\n",
       "    </tr>\n",
       "    <tr>\n",
       "      <th>3</th>\n",
       "      <td>\"따뜻한 봄바람이 살랑살랑 불고 겨울에 움츠렸던 몸이 움찔움찔. 얘들아 나랑 놀자 ...</td>\n",
       "    </tr>\n",
       "    <tr>\n",
       "      <th>4</th>\n",
       "      <td>우리 할아버지입니다. 어려서부터 나는 할아버지와 한 방을 썼어요. 할아버지는 늘 신...</td>\n",
       "    </tr>\n",
       "    <tr>\n",
       "      <th>...</th>\n",
       "      <td>...</td>\n",
       "    </tr>\n",
       "    <tr>\n",
       "      <th>956</th>\n",
       "      <td>민족의 죄인 그동안까지는 단순히 나는 하여커나 죄인이거니 하여 면목 없는 마음 반성...</td>\n",
       "    </tr>\n",
       "    <tr>\n",
       "      <th>957</th>\n",
       "      <td>“호―” 새로 사온 것이라 등피에서는 아직 석유내도 나지 않는다 닦을 것도 별로 없...</td>\n",
       "    </tr>\n",
       "    <tr>\n",
       "      <th>958</th>\n",
       "      <td>冷 냉동어── 딸의 이름 ──바다를 향수하고 딸의 이름 징상을 얻다 ××빌딩 맨 위...</td>\n",
       "    </tr>\n",
       "    <tr>\n",
       "      <th>959</th>\n",
       "      <td>제일신 사랑하는 벗이여 전번 평안하다는 편지를 부친 후 사흘만에 병이 들었다가 오늘...</td>\n",
       "    </tr>\n",
       "    <tr>\n",
       "      <th>960</th>\n",
       "      <td>메리 년 가을이었다 명치학원 중학부 이학년생 열어섯 살 되는 소년 김동인은 동경 지...</td>\n",
       "    </tr>\n",
       "  </tbody>\n",
       "</table>\n",
       "<p>961 rows × 1 columns</p>\n",
       "</div>"
      ],
      "text/plain": [
       "                                                    정제\n",
       "0    \"나는 알쏭달쏭 미술관 관장 '다다'란다. 이곳은 신기하고 괴상한 작품으로 가득하지...\n",
       "1    방정환은 어려서부터 책을 참 좋아했어요. 다섯 살 때는 할아버지한테 천재문을 배웠죠...\n",
       "2    텔레비전도 재미있는 그림책도 없었던 옛날의 어린이들은 무엇을 하고 놀았을까요? \"옛...\n",
       "3    \"따뜻한 봄바람이 살랑살랑 불고 겨울에 움츠렸던 몸이 움찔움찔. 얘들아 나랑 놀자 ...\n",
       "4    우리 할아버지입니다. 어려서부터 나는 할아버지와 한 방을 썼어요. 할아버지는 늘 신...\n",
       "..                                                 ...\n",
       "956  민족의 죄인 그동안까지는 단순히 나는 하여커나 죄인이거니 하여 면목 없는 마음 반성...\n",
       "957  “호―” 새로 사온 것이라 등피에서는 아직 석유내도 나지 않는다 닦을 것도 별로 없...\n",
       "958  冷 냉동어── 딸의 이름 ──바다를 향수하고 딸의 이름 징상을 얻다 ××빌딩 맨 위...\n",
       "959  제일신 사랑하는 벗이여 전번 평안하다는 편지를 부친 후 사흘만에 병이 들었다가 오늘...\n",
       "960  메리 년 가을이었다 명치학원 중학부 이학년생 열어섯 살 되는 소년 김동인은 동경 지...\n",
       "\n",
       "[961 rows x 1 columns]"
      ]
     },
     "execution_count": 34,
     "metadata": {},
     "output_type": "execute_result"
    }
   ],
   "source": [
    "final_df.info()\n",
    "final_df"
   ]
  },
  {
   "cell_type": "code",
   "execution_count": 38,
   "id": "b322ee2e",
   "metadata": {},
   "outputs": [
    {
     "data": {
      "text/plain": [
       "'연분 \"여바라 방자야\" 하고 책상 위에 펴놓은 책도 보는 듯 마는 듯 우두커니 하고 무엇을 생각하고 앉았던 몽룡은 소리를 치었다 \"여이\" 하고 익살덩어리로 생긴 방자가 어깨짓을 하고 뛰어 들어와 책방 층계 앞에 읍하고 선다 몽룡은 책상 위에 들어오는 볕을 막노라고 반쯤 닫히었던 영창을 성가신 듯이 와락 밀며 \"얘 너의 남원 고을에 어디 볼 만한 것이 없느냐\" 방자는 의외에 말을 듣는 듯이 고개를 숙인 대로 눈을 치떠서 물끄러미 몽룡을 치어다보더니 \"소인의 골엔들 어찌 볼 만한 곳이 없을 리가 있읍니까 산으로 가오면 나물 캐는 것도 볼 만하옵고 들로 가오면 농사짓는 것도 볼 만하옵고 우물로 나가오면 여편네들 물 길어 놓고 밥솥에 밥 눗는 것도 다 잊어버리고 수다 늘어 놓는 것도 볼 만하옵고 또 행길로 나가오면 술주정군이 술 주정하는 것 술취한 남편 붙들고 내외 싸움하는 것도 볼 만하옵고\" \"에라 이놈아\" 하고 몽룡은 괘씸한 듯이 책상을 딱 치며 누가 그런 소리 너더러 줏어대라드냐 어디 경치 볼만한 곳이 있느냐 말이다—어 그놈 \"네 그렇거든 애시에 그렇게 말씀하실 께지 소인인들 힘들여 번 밥 먹은 기운을 헛소리에 다 써버리고 싶을 리가 있겠읍니까 소인의 골에 경치 볼 만한 곳으로 말씀하오면 북문 밖에 조종산성 좋다 하옵고 서문 밖에 관왕묘도 그럴 듯하다 하오나 제일 이름이 높기로는 남문 밖 나서서 광한루와 오작교온데 경개 절승하옵니다 과시 삼남에 제일 명승지라 할 만하옵지요\" \"광한루라 광한루 오작교 오작교\" 하고 몽룡은 혼자 입속으로 불러 보더니 \"얘 광한루 오작교 이름이 좋다—광한루로 나가자 나귀 안장 지어라\" 이 말에 크게 놀라는 듯이 방자가 껑충 뛰며 \"도련님 큰일날 말씀 마시오—뉘 밥줄을 끊고 다리 마댕 이를 분지르실 양으로 그런 말씀을 하시오 사또게서 들으 시면 마른 하늘에 벼락이 내릴 것이요 또 공부하시는 도련님이 공부나 하실 게지 좋은 경치는 찾아 무엇하시려요\" 하고 바로 몽룡을 경계하는 어조다 서로 상하의 구별을 잊고 그만큼 친해진 것이다 \"공부하는 사람은 경치 구경도 못 간다드냐 좋은 경치를 대하여야 좋은 글이 나오는 것이다—네가 무엇을 알겠느냐 사또 분부는 내 수쇄하마 어서 나귀 안장 짓고 공방 주모 관청빗 불러서 자리와 술과 안주 준비하라고 일러라\" 하고 몽룡은 벌써 일어나서 옷을 입는다 몽룡은 생명주 겹바지에 당베 중의 받쳐 입고 옥색 항라 겹저고리 옷고름에 약랑을 차고 남갑사 수향배자에 옥단추를 달아 입고 당모시 중추막에 생초 긴 옷을 받쳐 입고 송금단 허리띠에 모초단 두리낭자 주황당사 벌매듭 끈을 달아차고 널찍한 자주갑사 띠를 느슨히 매었는데 나귀가 걸음을 빨리 걸을 때마다 띠끝이 석웅황 박은 숙갑사 토막 댕기와 어울려서 펄펄 날린다 \"사또 자제 사또 자제\" 하고 나귀가 지나가면 길가 사람들이 모두 부러운 듯이 우러러본다 오늘이 오월 단오라 울긋불긋 새옷 입은 아이들은 떼를 모아 몽룡의 나귀를 따라온다 사또자제 이 도령이 얼굴 잘생기고 재주 있다 하는 것은 남원 부내에서 모르는 사람이 없었다 그의 희고 넓은 이마 광채 있는 눈 높은 코하며 후리후리한 키하며 아직 나이는 열 여섯 살이라 애티는 있지마는 과연 호남자의 풍격이 있었다 사람들이 자기를 모두 우러러볼 때에 몽룡도 기뻤다 잘 났다 재주 있다 하는 말을 어려서부터 들어온 몽룡은 조선 팔도에 자기가 으뜸인 것같이 생각하였고 장차 자기는 글 잘하고 벼슬 높은 사람이 되어 이름이 크게 떨칠 것을 스스로 믿었다 몽룡은 의기 양양하여 일부러 나귀를 천천히 천천히 몰고 분홍당지 숭두선을 헌거로이 부치면서 광한루로 향하였다 광한루는 처음에는 잘 지었던 모양이나 매우 퇴락하여서 단청도 다 벗겨지고 기왓고랑에 묵은 풀이 우거지었으며 마루청 널조차 여기저기 떨어져 버렸다 몽룡은 방자가 자리를 까는 동안에 마루로 이리저리 거닐며 사방의 경치도 바라보고 들어와 벽에 붙인 글귀와 지나 간 사람들의 성명 새겨 붙인 것도 보더니 매우 볼 만한 듯이 \"여봐라 방자야\" 하고 방자를 부른다 \"여이\" 광한루라고 이름만 좋았지 어디 좋은 것 있느냐 네가 이것을 삼남 제일 승지라 하니 과연 상놈의 눈이다 방자는 몽룡의 얼굴에 볼만한 빛이 있는 것을 보고 가장 수심된 듯이 두 어깨를 축 늘이고 \"그러길래 소인이 여쭈었지요—공부하시는 도련님이 가만히 글이나 읽고 계실 것이지 승지 찾으시기 당치 않다고 아직 도련님께서 경치 보시는 눈이 열리지를 못하셨으니까 \" 하고 손으로 뒤통수를 긁으며 혀를 끌끌 찬다 몽룡은 기감 막혀 웃으며 \"어디 경치 잘 보는 네 이야기 좀 들어 보자—네 눈에는 광한루가 그렇게 좋으냐\" \"좋다 뿐이겠소\" 하고 방자는 혹은 왼편 팔을 들어 왼쪽을 가리키고 혹은 오른편 팔을 들어 오른쪽을 가리키고 혹은 고개를 번쩍 들어 하늘을 우러러보며 혹은 손가락을 빳빳이 해가지고 땅을 가리키면서 노랫가락으로 광한루의 좋은 연유를 설명한다— \"가까운 산은 초록이요 먼 산은 퍼렁이요 훨쩍 더 먼 산은 회색이라 가까운 산에 아지랑이요 먼 산에 안개오니 동남서 삼방으로 둘러선 첩첩 산이 그 아니 좋사오며 일망 무제 넓은 들에 물 있으면 논이 되고 물 없으면 밭이 되어 도련님네 같으신 양반님네 진지 짓는 벼며 소인네 같은 상놈들이 먹는 밥이 되는 조와 피와 보리 밀 파릇파릇 자라 나니 그 아니 좋은 경치오며 꽃 피는 산을랑 등에 지고 붕어 메에기 송사리떼 노는 개천을랑 앞에 두고 무거운 기와도 말고 끌어 오기 어려운 돌도 말고 가볍고 아무 데나 있는 풀과 흙으로만 지은 농가가 둘씩 셋씩 셋씩 둘씩 조는 듯이 꿈꾸는 듯이 배부른 송아지들처럼 풀 속에 누웠느니 그 아니 절묘한 경치오며 눈을 들어 우러러보오면 연옥색 하늘에 양떼 같은 구름 점이 오락가락 널려 있고 이따금 이렇게 서늘한 바람이 슬슬 불어와 소인의 등에 맺힌 향기로운 땀을 씻어 가니 그 아니 상쾌한 경치요 게다가 이름조차 광한루에 좋은 술과 안주까지 있으니 이런 좋은 경치가 또 있겠소 어깨춤이 절로 나네 좋을 좋을 좋을씨고\" 하고 얼씬얼씬 춤을 춘다 \"허 그놈\" 하고 말없이 듣던 몽룡은 방자의 어깨를 툭 치며 \"얘 너 그런 재담을 다 어디서 배웠니\" 방자 춤추기를 그치고 시치미를 뚝 떼며 \"말씀이야 바로 소인의 고을에 무슨 그리 좋은 경치가 있겠읍니까 그'"
      ]
     },
     "execution_count": 38,
     "metadata": {},
     "output_type": "execute_result"
    }
   ],
   "source": [
    "final_df['정제'][861]"
   ]
  },
  {
   "cell_type": "code",
   "execution_count": 8,
   "id": "d11afb2b",
   "metadata": {},
   "outputs": [],
   "source": [
    "def cleaning(df, column):\n",
    "    text = df[column]\n",
    "    clean_text = []\n",
    "    for i in range(len(text)):\n",
    "        data = str(text[i])\n",
    "        data = data.replace('\\n',\" \")\n",
    "        data = data.replace('\\t',\" \")\n",
    "        clean_text.append(data)\n",
    "    raw_data = {'동화':clean_text}\n",
    "    final_dataset = pd.DataFrame(raw_data)\n",
    "    return final_dataset"
   ]
  },
  {
   "cell_type": "code",
   "execution_count": 9,
   "id": "d1868c18",
   "metadata": {},
   "outputs": [
    {
     "data": {
      "text/html": [
       "<div>\n",
       "<style scoped>\n",
       "    .dataframe tbody tr th:only-of-type {\n",
       "        vertical-align: middle;\n",
       "    }\n",
       "\n",
       "    .dataframe tbody tr th {\n",
       "        vertical-align: top;\n",
       "    }\n",
       "\n",
       "    .dataframe thead th {\n",
       "        text-align: right;\n",
       "    }\n",
       "</style>\n",
       "<table border=\"1\" class=\"dataframe\">\n",
       "  <thead>\n",
       "    <tr style=\"text-align: right;\">\n",
       "      <th></th>\n",
       "      <th>동화</th>\n",
       "    </tr>\n",
       "  </thead>\n",
       "  <tbody>\n",
       "    <tr>\n",
       "      <th>0</th>\n",
       "      <td>\"나는 알쏭달쏭 미술관 관장 '다다'란다. 이곳은 신기하고 괴상한 작품으로 가득하지...</td>\n",
       "    </tr>\n",
       "    <tr>\n",
       "      <th>1</th>\n",
       "      <td>방정환은 어려서부터 책을 참 좋아했어요. 다섯 살 때는 할아버지한테 천재문을 배웠죠...</td>\n",
       "    </tr>\n",
       "    <tr>\n",
       "      <th>2</th>\n",
       "      <td>텔레비전도 재미있는 그림책도 없었던 옛날의 어린이들은 무엇을 하고 놀았을까요? \"옛...</td>\n",
       "    </tr>\n",
       "    <tr>\n",
       "      <th>3</th>\n",
       "      <td>\"따뜻한 봄바람이 살랑살랑 불고 겨울에 움츠렸던 몸이 움찔움찔. 얘들아 나랑 놀자 ...</td>\n",
       "    </tr>\n",
       "    <tr>\n",
       "      <th>4</th>\n",
       "      <td>우리 할아버지입니다. 어려서부터 나는 할아버지와 한 방을 썼어요. 할아버지는 늘 신...</td>\n",
       "    </tr>\n",
       "    <tr>\n",
       "      <th>...</th>\n",
       "      <td>...</td>\n",
       "    </tr>\n",
       "    <tr>\n",
       "      <th>956</th>\n",
       "      <td>민족의 죄인 그동안까지는 단순히 나는 하여커나 죄인이거니 하여 면목 없는 마음 반성...</td>\n",
       "    </tr>\n",
       "    <tr>\n",
       "      <th>957</th>\n",
       "      <td>“호―” 새로 사온 것이라 등피에서는 아직 석유내도 나지 않는다 닦을 것도 별로 없...</td>\n",
       "    </tr>\n",
       "    <tr>\n",
       "      <th>958</th>\n",
       "      <td>冷 냉동어── 딸의 이름 ──바다를 향수하고 딸의 이름 징상을 얻다 ××빌딩 맨 위...</td>\n",
       "    </tr>\n",
       "    <tr>\n",
       "      <th>959</th>\n",
       "      <td>제일신 사랑하는 벗이여 전번 평안하다는 편지를 부친 후 사흘만에 병이 들었다가 오늘...</td>\n",
       "    </tr>\n",
       "    <tr>\n",
       "      <th>960</th>\n",
       "      <td>메리 년 가을이었다 명치학원 중학부 이학년생 열어섯 살 되는 소년 김동인은 동경 지...</td>\n",
       "    </tr>\n",
       "  </tbody>\n",
       "</table>\n",
       "<p>961 rows × 1 columns</p>\n",
       "</div>"
      ],
      "text/plain": [
       "                                                    동화\n",
       "0    \"나는 알쏭달쏭 미술관 관장 '다다'란다. 이곳은 신기하고 괴상한 작품으로 가득하지...\n",
       "1    방정환은 어려서부터 책을 참 좋아했어요. 다섯 살 때는 할아버지한테 천재문을 배웠죠...\n",
       "2    텔레비전도 재미있는 그림책도 없었던 옛날의 어린이들은 무엇을 하고 놀았을까요? \"옛...\n",
       "3    \"따뜻한 봄바람이 살랑살랑 불고 겨울에 움츠렸던 몸이 움찔움찔. 얘들아 나랑 놀자 ...\n",
       "4    우리 할아버지입니다. 어려서부터 나는 할아버지와 한 방을 썼어요. 할아버지는 늘 신...\n",
       "..                                                 ...\n",
       "956  민족의 죄인 그동안까지는 단순히 나는 하여커나 죄인이거니 하여 면목 없는 마음 반성...\n",
       "957  “호―” 새로 사온 것이라 등피에서는 아직 석유내도 나지 않는다 닦을 것도 별로 없...\n",
       "958  冷 냉동어── 딸의 이름 ──바다를 향수하고 딸의 이름 징상을 얻다 ××빌딩 맨 위...\n",
       "959  제일신 사랑하는 벗이여 전번 평안하다는 편지를 부친 후 사흘만에 병이 들었다가 오늘...\n",
       "960  메리 년 가을이었다 명치학원 중학부 이학년생 열어섯 살 되는 소년 김동인은 동경 지...\n",
       "\n",
       "[961 rows x 1 columns]"
      ]
     },
     "execution_count": 9,
     "metadata": {},
     "output_type": "execute_result"
    }
   ],
   "source": [
    "final_df = cleaning(final_df, '정제')\n",
    "final_df"
   ]
  },
  {
   "cell_type": "code",
   "execution_count": 29,
   "id": "53d719c4",
   "metadata": {},
   "outputs": [],
   "source": [
    "final_df.to_csv('dataset_0912.csv')"
   ]
  },
  {
   "cell_type": "markdown",
   "id": "e3216058",
   "metadata": {},
   "source": [
    "# 1. Sentiment Analysis로 부정적 내용 제거 "
   ]
  },
  {
   "cell_type": "code",
   "execution_count": null,
   "id": "86c3995e",
   "metadata": {},
   "outputs": [],
   "source": [
    "# 저장된 모델 zip파일 다운로드\n",
    "from google.colab import files\n",
    "files.download('/content/sample_data/my_models.zip')"
   ]
  },
  {
   "cell_type": "code",
   "execution_count": null,
   "id": "61e28f2e",
   "metadata": {},
   "outputs": [],
   "source": [
    "INPUT_TEST_DATA = 'nsmc_test_input.npy'\n",
    "LABEL_TEST_DATA = 'nsmc_test_label.npy'\n",
    "SAVE_FILE_NM = 'weights.h5'\n",
    "\n",
    "test_input = np.load(open(DATA_PATH+INPUT_TEST_DATA,'rb'))\n",
    "test_input = pad_sequences(test_input,maxlen=test_input.shape[1])\n",
    "test_label_data = np.load(open(DATA_PATH + LABEL_TEST_DATA, 'rb'))"
   ]
  },
  {
   "cell_type": "code",
   "execution_count": null,
   "id": "45a8dccd",
   "metadata": {},
   "outputs": [],
   "source": [
    "model.load_weights('/content/sample_data/DATA_OUT/cnn_classifier_kr\\weights.h5')\n",
    "model.evaluate(test_input, test_label_data)"
   ]
  },
  {
   "cell_type": "code",
   "execution_count": null,
   "id": "8259e78c",
   "metadata": {},
   "outputs": [],
   "source": [
    "import csv"
   ]
  },
  {
   "cell_type": "code",
   "execution_count": null,
   "id": "bb0f247b",
   "metadata": {},
   "outputs": [],
   "source": [
    "def read_txt(file_path):\n",
    "    with open(file_path, 'r', encoding =\"UTF-8\") as f:\n",
    "        fr = f.read()\n",
    "    return fr\n",
    "\n",
    "def read_csv(file_path):\n",
    "    fr = pd.read_csv(file_path, encoding = \"windows-1252\")\n",
    "    return fr"
   ]
  },
  {
   "cell_type": "code",
   "execution_count": null,
   "id": "3ef0e344",
   "metadata": {},
   "outputs": [],
   "source": [
    "import pandas as pd\n",
    "\n",
    "# 여러개 시트를 취득\n",
    "stories = pd.read_excel('/content/sample_data/DATA/tmp_dataset.xlsx')\n",
    "stories"
   ]
  },
  {
   "cell_type": "code",
   "execution_count": null,
   "id": "ac752260",
   "metadata": {},
   "outputs": [],
   "source": [
    "import numpy as np\n",
    "import pandas as pd\n",
    "import re\n",
    "import json\n",
    "from konlpy.tag import Okt\n",
    "from tensorflow.keras.preprocessing.sequence import pad_sequences\n",
    "from tensorflow.keras.preprocessing.text import Tokenizer\n",
    "\n",
    "negative_story = []\n",
    "\n",
    "okt = Okt()\n",
    "tokenizer  = Tokenizer()\n",
    "\n",
    "DATA_CONFIGS = 'data_configs.json'\n",
    "prepro_configs = json.load(open('/content/sample_data/CLEAN_DATA/'+DATA_CONFIGS,'r'))\n",
    "prepro_configs['vocab'] = word_vocab\n",
    "\n",
    "tokenizer.fit_on_texts(word_vocab)\n",
    "\n",
    "MAX_LENGTH = 1000 #문장최대길이\n",
    "\n",
    "#sentence = input('감성분석할 문장을 입력해 주세요.: ')\n",
    "#print(sentence)\n",
    "#sentence = re.sub(r'[^ㄱ-ㅎㅏ-ㅣ가-힣\\\\s ]','', sentence)\n",
    "stopwords = ['은','는','이','가','하','아','것','들','의','있','되','수','보','주','등','한'] # 불용어 추가할 것이 있으면 이곳에 추가\n",
    "#sentence = okt.morphs(sentence, stem=True) # 토큰화\n",
    "#sentence = [word for word in sentence if not word in stopwords] # 불용어 제거\n",
    "#vector  = tokenizer.texts_to_sequences(sentence)\n",
    "#pad_new = pad_sequences(vector, maxlen = MAX_LENGTH) # 패딩\n",
    "#print('변환된 문자 결과값: ',pad_new)\n",
    "model.load_weights('/content/sample_data/DATA_OUT/cnn_classifier_kr\\weights.h5') #모델 불러오기\n",
    "\n",
    "for i in range(len(stories)):\n",
    "  sentence = stories[0][i]\n",
    "  sentence = re.sub(r'[^ㄱ-ㅎㅏ-ㅣ가-힣\\\\s ]','', sentence)\n",
    "  sentence = okt.morphs(sentence, stem=True) # 토큰화\n",
    "  sentence = [word for word in sentence if not word in stopwords] # 불용어 제거\n",
    "  vector  = tokenizer.texts_to_sequences(sentence)\n",
    "  pad_new = pad_sequences(vector, maxlen = MAX_LENGTH) # 패딩\n",
    "  predictions = model.predict(pad_new)\n",
    "  predictions = float(predictions.squeeze(-1)[1])\n",
    "  #print(predictions)\n",
    "  if(predictions <= 0.2):\n",
    "    print(\"{:.2f}% 확률로 부정 리뷰입니다.\\n\".format((1 - predictions) * 100))\n",
    "    print(sentence)\n",
    "    negative_story.append([i,stories[0][i],1-predictions])"
   ]
  },
  {
   "cell_type": "code",
   "execution_count": null,
   "id": "bfdb958f",
   "metadata": {},
   "outputs": [],
   "source": [
    "negative_story"
   ]
  },
  {
   "cell_type": "markdown",
   "id": "4cd352ff",
   "metadata": {},
   "source": [
    "# 2. Unsmile로 혐오 표현 데이터셋 제거"
   ]
  },
  {
   "cell_type": "code",
   "execution_count": 12,
   "id": "c90c4984",
   "metadata": {},
   "outputs": [
    {
     "data": {
      "text/plain": [
       "'C:\\\\Users\\\\이육샛별\\\\Franklin\\\\KoFairytaleGenerator\\\\Dataset'"
      ]
     },
     "execution_count": 12,
     "metadata": {},
     "output_type": "execute_result"
    }
   ],
   "source": [
    "import os\n",
    "os.getcwd()"
   ]
  },
  {
   "cell_type": "code",
   "execution_count": 14,
   "id": "a2927ff5",
   "metadata": {},
   "outputs": [
    {
     "name": "stderr",
     "output_type": "stream",
     "text": [
      "'nvidia-smi'은(는) 내부 또는 외부 명령, 실행할 수 있는 프로그램, 또는\n",
      "배치 파일이 아닙니다.\n"
     ]
    }
   ],
   "source": [
    "import torch\n",
    "\n",
    "torch.__version__\n",
    "torch.cuda.is_available()\n",
    "!nvidia-smi"
   ]
  },
  {
   "cell_type": "code",
   "execution_count": 15,
   "id": "cda62061",
   "metadata": {},
   "outputs": [
    {
     "data": {
      "text/plain": [
       "['C:\\\\Users\\\\이육샛별\\\\Franklin\\\\KoFairytaleGenerator\\\\Dataset',\n",
       " 'c:\\\\users\\\\이육샛별\\\\appdata\\\\local\\\\programs\\\\python\\\\python37\\\\python37.zip',\n",
       " 'c:\\\\users\\\\이육샛별\\\\appdata\\\\local\\\\programs\\\\python\\\\python37\\\\DLLs',\n",
       " 'c:\\\\users\\\\이육샛별\\\\appdata\\\\local\\\\programs\\\\python\\\\python37\\\\lib',\n",
       " 'c:\\\\users\\\\이육샛별\\\\appdata\\\\local\\\\programs\\\\python\\\\python37',\n",
       " '',\n",
       " 'C:\\\\Users\\\\이육샛별\\\\AppData\\\\Roaming\\\\Python\\\\Python37\\\\site-packages',\n",
       " 'c:\\\\users\\\\이육샛별\\\\appdata\\\\local\\\\programs\\\\python\\\\python37\\\\lib\\\\site-packages',\n",
       " 'c:\\\\users\\\\이육샛별\\\\appdata\\\\local\\\\programs\\\\python\\\\python37\\\\lib\\\\site-packages\\\\win32',\n",
       " 'c:\\\\users\\\\이육샛별\\\\appdata\\\\local\\\\programs\\\\python\\\\python37\\\\lib\\\\site-packages\\\\win32\\\\lib',\n",
       " 'c:\\\\users\\\\이육샛별\\\\appdata\\\\local\\\\programs\\\\python\\\\python37\\\\lib\\\\site-packages\\\\Pythonwin',\n",
       " 'c:\\\\users\\\\이육샛별\\\\appdata\\\\local\\\\programs\\\\python\\\\python37\\\\lib\\\\site-packages\\\\IPython\\\\extensions',\n",
       " 'C:\\\\Users\\\\이육샛별\\\\.ipython']"
      ]
     },
     "execution_count": 15,
     "metadata": {},
     "output_type": "execute_result"
    }
   ],
   "source": [
    "import sys\n",
    "sys.path"
   ]
  },
  {
   "cell_type": "code",
   "execution_count": 16,
   "id": "866cbc92",
   "metadata": {},
   "outputs": [],
   "source": [
    "import gc\n",
    "import wandb\n",
    "import pandas as pd\n",
    "import torch.cuda"
   ]
  },
  {
   "cell_type": "code",
   "execution_count": 17,
   "id": "1b5f2c4f",
   "metadata": {},
   "outputs": [],
   "source": [
    "def read_txt(file_path):\n",
    "    with open(file_path, 'r', encoding =\"UTF-8\") as f:\n",
    "        fr = f.read()\n",
    "    return fr\n",
    "\n",
    "def read_csv(file_path):\n",
    "    fr = pd.read_csv(file_path, encoding = \"utf-8\")\n",
    "    return fr"
   ]
  },
  {
   "cell_type": "code",
   "execution_count": 18,
   "id": "d86a46b3",
   "metadata": {},
   "outputs": [
    {
     "data": {
      "text/html": [
       "<div>\n",
       "<style scoped>\n",
       "    .dataframe tbody tr th:only-of-type {\n",
       "        vertical-align: middle;\n",
       "    }\n",
       "\n",
       "    .dataframe tbody tr th {\n",
       "        vertical-align: top;\n",
       "    }\n",
       "\n",
       "    .dataframe thead th {\n",
       "        text-align: right;\n",
       "    }\n",
       "</style>\n",
       "<table border=\"1\" class=\"dataframe\">\n",
       "  <thead>\n",
       "    <tr style=\"text-align: right;\">\n",
       "      <th></th>\n",
       "      <th>Unnamed: 0</th>\n",
       "      <th>동화</th>\n",
       "    </tr>\n",
       "  </thead>\n",
       "  <tbody>\n",
       "    <tr>\n",
       "      <th>0</th>\n",
       "      <td>0</td>\n",
       "      <td>\"나는 알쏭달쏭 미술관 관장 '다다'란다. 이곳은 신기하고 괴상한 작품으로 가득하지...</td>\n",
       "    </tr>\n",
       "    <tr>\n",
       "      <th>1</th>\n",
       "      <td>1</td>\n",
       "      <td>방정환은 어려서부터 책을 참 좋아했어요. 다섯 살 때는 할아버지한테 천재문을 배웠죠...</td>\n",
       "    </tr>\n",
       "    <tr>\n",
       "      <th>2</th>\n",
       "      <td>2</td>\n",
       "      <td>텔레비전도 재미있는 그림책도 없었던 옛날의 어린이들은 무엇을 하고 놀았을까요? \"옛...</td>\n",
       "    </tr>\n",
       "    <tr>\n",
       "      <th>3</th>\n",
       "      <td>3</td>\n",
       "      <td>\"따뜻한 봄바람이 살랑살랑 불고 겨울에 움츠렸던 몸이 움찔움찔. 얘들아 나랑 놀자 ...</td>\n",
       "    </tr>\n",
       "    <tr>\n",
       "      <th>4</th>\n",
       "      <td>4</td>\n",
       "      <td>우리 할아버지입니다. 어려서부터 나는 할아버지와 한 방을 썼어요. 할아버지는 늘 신...</td>\n",
       "    </tr>\n",
       "    <tr>\n",
       "      <th>...</th>\n",
       "      <td>...</td>\n",
       "      <td>...</td>\n",
       "    </tr>\n",
       "    <tr>\n",
       "      <th>956</th>\n",
       "      <td>956</td>\n",
       "      <td>민족의 죄인 그동안까지는 단순히 나는 하여커나 죄인이거니 하여 면목 없는 마음 반성...</td>\n",
       "    </tr>\n",
       "    <tr>\n",
       "      <th>957</th>\n",
       "      <td>957</td>\n",
       "      <td>“호―” 새로 사온 것이라 등피에서는 아직 석유내도 나지 않는다 닦을 것도 별로 없...</td>\n",
       "    </tr>\n",
       "    <tr>\n",
       "      <th>958</th>\n",
       "      <td>958</td>\n",
       "      <td>冷 냉동어── 딸의 이름 ──바다를 향수하고 딸의 이름 징상을 얻다 ××빌딩 맨 위...</td>\n",
       "    </tr>\n",
       "    <tr>\n",
       "      <th>959</th>\n",
       "      <td>959</td>\n",
       "      <td>제일신 사랑하는 벗이여 전번 평안하다는 편지를 부친 후 사흘만에 병이 들었다가 오늘...</td>\n",
       "    </tr>\n",
       "    <tr>\n",
       "      <th>960</th>\n",
       "      <td>960</td>\n",
       "      <td>메리 년 가을이었다 명치학원 중학부 이학년생 열어섯 살 되는 소년 김동인은 동경 지...</td>\n",
       "    </tr>\n",
       "  </tbody>\n",
       "</table>\n",
       "<p>961 rows × 2 columns</p>\n",
       "</div>"
      ],
      "text/plain": [
       "     Unnamed: 0                                                 동화\n",
       "0             0  \"나는 알쏭달쏭 미술관 관장 '다다'란다. 이곳은 신기하고 괴상한 작품으로 가득하지...\n",
       "1             1  방정환은 어려서부터 책을 참 좋아했어요. 다섯 살 때는 할아버지한테 천재문을 배웠죠...\n",
       "2             2  텔레비전도 재미있는 그림책도 없었던 옛날의 어린이들은 무엇을 하고 놀았을까요? \"옛...\n",
       "3             3  \"따뜻한 봄바람이 살랑살랑 불고 겨울에 움츠렸던 몸이 움찔움찔. 얘들아 나랑 놀자 ...\n",
       "4             4  우리 할아버지입니다. 어려서부터 나는 할아버지와 한 방을 썼어요. 할아버지는 늘 신...\n",
       "..          ...                                                ...\n",
       "956         956  민족의 죄인 그동안까지는 단순히 나는 하여커나 죄인이거니 하여 면목 없는 마음 반성...\n",
       "957         957  “호―” 새로 사온 것이라 등피에서는 아직 석유내도 나지 않는다 닦을 것도 별로 없...\n",
       "958         958  冷 냉동어── 딸의 이름 ──바다를 향수하고 딸의 이름 징상을 얻다 ××빌딩 맨 위...\n",
       "959         959  제일신 사랑하는 벗이여 전번 평안하다는 편지를 부친 후 사흘만에 병이 들었다가 오늘...\n",
       "960         960  메리 년 가을이었다 명치학원 중학부 이학년생 열어섯 살 되는 소년 김동인은 동경 지...\n",
       "\n",
       "[961 rows x 2 columns]"
      ]
     },
     "execution_count": 18,
     "metadata": {},
     "output_type": "execute_result"
    }
   ],
   "source": [
    "stories = read_csv('dataset_0902.csv')\n",
    "stories"
   ]
  },
  {
   "cell_type": "code",
   "execution_count": 19,
   "id": "f52ab8b1",
   "metadata": {},
   "outputs": [
    {
     "name": "stdout",
     "output_type": "stream",
     "text": [
      "Collecting datasets==1.17.0\n",
      "  Downloading datasets-1.17.0-py3-none-any.whl (306 kB)\n",
      "     -------------------------------------- 306.3/306.3 kB 6.3 MB/s eta 0:00:00\n",
      "Collecting dill\n",
      "  Downloading dill-0.3.5.1-py2.py3-none-any.whl (95 kB)\n",
      "     ---------------------------------------- 95.8/95.8 kB 5.3 MB/s eta 0:00:00\n",
      "Requirement already satisfied: requests>=2.19.0 in c:\\users\\이육샛별\\appdata\\local\\programs\\python\\python37\\lib\\site-packages (from datasets==1.17.0) (2.28.1)\n",
      "Collecting xxhash\n",
      "  Downloading xxhash-3.0.0-cp37-cp37m-win_amd64.whl (29 kB)\n",
      "Collecting pyarrow!=4.0.0,>=3.0.0\n",
      "  Downloading pyarrow-9.0.0-cp37-cp37m-win_amd64.whl (19.5 MB)\n",
      "     --------------------------------------- 19.5/19.5 MB 14.2 MB/s eta 0:00:00\n",
      "Requirement already satisfied: numpy>=1.17 in c:\\users\\이육샛별\\appdata\\local\\programs\\python\\python37\\lib\\site-packages (from datasets==1.17.0) (1.21.6)\n",
      "Requirement already satisfied: pandas in c:\\users\\이육샛별\\appdata\\local\\programs\\python\\python37\\lib\\site-packages (from datasets==1.17.0) (1.1.5)\n",
      "Requirement already satisfied: packaging in c:\\users\\이육샛별\\appdata\\local\\programs\\python\\python37\\lib\\site-packages (from datasets==1.17.0) (21.3)\n",
      "Collecting huggingface-hub<1.0.0,>=0.1.0\n",
      "  Downloading huggingface_hub-0.9.1-py3-none-any.whl (120 kB)\n",
      "     -------------------------------------- 120.7/120.7 kB 3.6 MB/s eta 0:00:00\n",
      "Collecting multiprocess\n",
      "  Downloading multiprocess-0.70.13-py37-none-any.whl (115 kB)\n",
      "     -------------------------------------- 115.1/115.1 kB 7.0 MB/s eta 0:00:00\n",
      "Collecting fsspec[http]>=2021.05.0\n",
      "  Downloading fsspec-2022.8.2-py3-none-any.whl (140 kB)\n",
      "     -------------------------------------- 140.8/140.8 kB 8.2 MB/s eta 0:00:00\n",
      "Requirement already satisfied: tqdm>=4.62.1 in c:\\users\\이육샛별\\appdata\\local\\programs\\python\\python37\\lib\\site-packages (from datasets==1.17.0) (4.64.0)\n",
      "Requirement already satisfied: importlib-metadata in c:\\users\\이육샛별\\appdata\\local\\programs\\python\\python37\\lib\\site-packages (from datasets==1.17.0) (4.12.0)\n",
      "Collecting aiohttp\n",
      "  Downloading aiohttp-3.8.1-cp37-cp37m-win_amd64.whl (551 kB)\n",
      "     -------------------------------------- 551.8/551.8 kB 6.9 MB/s eta 0:00:00\n",
      "Collecting multidict<7.0,>=4.5\n",
      "  Downloading multidict-6.0.2-cp37-cp37m-win_amd64.whl (27 kB)\n",
      "Collecting yarl<2.0,>=1.0\n",
      "  Downloading yarl-1.8.1-cp37-cp37m-win_amd64.whl (56 kB)\n",
      "     ---------------------------------------- 56.3/56.3 kB 3.1 MB/s eta 0:00:00\n",
      "Collecting asynctest==0.13.0\n",
      "  Downloading asynctest-0.13.0-py3-none-any.whl (26 kB)\n",
      "Requirement already satisfied: charset-normalizer<3.0,>=2.0 in c:\\users\\이육샛별\\appdata\\local\\programs\\python\\python37\\lib\\site-packages (from aiohttp->datasets==1.17.0) (2.1.0)\n",
      "Requirement already satisfied: attrs>=17.3.0 in c:\\users\\이육샛별\\appdata\\local\\programs\\python\\python37\\lib\\site-packages (from aiohttp->datasets==1.17.0) (22.1.0)\n",
      "Collecting frozenlist>=1.1.1\n",
      "  Downloading frozenlist-1.3.1-cp37-cp37m-win_amd64.whl (34 kB)\n",
      "Collecting aiosignal>=1.1.2\n",
      "  Downloading aiosignal-1.2.0-py3-none-any.whl (8.2 kB)\n",
      "Collecting async-timeout<5.0,>=4.0.0a3\n",
      "  Downloading async_timeout-4.0.2-py3-none-any.whl (5.8 kB)\n",
      "Requirement already satisfied: typing-extensions>=3.7.4 in c:\\users\\이육샛별\\appdata\\local\\programs\\python\\python37\\lib\\site-packages (from aiohttp->datasets==1.17.0) (4.1.1)\n",
      "Requirement already satisfied: filelock in c:\\users\\이육샛별\\appdata\\local\\programs\\python\\python37\\lib\\site-packages (from huggingface-hub<1.0.0,>=0.1.0->datasets==1.17.0) (3.7.1)\n",
      "Requirement already satisfied: pyyaml>=5.1 in c:\\users\\이육샛별\\appdata\\local\\programs\\python\\python37\\lib\\site-packages (from huggingface-hub<1.0.0,>=0.1.0->datasets==1.17.0) (6.0)\n",
      "Requirement already satisfied: pyparsing!=3.0.5,>=2.0.2 in c:\\users\\이육샛별\\appdata\\local\\programs\\python\\python37\\lib\\site-packages (from packaging->datasets==1.17.0) (3.0.9)\n",
      "Requirement already satisfied: certifi>=2017.4.17 in c:\\users\\이육샛별\\appdata\\local\\programs\\python\\python37\\lib\\site-packages (from requests>=2.19.0->datasets==1.17.0) (2022.6.15)\n",
      "Requirement already satisfied: idna<4,>=2.5 in c:\\users\\이육샛별\\appdata\\local\\programs\\python\\python37\\lib\\site-packages (from requests>=2.19.0->datasets==1.17.0) (3.3)\n",
      "Requirement already satisfied: urllib3<1.27,>=1.21.1 in c:\\users\\이육샛별\\appdata\\local\\programs\\python\\python37\\lib\\site-packages (from requests>=2.19.0->datasets==1.17.0) (1.26.11)\n",
      "Requirement already satisfied: colorama in c:\\users\\이육샛별\\appdata\\local\\programs\\python\\python37\\lib\\site-packages (from tqdm>=4.62.1->datasets==1.17.0) (0.4.5)\n",
      "Requirement already satisfied: zipp>=0.5 in c:\\users\\이육샛별\\appdata\\local\\programs\\python\\python37\\lib\\site-packages (from importlib-metadata->datasets==1.17.0) (3.8.1)\n",
      "Requirement already satisfied: python-dateutil>=2.7.3 in c:\\users\\이육샛별\\appdata\\local\\programs\\python\\python37\\lib\\site-packages (from pandas->datasets==1.17.0) (2.8.2)\n",
      "Requirement already satisfied: pytz>=2017.2 in c:\\users\\이육샛별\\appdata\\local\\programs\\python\\python37\\lib\\site-packages (from pandas->datasets==1.17.0) (2022.1)\n",
      "Requirement already satisfied: six>=1.5 in c:\\users\\이육샛별\\appdata\\local\\programs\\python\\python37\\lib\\site-packages (from python-dateutil>=2.7.3->pandas->datasets==1.17.0) (1.16.0)\n",
      "Installing collected packages: xxhash, pyarrow, multidict, fsspec, frozenlist, dill, asynctest, async-timeout, yarl, multiprocess, huggingface-hub, aiosignal, aiohttp, datasets\n",
      "Successfully installed aiohttp-3.8.1 aiosignal-1.2.0 async-timeout-4.0.2 asynctest-0.13.0 datasets-1.17.0 dill-0.3.5.1 frozenlist-1.3.1 fsspec-2022.8.2 huggingface-hub-0.9.1 multidict-6.0.2 multiprocess-0.70.13 pyarrow-9.0.0 xxhash-3.0.0 yarl-1.8.1\n"
     ]
    }
   ],
   "source": [
    "!pip install datasets==1.17.0"
   ]
  },
  {
   "cell_type": "code",
   "execution_count": 20,
   "id": "60becf24",
   "metadata": {},
   "outputs": [],
   "source": [
    "from transformers import AutoTokenizer, AutoModel\n",
    "from transformers import BertForSequenceClassification, TrainingArguments, Trainer\n",
    "import torch\n",
    "import numpy as np"
   ]
  },
  {
   "cell_type": "code",
   "execution_count": 21,
   "id": "626f38ef",
   "metadata": {},
   "outputs": [
    {
     "name": "stderr",
     "output_type": "stream",
     "text": [
      "Downloading: 100%|█████████████████████████████████████████████████████████████████| 1.58k/1.58k [00:00<00:00, 317kB/s]\n",
      "Using custom data configuration smilegate-ai--kor_unsmile-1dba960877497f9f\n"
     ]
    },
    {
     "name": "stdout",
     "output_type": "stream",
     "text": [
      "Downloading and preparing dataset None/None (download: 1.39 MiB, generated: 4.93 MiB, post-processed: Unknown size, total: 6.32 MiB) to C:\\Users\\이육샛별\\.cache\\huggingface\\datasets\\parquet\\smilegate-ai--kor_unsmile-1dba960877497f9f\\0.0.0\\1638526fd0e8d960534e2155dc54fdff8dce73851f21f031d2fb9c2cf757c121...\n"
     ]
    },
    {
     "name": "stderr",
     "output_type": "stream",
     "text": [
      "  0%|                                                                                            | 0/2 [00:00<?, ?it/s]\n",
      "Downloading:   0%|                                                                         | 0.00/1.16M [00:00<?, ?B/s]\u001b[A\n",
      "Downloading:   1%|▍                                                               | 8.19k/1.16M [00:00<00:28, 40.4kB/s]\u001b[A\n",
      "Downloading:   4%|██▍                                                              | 43.0k/1.16M [00:00<00:07, 150kB/s]\u001b[A\n",
      "Downloading:  11%|███████▍                                                          | 130k/1.16M [00:00<00:03, 318kB/s]\u001b[A\n",
      "Downloading:  25%|████████████████▎                                                 | 287k/1.16M [00:00<00:01, 555kB/s]\u001b[A\n",
      "Downloading: 100%|████████████████████████████████████████████████████████████████| 1.16M/1.16M [00:01<00:00, 1.16MB/s]\u001b[A\n",
      " 50%|██████████████████████████████████████████                                          | 1/2 [00:04<00:04,  4.89s/it]\n",
      "Downloading: 100%|██████████████████████████████████████████████████████████████████| 290k/290k [00:00<00:00, 6.31MB/s]\u001b[A\n",
      "100%|████████████████████████████████████████████████████████████████████████████████████| 2/2 [00:07<00:00,  3.85s/it]\n",
      "100%|███████████████████████████████████████████████████████████████████████████████████| 2/2 [00:00<00:00, 124.87it/s]\n"
     ]
    },
    {
     "name": "stdout",
     "output_type": "stream",
     "text": [
      "Dataset parquet downloaded and prepared to C:\\Users\\이육샛별\\.cache\\huggingface\\datasets\\parquet\\smilegate-ai--kor_unsmile-1dba960877497f9f\\0.0.0\\1638526fd0e8d960534e2155dc54fdff8dce73851f21f031d2fb9c2cf757c121. Subsequent calls will reuse this data.\n"
     ]
    },
    {
     "name": "stderr",
     "output_type": "stream",
     "text": [
      "100%|████████████████████████████████████████████████████████████████████████████████████| 2/2 [00:00<00:00, 25.49it/s]"
     ]
    },
    {
     "name": "stdout",
     "output_type": "stream",
     "text": [
      "DatasetDict({\n",
      "    train: Dataset({\n",
      "        features: ['문장', '여성/가족', '남성', '성소수자', '인종/국적', '연령', '지역', '종교', '기타 혐오', '악플/욕설', 'clean', '개인지칭', 'labels'],\n",
      "        num_rows: 15005\n",
      "    })\n",
      "    valid: Dataset({\n",
      "        features: ['문장', '여성/가족', '남성', '성소수자', '인종/국적', '연령', '지역', '종교', '기타 혐오', '악플/욕설', 'clean', '개인지칭', 'labels'],\n",
      "        num_rows: 3737\n",
      "    })\n",
      "})\n"
     ]
    },
    {
     "name": "stderr",
     "output_type": "stream",
     "text": [
      "\n"
     ]
    }
   ],
   "source": [
    "#smilegate Unsmile dataset\n",
    "#https://github.com/smilegate-ai/korean_unsmile_dataset\n",
    "#https://arxiv.org/ftp/arxiv/papers/2204/2204.03262.pdf\n",
    "#https://colab.research.google.com/drive/1NKYYVSex__vde-lnYCmsRmyHjJhV6cKt?usp=sharing#scrollTo=D75_HqO3V7ZT\n",
    "from datasets import load_dataset\n",
    "datasets = load_dataset('smilegate-ai/kor_unsmile')\n",
    "print(datasets)\n",
    "\n",
    "datasets[\"train\"][0]\n",
    "dataset = datasets"
   ]
  },
  {
   "cell_type": "code",
   "execution_count": 27,
   "id": "5febe432",
   "metadata": {},
   "outputs": [
    {
     "ename": "KeyError",
     "evalue": "'big_bird'",
     "output_type": "error",
     "traceback": [
      "\u001b[1;31m---------------------------------------------------------------------------\u001b[0m",
      "\u001b[1;31mKeyError\u001b[0m                                  Traceback (most recent call last)",
      "\u001b[1;32m~\\AppData\\Local\\Temp\\ipykernel_13084\\1013169839.py\u001b[0m in \u001b[0;36m<module>\u001b[1;34m\u001b[0m\n\u001b[0;32m      1\u001b[0m \u001b[0mmodel_name\u001b[0m \u001b[1;33m=\u001b[0m \u001b[1;34m'monologg/kobigbird-bert-base'\u001b[0m\u001b[1;33m\u001b[0m\u001b[0m\n\u001b[1;32m----> 2\u001b[1;33m \u001b[0mtokenizer\u001b[0m \u001b[1;33m=\u001b[0m \u001b[0mAutoTokenizer\u001b[0m\u001b[1;33m.\u001b[0m\u001b[0mfrom_pretrained\u001b[0m\u001b[1;33m(\u001b[0m\u001b[1;34m\"monologg/kobigbird-bert-base\"\u001b[0m\u001b[1;33m)\u001b[0m\u001b[1;33m\u001b[0m\u001b[0m\n\u001b[0m",
      "\u001b[1;32mc:\\users\\이육샛별\\appdata\\local\\programs\\python\\python37\\lib\\site-packages\\transformers\\models\\auto\\tokenization_auto.py\u001b[0m in \u001b[0;36mfrom_pretrained\u001b[1;34m(cls, pretrained_model_name_or_path, *inputs, **kwargs)\u001b[0m\n",
      "\u001b[1;32mc:\\users\\이육샛별\\appdata\\local\\programs\\python\\python37\\lib\\site-packages\\transformers\\models\\auto\\configuration_auto.py\u001b[0m in \u001b[0;36mfrom_pretrained\u001b[1;34m(cls, pretrained_model_name_or_path, **kwargs)\u001b[0m\n",
      "\u001b[1;31mKeyError\u001b[0m: 'big_bird'"
     ]
    }
   ],
   "source": [
    "model_name = 'kobert'\n",
    "tokenizer =AutoTokenizer.from_pretrained(model_name)"
   ]
  },
  {
   "cell_type": "code",
   "execution_count": 28,
   "id": "f5d6a851",
   "metadata": {},
   "outputs": [
    {
     "ename": "ModuleNotFoundError",
     "evalue": "No module named 'gluonnlp'",
     "output_type": "error",
     "traceback": [
      "\u001b[1;31m---------------------------------------------------------------------------\u001b[0m",
      "\u001b[1;31mModuleNotFoundError\u001b[0m                       Traceback (most recent call last)",
      "\u001b[1;32m~\\AppData\\Local\\Temp\\ipykernel_13084\\456254607.py\u001b[0m in \u001b[0;36m<module>\u001b[1;34m\u001b[0m\n\u001b[1;32m----> 1\u001b[1;33m \u001b[1;32mfrom\u001b[0m \u001b[0mgluonnlp\u001b[0m\u001b[1;33m.\u001b[0m\u001b[0mdata\u001b[0m \u001b[1;32mimport\u001b[0m \u001b[0mSentencepieceTokenizer\u001b[0m\u001b[1;33m\u001b[0m\u001b[0m\n\u001b[0m\u001b[0;32m      2\u001b[0m \u001b[1;32mfrom\u001b[0m \u001b[0mkobert\u001b[0m \u001b[1;32mimport\u001b[0m \u001b[0mget_tokenizer\u001b[0m\u001b[1;33m\u001b[0m\u001b[0m\n\u001b[0;32m      3\u001b[0m \u001b[0mtok_path\u001b[0m \u001b[1;33m=\u001b[0m \u001b[0mget_tokenizer\u001b[0m\u001b[1;33m(\u001b[0m\u001b[1;33m)\u001b[0m\u001b[1;33m\u001b[0m\u001b[0m\n\u001b[0;32m      4\u001b[0m \u001b[0mtokenizer\u001b[0m  \u001b[1;33m=\u001b[0m \u001b[0mSentencepieceTokenizer\u001b[0m\u001b[1;33m(\u001b[0m\u001b[0mtok_path\u001b[0m\u001b[1;33m)\u001b[0m\u001b[1;33m\u001b[0m\u001b[0m\n",
      "\u001b[1;31mModuleNotFoundError\u001b[0m: No module named 'gluonnlp'"
     ]
    }
   ],
   "source": [
    "from gluonnlp.data import SentencepieceTokenizer\n",
    "from kobert import get_tokenizer\n",
    "tok_path = get_tokenizer()\n",
    "tokenizer  = SentencepieceTokenizer(tok_path)"
   ]
  },
  {
   "cell_type": "code",
   "execution_count": 23,
   "id": "011cfbd5",
   "metadata": {},
   "outputs": [],
   "source": [
    "def preprocess_function(examples):\n",
    "    tokenized_examples = tokenizer(str(examples[\"문장\"]))\n",
    "    tokenized_examples['labels'] = torch.tensor(examples[\"labels\"], dtype=torch.float)\n",
    "    # multi label classification 학습을 위해선 label이 float 형태로 변형되어야 합니다.\n",
    "    # huggingface datasets 최신 버전에는 'map' 함수에 버그가 있어서 변형이 올바르게 되지 않습니다.\n",
    "    \n",
    "    return tokenized_examples"
   ]
  },
  {
   "cell_type": "code",
   "execution_count": 24,
   "id": "fad16da0",
   "metadata": {},
   "outputs": [
    {
     "name": "stderr",
     "output_type": "stream",
     "text": [
      "Parameter 'function'=<function preprocess_function at 0x000001C0F8CDB2F0> of the transform datasets.arrow_dataset.Dataset._map_single couldn't be hashed properly, a random hash was used instead. Make sure your transforms and parameters are serializable with pickle or dill for the dataset fingerprinting and caching to work. If you reuse this transform, the caching mechanism will consider it to be different from the previous calls and recompute everything. This warning is only showed once. Subsequent hashing failures won't be showed.\n",
      "  0%|                                                                                        | 0/15005 [00:00<?, ?ex/s]\n"
     ]
    },
    {
     "ename": "NameError",
     "evalue": "name 'tokenizer' is not defined",
     "output_type": "error",
     "traceback": [
      "\u001b[1;31m---------------------------------------------------------------------------\u001b[0m",
      "\u001b[1;31mNameError\u001b[0m                                 Traceback (most recent call last)",
      "\u001b[1;32m~\\AppData\\Local\\Temp\\ipykernel_13084\\1239560697.py\u001b[0m in \u001b[0;36m<module>\u001b[1;34m\u001b[0m\n\u001b[1;32m----> 1\u001b[1;33m \u001b[0mtokenized_dataset\u001b[0m \u001b[1;33m=\u001b[0m \u001b[0mdataset\u001b[0m\u001b[1;33m.\u001b[0m\u001b[0mmap\u001b[0m\u001b[1;33m(\u001b[0m\u001b[0mpreprocess_function\u001b[0m\u001b[1;33m)\u001b[0m\u001b[1;33m\u001b[0m\u001b[0m\n\u001b[0m\u001b[0;32m      2\u001b[0m \u001b[0mtokenized_dataset\u001b[0m\u001b[1;33m.\u001b[0m\u001b[0mset_format\u001b[0m\u001b[1;33m(\u001b[0m\u001b[0mtype\u001b[0m\u001b[1;33m=\u001b[0m\u001b[1;34m'torch'\u001b[0m\u001b[1;33m,\u001b[0m \u001b[0mcolumns\u001b[0m\u001b[1;33m=\u001b[0m\u001b[1;33m[\u001b[0m\u001b[1;34m'input_ids'\u001b[0m\u001b[1;33m,\u001b[0m \u001b[1;34m'labels'\u001b[0m\u001b[1;33m,\u001b[0m \u001b[1;34m'attention_mask'\u001b[0m\u001b[1;33m,\u001b[0m \u001b[1;34m'token_type_ids'\u001b[0m\u001b[1;33m]\u001b[0m\u001b[1;33m)\u001b[0m\u001b[1;33m\u001b[0m\u001b[0m\n",
      "\u001b[1;32mc:\\users\\이육샛별\\appdata\\local\\programs\\python\\python37\\lib\\site-packages\\datasets\\dataset_dict.py\u001b[0m in \u001b[0;36mmap\u001b[1;34m(self, function, with_indices, input_columns, batched, batch_size, remove_columns, keep_in_memory, load_from_cache_file, cache_file_names, writer_batch_size, features, disable_nullable, fn_kwargs, num_proc, desc)\u001b[0m\n\u001b[0;32m    510\u001b[0m                     \u001b[0mdesc\u001b[0m\u001b[1;33m=\u001b[0m\u001b[0mdesc\u001b[0m\u001b[1;33m,\u001b[0m\u001b[1;33m\u001b[0m\u001b[0m\n\u001b[0;32m    511\u001b[0m                 )\n\u001b[1;32m--> 512\u001b[1;33m                 \u001b[1;32mfor\u001b[0m \u001b[0mk\u001b[0m\u001b[1;33m,\u001b[0m \u001b[0mdataset\u001b[0m \u001b[1;32min\u001b[0m \u001b[0mself\u001b[0m\u001b[1;33m.\u001b[0m\u001b[0mitems\u001b[0m\u001b[1;33m(\u001b[0m\u001b[1;33m)\u001b[0m\u001b[1;33m\u001b[0m\u001b[0m\n\u001b[0m\u001b[0;32m    513\u001b[0m             }\n\u001b[0;32m    514\u001b[0m         )\n",
      "\u001b[1;32mc:\\users\\이육샛별\\appdata\\local\\programs\\python\\python37\\lib\\site-packages\\datasets\\dataset_dict.py\u001b[0m in \u001b[0;36m<dictcomp>\u001b[1;34m(.0)\u001b[0m\n\u001b[0;32m    510\u001b[0m                     \u001b[0mdesc\u001b[0m\u001b[1;33m=\u001b[0m\u001b[0mdesc\u001b[0m\u001b[1;33m,\u001b[0m\u001b[1;33m\u001b[0m\u001b[0m\n\u001b[0;32m    511\u001b[0m                 )\n\u001b[1;32m--> 512\u001b[1;33m                 \u001b[1;32mfor\u001b[0m \u001b[0mk\u001b[0m\u001b[1;33m,\u001b[0m \u001b[0mdataset\u001b[0m \u001b[1;32min\u001b[0m \u001b[0mself\u001b[0m\u001b[1;33m.\u001b[0m\u001b[0mitems\u001b[0m\u001b[1;33m(\u001b[0m\u001b[1;33m)\u001b[0m\u001b[1;33m\u001b[0m\u001b[0m\n\u001b[0m\u001b[0;32m    513\u001b[0m             }\n\u001b[0;32m    514\u001b[0m         )\n",
      "\u001b[1;32mc:\\users\\이육샛별\\appdata\\local\\programs\\python\\python37\\lib\\site-packages\\datasets\\arrow_dataset.py\u001b[0m in \u001b[0;36mmap\u001b[1;34m(self, function, with_indices, with_rank, input_columns, batched, batch_size, drop_last_batch, remove_columns, keep_in_memory, load_from_cache_file, cache_file_name, writer_batch_size, features, disable_nullable, fn_kwargs, num_proc, suffix_template, new_fingerprint, desc)\u001b[0m\n\u001b[0;32m   2108\u001b[0m                 \u001b[0mnew_fingerprint\u001b[0m\u001b[1;33m=\u001b[0m\u001b[0mnew_fingerprint\u001b[0m\u001b[1;33m,\u001b[0m\u001b[1;33m\u001b[0m\u001b[0m\n\u001b[0;32m   2109\u001b[0m                 \u001b[0mdisable_tqdm\u001b[0m\u001b[1;33m=\u001b[0m\u001b[0mdisable_tqdm\u001b[0m\u001b[1;33m,\u001b[0m\u001b[1;33m\u001b[0m\u001b[0m\n\u001b[1;32m-> 2110\u001b[1;33m                 \u001b[0mdesc\u001b[0m\u001b[1;33m=\u001b[0m\u001b[0mdesc\u001b[0m\u001b[1;33m,\u001b[0m\u001b[1;33m\u001b[0m\u001b[0m\n\u001b[0m\u001b[0;32m   2111\u001b[0m             )\n\u001b[0;32m   2112\u001b[0m         \u001b[1;32melse\u001b[0m\u001b[1;33m:\u001b[0m\u001b[1;33m\u001b[0m\u001b[0m\n",
      "\u001b[1;32mc:\\users\\이육샛별\\appdata\\local\\programs\\python\\python37\\lib\\site-packages\\datasets\\arrow_dataset.py\u001b[0m in \u001b[0;36mwrapper\u001b[1;34m(*args, **kwargs)\u001b[0m\n\u001b[0;32m    516\u001b[0m             \u001b[0mself\u001b[0m\u001b[1;33m:\u001b[0m \u001b[1;34m\"Dataset\"\u001b[0m \u001b[1;33m=\u001b[0m \u001b[0mkwargs\u001b[0m\u001b[1;33m.\u001b[0m\u001b[0mpop\u001b[0m\u001b[1;33m(\u001b[0m\u001b[1;34m\"self\"\u001b[0m\u001b[1;33m)\u001b[0m\u001b[1;33m\u001b[0m\u001b[0m\n\u001b[0;32m    517\u001b[0m         \u001b[1;31m# apply actual function\u001b[0m\u001b[1;33m\u001b[0m\u001b[1;33m\u001b[0m\u001b[0m\n\u001b[1;32m--> 518\u001b[1;33m         \u001b[0mout\u001b[0m\u001b[1;33m:\u001b[0m \u001b[0mUnion\u001b[0m\u001b[1;33m[\u001b[0m\u001b[1;34m\"Dataset\"\u001b[0m\u001b[1;33m,\u001b[0m \u001b[1;34m\"DatasetDict\"\u001b[0m\u001b[1;33m]\u001b[0m \u001b[1;33m=\u001b[0m \u001b[0mfunc\u001b[0m\u001b[1;33m(\u001b[0m\u001b[0mself\u001b[0m\u001b[1;33m,\u001b[0m \u001b[1;33m*\u001b[0m\u001b[0margs\u001b[0m\u001b[1;33m,\u001b[0m \u001b[1;33m**\u001b[0m\u001b[0mkwargs\u001b[0m\u001b[1;33m)\u001b[0m\u001b[1;33m\u001b[0m\u001b[0m\n\u001b[0m\u001b[0;32m    519\u001b[0m         \u001b[0mdatasets\u001b[0m\u001b[1;33m:\u001b[0m \u001b[0mList\u001b[0m\u001b[1;33m[\u001b[0m\u001b[1;34m\"Dataset\"\u001b[0m\u001b[1;33m]\u001b[0m \u001b[1;33m=\u001b[0m \u001b[0mlist\u001b[0m\u001b[1;33m(\u001b[0m\u001b[0mout\u001b[0m\u001b[1;33m.\u001b[0m\u001b[0mvalues\u001b[0m\u001b[1;33m(\u001b[0m\u001b[1;33m)\u001b[0m\u001b[1;33m)\u001b[0m \u001b[1;32mif\u001b[0m \u001b[0misinstance\u001b[0m\u001b[1;33m(\u001b[0m\u001b[0mout\u001b[0m\u001b[1;33m,\u001b[0m \u001b[0mdict\u001b[0m\u001b[1;33m)\u001b[0m \u001b[1;32melse\u001b[0m \u001b[1;33m[\u001b[0m\u001b[0mout\u001b[0m\u001b[1;33m]\u001b[0m\u001b[1;33m\u001b[0m\u001b[0m\n\u001b[0;32m    520\u001b[0m         \u001b[1;32mfor\u001b[0m \u001b[0mdataset\u001b[0m \u001b[1;32min\u001b[0m \u001b[0mdatasets\u001b[0m\u001b[1;33m:\u001b[0m\u001b[1;33m\u001b[0m\u001b[0m\n",
      "\u001b[1;32mc:\\users\\이육샛별\\appdata\\local\\programs\\python\\python37\\lib\\site-packages\\datasets\\arrow_dataset.py\u001b[0m in \u001b[0;36mwrapper\u001b[1;34m(*args, **kwargs)\u001b[0m\n\u001b[0;32m    483\u001b[0m         }\n\u001b[0;32m    484\u001b[0m         \u001b[1;31m# apply actual function\u001b[0m\u001b[1;33m\u001b[0m\u001b[1;33m\u001b[0m\u001b[0m\n\u001b[1;32m--> 485\u001b[1;33m         \u001b[0mout\u001b[0m\u001b[1;33m:\u001b[0m \u001b[0mUnion\u001b[0m\u001b[1;33m[\u001b[0m\u001b[1;34m\"Dataset\"\u001b[0m\u001b[1;33m,\u001b[0m \u001b[1;34m\"DatasetDict\"\u001b[0m\u001b[1;33m]\u001b[0m \u001b[1;33m=\u001b[0m \u001b[0mfunc\u001b[0m\u001b[1;33m(\u001b[0m\u001b[0mself\u001b[0m\u001b[1;33m,\u001b[0m \u001b[1;33m*\u001b[0m\u001b[0margs\u001b[0m\u001b[1;33m,\u001b[0m \u001b[1;33m**\u001b[0m\u001b[0mkwargs\u001b[0m\u001b[1;33m)\u001b[0m\u001b[1;33m\u001b[0m\u001b[0m\n\u001b[0m\u001b[0;32m    486\u001b[0m         \u001b[0mdatasets\u001b[0m\u001b[1;33m:\u001b[0m \u001b[0mList\u001b[0m\u001b[1;33m[\u001b[0m\u001b[1;34m\"Dataset\"\u001b[0m\u001b[1;33m]\u001b[0m \u001b[1;33m=\u001b[0m \u001b[0mlist\u001b[0m\u001b[1;33m(\u001b[0m\u001b[0mout\u001b[0m\u001b[1;33m.\u001b[0m\u001b[0mvalues\u001b[0m\u001b[1;33m(\u001b[0m\u001b[1;33m)\u001b[0m\u001b[1;33m)\u001b[0m \u001b[1;32mif\u001b[0m \u001b[0misinstance\u001b[0m\u001b[1;33m(\u001b[0m\u001b[0mout\u001b[0m\u001b[1;33m,\u001b[0m \u001b[0mdict\u001b[0m\u001b[1;33m)\u001b[0m \u001b[1;32melse\u001b[0m \u001b[1;33m[\u001b[0m\u001b[0mout\u001b[0m\u001b[1;33m]\u001b[0m\u001b[1;33m\u001b[0m\u001b[0m\n\u001b[0;32m    487\u001b[0m         \u001b[1;31m# re-apply format to the output\u001b[0m\u001b[1;33m\u001b[0m\u001b[1;33m\u001b[0m\u001b[0m\n",
      "\u001b[1;32mc:\\users\\이육샛별\\appdata\\local\\programs\\python\\python37\\lib\\site-packages\\datasets\\fingerprint.py\u001b[0m in \u001b[0;36mwrapper\u001b[1;34m(*args, **kwargs)\u001b[0m\n\u001b[0;32m    409\u001b[0m             \u001b[1;31m# Call actual function\u001b[0m\u001b[1;33m\u001b[0m\u001b[1;33m\u001b[0m\u001b[0m\n\u001b[0;32m    410\u001b[0m \u001b[1;33m\u001b[0m\u001b[0m\n\u001b[1;32m--> 411\u001b[1;33m             \u001b[0mout\u001b[0m \u001b[1;33m=\u001b[0m \u001b[0mfunc\u001b[0m\u001b[1;33m(\u001b[0m\u001b[0mself\u001b[0m\u001b[1;33m,\u001b[0m \u001b[1;33m*\u001b[0m\u001b[0margs\u001b[0m\u001b[1;33m,\u001b[0m \u001b[1;33m**\u001b[0m\u001b[0mkwargs\u001b[0m\u001b[1;33m)\u001b[0m\u001b[1;33m\u001b[0m\u001b[0m\n\u001b[0m\u001b[0;32m    412\u001b[0m \u001b[1;33m\u001b[0m\u001b[0m\n\u001b[0;32m    413\u001b[0m             \u001b[1;31m# Update fingerprint of in-place transforms + update in-place history of transforms\u001b[0m\u001b[1;33m\u001b[0m\u001b[1;33m\u001b[0m\u001b[0m\n",
      "\u001b[1;32mc:\\users\\이육샛별\\appdata\\local\\programs\\python\\python37\\lib\\site-packages\\datasets\\arrow_dataset.py\u001b[0m in \u001b[0;36m_map_single\u001b[1;34m(self, function, with_indices, with_rank, input_columns, batched, batch_size, drop_last_batch, remove_columns, keep_in_memory, load_from_cache_file, cache_file_name, writer_batch_size, features, disable_nullable, fn_kwargs, new_fingerprint, rank, offset, disable_tqdm, desc, cache_only)\u001b[0m\n\u001b[0;32m   2446\u001b[0m                 \u001b[1;32mif\u001b[0m \u001b[1;32mnot\u001b[0m \u001b[0mbatched\u001b[0m\u001b[1;33m:\u001b[0m\u001b[1;33m\u001b[0m\u001b[0m\n\u001b[0;32m   2447\u001b[0m                     \u001b[1;32mfor\u001b[0m \u001b[0mi\u001b[0m\u001b[1;33m,\u001b[0m \u001b[0mexample\u001b[0m \u001b[1;32min\u001b[0m \u001b[0menumerate\u001b[0m\u001b[1;33m(\u001b[0m\u001b[0mpbar\u001b[0m\u001b[1;33m)\u001b[0m\u001b[1;33m:\u001b[0m\u001b[1;33m\u001b[0m\u001b[0m\n\u001b[1;32m-> 2448\u001b[1;33m                         \u001b[0mexample\u001b[0m \u001b[1;33m=\u001b[0m \u001b[0mapply_function_on_filtered_inputs\u001b[0m\u001b[1;33m(\u001b[0m\u001b[0mexample\u001b[0m\u001b[1;33m,\u001b[0m \u001b[0mi\u001b[0m\u001b[1;33m,\u001b[0m \u001b[0moffset\u001b[0m\u001b[1;33m=\u001b[0m\u001b[0moffset\u001b[0m\u001b[1;33m)\u001b[0m\u001b[1;33m\u001b[0m\u001b[0m\n\u001b[0m\u001b[0;32m   2449\u001b[0m                         \u001b[1;32mif\u001b[0m \u001b[0mupdate_data\u001b[0m\u001b[1;33m:\u001b[0m\u001b[1;33m\u001b[0m\u001b[0m\n\u001b[0;32m   2450\u001b[0m                             \u001b[1;32mif\u001b[0m \u001b[0mi\u001b[0m \u001b[1;33m==\u001b[0m \u001b[1;36m0\u001b[0m\u001b[1;33m:\u001b[0m\u001b[1;33m\u001b[0m\u001b[0m\n",
      "\u001b[1;32mc:\\users\\이육샛별\\appdata\\local\\programs\\python\\python37\\lib\\site-packages\\datasets\\arrow_dataset.py\u001b[0m in \u001b[0;36mapply_function_on_filtered_inputs\u001b[1;34m(inputs, indices, check_same_num_examples, offset)\u001b[0m\n\u001b[0;32m   2355\u001b[0m             \u001b[1;32mif\u001b[0m \u001b[0mwith_rank\u001b[0m\u001b[1;33m:\u001b[0m\u001b[1;33m\u001b[0m\u001b[0m\n\u001b[0;32m   2356\u001b[0m                 \u001b[0madditional_args\u001b[0m \u001b[1;33m+=\u001b[0m \u001b[1;33m(\u001b[0m\u001b[0mrank\u001b[0m\u001b[1;33m,\u001b[0m\u001b[1;33m)\u001b[0m\u001b[1;33m\u001b[0m\u001b[0m\n\u001b[1;32m-> 2357\u001b[1;33m             \u001b[0mprocessed_inputs\u001b[0m \u001b[1;33m=\u001b[0m \u001b[0mfunction\u001b[0m\u001b[1;33m(\u001b[0m\u001b[1;33m*\u001b[0m\u001b[0mfn_args\u001b[0m\u001b[1;33m,\u001b[0m \u001b[1;33m*\u001b[0m\u001b[0madditional_args\u001b[0m\u001b[1;33m,\u001b[0m \u001b[1;33m**\u001b[0m\u001b[0mfn_kwargs\u001b[0m\u001b[1;33m)\u001b[0m\u001b[1;33m\u001b[0m\u001b[0m\n\u001b[0m\u001b[0;32m   2358\u001b[0m             \u001b[1;32mif\u001b[0m \u001b[0mupdate_data\u001b[0m \u001b[1;32mis\u001b[0m \u001b[1;32mNone\u001b[0m\u001b[1;33m:\u001b[0m\u001b[1;33m\u001b[0m\u001b[0m\n\u001b[0;32m   2359\u001b[0m                 \u001b[1;31m# Check if the function returns updated examples\u001b[0m\u001b[1;33m\u001b[0m\u001b[1;33m\u001b[0m\u001b[0m\n",
      "\u001b[1;32mc:\\users\\이육샛별\\appdata\\local\\programs\\python\\python37\\lib\\site-packages\\datasets\\arrow_dataset.py\u001b[0m in \u001b[0;36mdecorated\u001b[1;34m(item, *args, **kwargs)\u001b[0m\n\u001b[0;32m   2050\u001b[0m                 )\n\u001b[0;32m   2051\u001b[0m                 \u001b[1;31m# Use the LazyDict internally, while mapping the function\u001b[0m\u001b[1;33m\u001b[0m\u001b[1;33m\u001b[0m\u001b[0m\n\u001b[1;32m-> 2052\u001b[1;33m                 \u001b[0mresult\u001b[0m \u001b[1;33m=\u001b[0m \u001b[0mf\u001b[0m\u001b[1;33m(\u001b[0m\u001b[0mdecorated_item\u001b[0m\u001b[1;33m,\u001b[0m \u001b[1;33m*\u001b[0m\u001b[0margs\u001b[0m\u001b[1;33m,\u001b[0m \u001b[1;33m**\u001b[0m\u001b[0mkwargs\u001b[0m\u001b[1;33m)\u001b[0m\u001b[1;33m\u001b[0m\u001b[0m\n\u001b[0m\u001b[0;32m   2053\u001b[0m                 \u001b[1;31m# Return a standard dict\u001b[0m\u001b[1;33m\u001b[0m\u001b[1;33m\u001b[0m\u001b[0m\n\u001b[0;32m   2054\u001b[0m                 \u001b[1;32mreturn\u001b[0m \u001b[0mresult\u001b[0m\u001b[1;33m.\u001b[0m\u001b[0mdata\u001b[0m \u001b[1;32mif\u001b[0m \u001b[0misinstance\u001b[0m\u001b[1;33m(\u001b[0m\u001b[0mresult\u001b[0m\u001b[1;33m,\u001b[0m \u001b[0mLazyDict\u001b[0m\u001b[1;33m)\u001b[0m \u001b[1;32melse\u001b[0m \u001b[0mresult\u001b[0m\u001b[1;33m\u001b[0m\u001b[0m\n",
      "\u001b[1;32m~\\AppData\\Local\\Temp\\ipykernel_13084\\4247458263.py\u001b[0m in \u001b[0;36mpreprocess_function\u001b[1;34m(examples)\u001b[0m\n\u001b[0;32m      1\u001b[0m \u001b[1;32mdef\u001b[0m \u001b[0mpreprocess_function\u001b[0m\u001b[1;33m(\u001b[0m\u001b[0mexamples\u001b[0m\u001b[1;33m)\u001b[0m\u001b[1;33m:\u001b[0m\u001b[1;33m\u001b[0m\u001b[0m\n\u001b[1;32m----> 2\u001b[1;33m     \u001b[0mtokenized_examples\u001b[0m \u001b[1;33m=\u001b[0m \u001b[0mtokenizer\u001b[0m\u001b[1;33m(\u001b[0m\u001b[0mstr\u001b[0m\u001b[1;33m(\u001b[0m\u001b[0mexamples\u001b[0m\u001b[1;33m[\u001b[0m\u001b[1;34m\"문장\"\u001b[0m\u001b[1;33m]\u001b[0m\u001b[1;33m)\u001b[0m\u001b[1;33m)\u001b[0m\u001b[1;33m\u001b[0m\u001b[0m\n\u001b[0m\u001b[0;32m      3\u001b[0m     \u001b[0mtokenized_examples\u001b[0m\u001b[1;33m[\u001b[0m\u001b[1;34m'labels'\u001b[0m\u001b[1;33m]\u001b[0m \u001b[1;33m=\u001b[0m \u001b[0mtorch\u001b[0m\u001b[1;33m.\u001b[0m\u001b[0mtensor\u001b[0m\u001b[1;33m(\u001b[0m\u001b[0mexamples\u001b[0m\u001b[1;33m[\u001b[0m\u001b[1;34m\"labels\"\u001b[0m\u001b[1;33m]\u001b[0m\u001b[1;33m,\u001b[0m \u001b[0mdtype\u001b[0m\u001b[1;33m=\u001b[0m\u001b[0mtorch\u001b[0m\u001b[1;33m.\u001b[0m\u001b[0mfloat\u001b[0m\u001b[1;33m)\u001b[0m\u001b[1;33m\u001b[0m\u001b[0m\n\u001b[0;32m      4\u001b[0m     \u001b[1;31m# multi label classification 학습을 위해선 label이 float 형태로 변형되어야 합니다.\u001b[0m\u001b[1;33m\u001b[0m\u001b[1;33m\u001b[0m\u001b[0m\n\u001b[0;32m      5\u001b[0m     \u001b[1;31m# huggingface datasets 최신 버전에는 'map' 함수에 버그가 있어서 변형이 올바르게 되지 않습니다.\u001b[0m\u001b[1;33m\u001b[0m\u001b[1;33m\u001b[0m\u001b[0m\n",
      "\u001b[1;31mNameError\u001b[0m: name 'tokenizer' is not defined"
     ]
    }
   ],
   "source": [
    "tokenized_dataset = dataset.map(preprocess_function)\n",
    "tokenized_dataset.set_format(type='torch', columns=['input_ids', 'labels', 'attention_mask', 'token_type_ids'])"
   ]
  },
  {
   "cell_type": "code",
   "execution_count": null,
   "id": "27379df4",
   "metadata": {},
   "outputs": [],
   "source": [
    "tokenized_dataset['train'][0]"
   ]
  },
  {
   "cell_type": "code",
   "execution_count": null,
   "id": "eb5b33b6",
   "metadata": {},
   "outputs": [],
   "source": [
    "unsmile_labels = [\"여성/가족\",\"남성\",\"성소수자\",\"인종/국적\",\"연령\",\"지역\",\"종교\",\"기타 혐오\",\"악플/욕설\",\"clean\"]"
   ]
  },
  {
   "cell_type": "code",
   "execution_count": null,
   "id": "ea93ec1f",
   "metadata": {},
   "outputs": [],
   "source": [
    "from transformers import DataCollatorWithPadding\n",
    "data_collator = DataCollatorWithPadding(tokenizer=tokenizer)"
   ]
  },
  {
   "cell_type": "code",
   "execution_count": null,
   "id": "b33d57f9",
   "metadata": {},
   "outputs": [],
   "source": [
    "num_labels=len(unsmile_labels) # Label 갯수\n",
    "\n",
    "model = BertForSequenceClassification.from_pretrained(\n",
    "    model_name, \n",
    "    num_labels=num_labels, \n",
    "    problem_type=\"multi_label_classification\"\n",
    ")\n",
    "model.config.id2label = {i: label for i, label in zip(range(num_labels), unsmile_labels)}\n",
    "model.config.label2id = {label: i for i, label in zip(range(num_labels), unsmile_labels)}"
   ]
  },
  {
   "cell_type": "code",
   "execution_count": null,
   "id": "d8e016be",
   "metadata": {},
   "outputs": [],
   "source": [
    "model.config.label2id"
   ]
  },
  {
   "cell_type": "code",
   "execution_count": null,
   "id": "862ecf6c",
   "metadata": {},
   "outputs": [],
   "source": [
    "###3. Model training\n",
    "from sklearn.metrics import label_ranking_average_precision_score"
   ]
  },
  {
   "cell_type": "code",
   "execution_count": null,
   "id": "1cffdd8e",
   "metadata": {},
   "outputs": [],
   "source": [
    "def compute_metrics(x):\n",
    "    return {\n",
    "        'lrap': label_ranking_average_precision_score(x.label_ids, x.predictions),\n",
    "    }"
   ]
  },
  {
   "cell_type": "code",
   "execution_count": null,
   "id": "ae402010",
   "metadata": {},
   "outputs": [],
   "source": [
    "import os\n",
    "os.environ['CUDA_LAUNCH_BLOCKING'] = \"1\"\n",
    "os.environ[\"CUDA_VISIBLE_DEVICES\"] = \"0\""
   ]
  },
  {
   "cell_type": "code",
   "execution_count": null,
   "id": "c0cac1e6",
   "metadata": {},
   "outputs": [],
   "source": [
    "batch_size = 64\n",
    "\n",
    "args = TrainingArguments(\n",
    "    output_dir=\"unsmile_model\",\n",
    "    evaluation_strategy=\"epoch\",\n",
    "    learning_rate=2e-5,\n",
    "    per_device_train_batch_size=batch_size,\n",
    "    per_device_eval_batch_size=batch_size,\n",
    "    num_train_epochs=5,\n",
    "    save_strategy='epoch',\n",
    "    load_best_model_at_end=True,\n",
    "    metric_for_best_model='lrap',\n",
    "    greater_is_better=True,\n",
    ")\n",
    "\n",
    "trainer = Trainer(\n",
    "    model=model, \n",
    "    args=args, \n",
    "    train_dataset=tokenized_dataset[\"train\"], \n",
    "    eval_dataset=tokenized_dataset[\"valid\"], \n",
    "    compute_metrics=compute_metrics,\n",
    "    tokenizer=tokenizer,\n",
    "    data_collator=data_collator\n",
    ")"
   ]
  },
  {
   "cell_type": "code",
   "execution_count": null,
   "id": "66176ac9",
   "metadata": {},
   "outputs": [],
   "source": [
    "trainer.train()"
   ]
  },
  {
   "cell_type": "code",
   "execution_count": null,
   "id": "13d10e60",
   "metadata": {},
   "outputs": [],
   "source": [
    "trainer.save_model()"
   ]
  },
  {
   "cell_type": "code",
   "execution_count": null,
   "id": "47b81864",
   "metadata": {},
   "outputs": [],
   "source": [
    "###4. Model test\n",
    "#(if you use model after your own fine tuning)\n",
    "# from transformers import TextClassificationPipeline\n",
    "\n",
    "# pipe = TextClassificationPipeline(\n",
    "#     model = model,\n",
    "#     tokenizer = tokenizer,\n",
    "#     device=0,\n",
    "#     return_all_scores=True,\n",
    "#     function_to_apply='sigmoid'\n",
    "#     )"
   ]
  },
  {
   "cell_type": "code",
   "execution_count": null,
   "id": "3f75c04f",
   "metadata": {},
   "outputs": [],
   "source": [
    "#(if you use original fine-tuned model)\n",
    "from transformers import TextClassificationPipeline, BertForSequenceClassification, AutoTokenizer,pipeline\n",
    "\n",
    "model_name = 'smilegate-ai/kor_unsmile'\n",
    "\n",
    "model = BertForSequenceClassification.from_pretrained(model_name)\n",
    "tokenizer = AutoTokenizer.from_pretrained(model_name)\n",
    "classifier = pipeline(task='sentiment-analysis',model=model_name,tokenizer=tokenizer)\n",
    "\n",
    "pipe = TextClassificationPipeline(\n",
    "    model=model,\n",
    "    tokenizer=tokenizer,\n",
    "    device=0,     # cpu: -1, gpu: gpu number\n",
    "    return_all_scores=True,\n",
    "    function_to_apply='sigmoid'\n",
    "    )\n"
   ]
  },
  {
   "cell_type": "code",
   "execution_count": null,
   "id": "7ffd2e90",
   "metadata": {},
   "outputs": [],
   "source": [
    "def get_split(text1):\n",
    "    l_total = []\n",
    "    l_partial = []\n",
    "    if len(text1.split())//40>0:\n",
    "        n = len(text1.split())//40\n",
    "    else:\n",
    "        n=1\n",
    "    for w in range(n):\n",
    "        if w==0:\n",
    "            l_partial = text1.split()[:80]\n",
    "            l_total.append(\" \".join(l_partial))\n",
    "        else:\n",
    "            l_partial = text1.split()[w*40:w*40+80]\n",
    "            l_total.append(\" \".join(l_partial))\n",
    "    return l_total"
   ]
  },
  {
   "cell_type": "code",
   "execution_count": null,
   "id": "937b846b",
   "metadata": {},
   "outputs": [],
   "source": [
    "split_stories=[]\n",
    "for i in range(len(stories)):\n",
    "    split_story = get_split(str(stories[0][i]))\n",
    "    split_stories.append(split_story)\n",
    "split_stories"
   ]
  },
  {
   "cell_type": "code",
   "execution_count": null,
   "id": "0dbbd488",
   "metadata": {},
   "outputs": [],
   "source": [
    "sentiment = classifier(str(split_stories[0][0]))\n",
    "print(split_stories[0][0])\n",
    "print(sentiment)"
   ]
  },
  {
   "cell_type": "code",
   "execution_count": null,
   "id": "aa375285",
   "metadata": {},
   "outputs": [],
   "source": [
    "sentiment = classifier(str(split_stories[0][1]))\n",
    "print(split_stories[0][1])\n",
    "print(sentiment)"
   ]
  },
  {
   "cell_type": "code",
   "execution_count": null,
   "id": "157a74c1",
   "metadata": {},
   "outputs": [],
   "source": [
    "#print(str(stories[0][300]))\n",
    "#print(len(stories))\n",
    "\n",
    "#stories[0][1]\n",
    "#for result in pipe( \"4월의 친구 화창한 4월의 봄이에요. 할아버지와 은교가 함께 나들이를 가요. 할아버지, 동물원 가는 거예요? 아니, 할아버지 친구 만나러 가는 길이란다. 칫, 재미없어, 난 동물원이 좋은데.. 두 사람이 도착한 곳은 서울 수유동에 있는 4.19 국립묘지예요. 연분홍 진달래가 활짝 피어있었죠. 이곳에 묻힌 분들은 옳은 일에 목숨을 받친 용기있는 사람들이었답니다. 앞서가던 할아버지가 어느 묘소 앞에 멈췄어요. 비석에는 까까머리 학생의 흑백사진이 붙혀 있었죠. 할아버지 눈가에 눈물이 맺혔어요. 어, 할아버지 왜 우세요? 어리둥절해진 민규가 물었죠. 친구가 보고 싶어서 그러지. 이렇게 어린 사람이 어떻게 할아버지 친구예요? 고등학교 때 단짝친구였단다. 정말요? 그럼 언제 돌아가신 거예요? 할아버지의 눈시울이 붉어졌어요. 옛날옛날에 먼저 하늘 나라로 갔단다. 오늘은 내가 친구를 잃어버린지 55년이 되는 날이야. 그때는 모두 너무나 가난했지. 아침 밥도 못먹고, 학교에 가서 점심 시간이 되면 수돗가에 가서 물로 배를 채우곤했단다. 네? 할아버지, 왜 먹을 게 없어요? 전쟁이 끝난지 얼마 되지 않았을테니까. 전쟁은 많은 사람들의 목숨을 빼앗고, 집과 일터를 앗아갔단다. 나라를 다시 세우는 일에 앞장서야 했던 사람이 대통령이야. 대통령은 국민을 대신해서 나라 살림을 잘 꾸려가라고 국민들이 뽑아준 사람이었으니까. 하지만 그 시절 대통령은 국민들의 뜻을 잘 받들지 않았단다. 그때 대통령이 누군데요? 이승만이지, 우리나라의 최초의 대통령이었단다. 국민의 뜻에 따라야 할 중요한 일들을 대통령과 높은 관직에 있던 사람들은 자기들 마음대로 결정해 버렸어. 그래서 사람들은 점점 더 살기 힘들어졌지. 나라를 이끄는 사람들이 자기 욕심만 채우려 했으니까. 나라의 주인은 국민인데 대통령이 주인 행세를 한 거야. 그래서 국민들도 차츰 대통령의 잘못을 알게 되었어. 그런데도 이승만은 계속 대통령을 하고 싶어했지. 결국에 3번이나 대통령이 되었단다. 우와, 그럼 굉장히 오래동안 대통령을 했겠네요? 그랬었지. 1960년에 네 번째 대통령 선거가 다가왔어. 모두들 이번에는 다른 대통령이 나올거라 기대했단다. 국민들에게 인심을 잃은 이승만은 이번에는 깡패를 동원해서 사람들을 협박했어. 그리고 대통령을 뽑는 날이 되었지. 그런데 이상한 일이 벌어졌어. 이승만이 또 대통령이 된 거야. 알고보니 이승만을 찍은 가짜 투표용지를 진짜 투표 용지와 바꿔치기 한거였지. 그 때 국민들은 더는 참을 수가 없었어. 선거는 국민에게 주어진 소중한 권리인데 대통령이 자기 욕심을 채우기 위해 그 권리마저 짓밟고 말았던 거야. 그날 경상남도 마산에 수천명이 모였지. 사람들은 선거를 다시 하라고 외쳤어. 그리고 함성은 점점 커져갔어. 그런게 갑자기 경찰이 총을 쏘아대는거야. 많은 사람들이 다치거나 목숨을 잃고 말았지. 그리고 한달쯤 지나 엄청난 소식이 전해졌어. 바다에서 한 학생의 시체가 발견된 거야. 경찰이 사람이 죽은 걸 숨기려고 바다에 던진 거였어. 할아버지의 목소리는 점점 울분으로 가득찼어요. 한 고등학생의 처참한 죽음은 온 국민의 마음을 끓어오르게 만들었답니다. 그리고 4월 19일이 되었어요. 전국의 온 거리가 성난 사람들로 가득찼죠. 교복을 입은 할아버지도 친구와 함께 목이 터져라 외쳤습니다. 이승만 물러가라! 깡패정치 물러가라! 할아버지와 친구는 손을 꼭잡고 계속 앞으로 나갔습니다. 할아버지와 친구에게 총알이 쏟아졌어요. 할아버지는 총에 맞은 다리를 끌며 일어났죠. 하지만 쓰러진 친구는 다시 일어나지 못했습니다. 결국 이승만은 국민들에게 사과하고 대통령직에서 물러났어요.  국민을 무시하고 주인 행세를 한 대통령을 국민의 힘으로 몰아낸 이 사건이 바로 '4.19 혁명'이랍니다. 나라는 한 사람이 자기 욕심대로 다스려서는 안 된단다. 국민의 뜻을 받들어 나라를 다스리는 것, 그게 바로 '민주주의'란다. 4.19혁명을 겪으면서 많은 사람들은 민주주의가 얼마나 소중한 것인지 깨닫게 되었답니다. 이 일이 있은 후에도 총, 칼을 앞세워서 국민들을 위협하고 자기 마음대로 나라를 다스리려는 사람들이 늘 나타났어. 그때마다 국민들은 그런 사람들을 몰아내기 위해 노력했지. 그럼 또 많은 사람들이 다치고 죽었어요? 그렇단다, 우리나라의 민주주의는 쉽게 만들어진 것이 아니야. 많은 사람들의 용기와 희생으로 이루어졌단다. 집으로 돌아갈 시간이 되었어요. 민규는 할아버지의 지팡이를 챙겨 드렸죠. 할아버지, 다리 많이 아프셨죠? 이제 제가 많이 도와드릴게요. 허허~우리 손자가 금방 어른이 되었네! 할아버지는 민규의 머리를 쓰다듬어 주셨어요. 할아버지는 진달래 꽃을 보면 자꾸 친구 생각이 난답니다. 오늘 할아버지의 친구 이야기를 들으며 민규는 마음속 깊이 4월의 진달래꽃을 심었답니다. 학생과 시민의 희생으로 피운 꽃 민주주의 소중하고 감사한 마음으로 앞으로도 잘 지켜나가야 할 것입니다.\"):\n",
    "#    print(result)\n",
    "classified_df = []\n",
    "list=[]\n",
    "for i in range(len(stories)):\n",
    "    list=[]\n",
    "    for j in range(len(split_stories[i])):\n",
    "        for sentiment in pipe(str(split_stories[i][j])):\n",
    "            list.append(sentiment)       \n",
    "    classified_df.append(list)"
   ]
  },
  {
   "cell_type": "code",
   "execution_count": null,
   "id": "edb20638",
   "metadata": {},
   "outputs": [],
   "source": [
    "for result in pipe(\"이래서 여자는 게임을 하면 안된다.\"):\n",
    "    print(result)"
   ]
  },
  {
   "cell_type": "code",
   "execution_count": null,
   "id": "9367a388",
   "metadata": {},
   "outputs": [],
   "source": [
    "k=classified_df[0][0].values()"
   ]
  },
  {
   "cell_type": "code",
   "execution_count": null,
   "id": "85202174",
   "metadata": {},
   "outputs": [],
   "source": [
    "mylist = []\n",
    "on_score=0.0\n",
    "for i in range(len(classified_df)):\n",
    "    list=[]\n",
    "    for j in range(len(classified_df[i])):\n",
    "        or_score=classified_df[i][j]\n",
    "        for k in range(10):\n",
    "            score = or_score[k]['score']\n",
    "            list.append(score)\n",
    "        mylist.append(list)\n",
    "mylist"
   ]
  },
  {
   "cell_type": "code",
   "execution_count": null,
   "id": "ada736ee",
   "metadata": {},
   "outputs": [],
   "source": [
    "lenght=0\n",
    "data = []\n",
    "sentiment=[]\n",
    "for i in range(len(mylist)):\n",
    "    list={}\n",
    "    sentiment_book=[]\n",
    "    a=float(0)\n",
    "    b=float(0)\n",
    "    c=float(0)\n",
    "    d=float(0)\n",
    "    e=float(0)\n",
    "    f=float(0)\n",
    "    h=float(0)\n",
    "    k=float(0)\n",
    "    l=float(0)\n",
    "    m=float(0)\n",
    "    for j in range(len(mylist[i])):\n",
    "        score = mylist[i][j]\n",
    "        length = len(mylist[i])/10\n",
    "        if j%10==0:\n",
    "            a+=score\n",
    "        if j%10==1:\n",
    "            b+=score\n",
    "        if j%10==2:\n",
    "            c+=score\n",
    "        if j%10==3:\n",
    "            d+=score\n",
    "        if j%10==4:\n",
    "            e+=score\n",
    "        if j%10==5:\n",
    "            f+=score\n",
    "        if j%10==6:\n",
    "            h+=score\n",
    "        if j%10==7:\n",
    "            k+=score\n",
    "        if j%10==8:\n",
    "            l+=score\n",
    "        if j%10==9:\n",
    "            m+=score\n",
    "    list['여성/가족']=a/length \n",
    "    list['남성']=b/length \n",
    "    list['성소수자']=c/length \n",
    "    list['인종/국적']=d/length \n",
    "    list['연령']=e/length \n",
    "    list['지역']=f/length \n",
    "    list['종교']=h/length \n",
    "    list['기타 혐오']=k/length \n",
    "    list['악플/욕설']=l/length \n",
    "    list['clean']=m/length \n",
    "    data.append(list)\n",
    "    fin_max = max(list, key=list.get)\n",
    "    sentiment_book.append(fin_max)\n",
    "    sentiment_book.append(list[fin_max])\n",
    "    #sentiment_book[fin_max]=list[fin_max]\n",
    "    sentiment.append(sentiment_book)"
   ]
  },
  {
   "cell_type": "code",
   "execution_count": null,
   "id": "15162312",
   "metadata": {},
   "outputs": [],
   "source": [
    "unclean = []\n",
    "for n in range(1101):\n",
    "    data = sentiment[n][0]\n",
    "    #dict_val = list(data.values())\n",
    "    if data != 'clean':\n",
    "        unclean.append(n)\n",
    "        unclean.append(sentiment[n][0])\n",
    "        unclean.append(sentiment[n][1])\n",
    "        unclean.append(str(stories[0][n]))\n",
    "unclean"
   ]
  },
  {
   "cell_type": "markdown",
   "id": "8b53e76d",
   "metadata": {},
   "source": [
    "# 3. Gender Swapping Data Augmentation(선택)"
   ]
  },
  {
   "cell_type": "code",
   "execution_count": 24,
   "id": "23f3e764",
   "metadata": {},
   "outputs": [
    {
     "name": "stdout",
     "output_type": "stream",
     "text": [
      "<class 'pandas.core.frame.DataFrame'>\n",
      "RangeIndex: 961 entries, 0 to 960\n",
      "Data columns (total 2 columns):\n",
      " #   Column      Non-Null Count  Dtype \n",
      "---  ------      --------------  ----- \n",
      " 0   Unnamed: 0  961 non-null    int64 \n",
      " 1   동화          961 non-null    object\n",
      "dtypes: int64(1), object(1)\n",
      "memory usage: 15.1+ KB\n"
     ]
    }
   ],
   "source": [
    "df = pd.read_csv('dataset_0912.csv', encoding='UTF-8')\n",
    "df.info()"
   ]
  },
  {
   "cell_type": "code",
   "execution_count": 27,
   "id": "19448eeb",
   "metadata": {},
   "outputs": [
    {
     "data": {
      "text/plain": [
       "'연분 \"여바라 방자야\" 하고 책상 위에 펴놓은 책도 보는 듯 마는 듯 우두커니 하고 무엇을 생각하고 앉았던 몽룡은 소리를 치었다 \"여이\" 하고 익살덩어리로 생긴 방자가 어깨짓을 하고 뛰어 들어와 책방 층계 앞에 읍하고 선다 몽룡은 책상 위에 들어오는 볕을 막노라고 반쯤 닫히었던 영창을 성가신 듯이 와락 밀며 \"얘 너의 남원 고을에 어디 볼 만한 것이 없느냐\" 방자는 의외에 말을 듣는 듯이 고개를 숙인 대로 눈을 치떠서 물끄러미 몽룡을 치어다보더니 \"소인의 골엔들 어찌 볼 만한 곳이 없을 리가 있읍니까 산으로 가오면 나물 캐는 것도 볼 만하옵고 들로 가오면 농사짓는 것도 볼 만하옵고 우물로 나가오면 여편네들 물 길어 놓고 밥솥에 밥 눗는 것도 다 잊어버리고 수다 늘어 놓는 것도 볼 만하옵고 또 행길로 나가오면 술주정군이 술 주정하는 것 술취한 남편 붙들고 내외 싸움하는 것도 볼 만하옵고\" \"에라 이놈아\" 하고 몽룡은 괘씸한 듯이 책상을 딱 치며 누가 그런 소리 너더러 줏어대라드냐 어디 경치 볼만한 곳이 있느냐 말이다—어 그놈 \"네 그렇거든 애시에 그렇게 말씀하실 께지 소인인들 힘들여 번 밥 먹은 기운을 헛소리에 다 써버리고 싶을 리가 있겠읍니까 소인의 골에 경치 볼 만한 곳으로 말씀하오면 북문 밖에 조종산성 좋다 하옵고 서문 밖에 관왕묘도 그럴 듯하다 하오나 제일 이름이 높기로는 남문 밖 나서서 광한루와 오작교온데 경개 절승하옵니다 과시 삼남에 제일 명승지라 할 만하옵지요\" \"광한루라 광한루 오작교 오작교\" 하고 몽룡은 혼자 입속으로 불러 보더니 \"얘 광한루 오작교 이름이 좋다—광한루로 나가자 나귀 안장 지어라\" 이 말에 크게 놀라는 듯이 방자가 껑충 뛰며 \"도련님 큰일날 말씀 마시오—뉘 밥줄을 끊고 다리 마댕 이를 분지르실 양으로 그런 말씀을 하시오 사또게서 들으 시면 마른 하늘에 벼락이 내릴 것이요 또 공부하시는 도련님이 공부나 하실 게지 좋은 경치는 찾아 무엇하시려요\" 하고 바로 몽룡을 경계하는 어조다 서로 상하의 구별을 잊고 그만큼 친해진 것이다 \"공부하는 사람은 경치 구경도 못 간다드냐 좋은 경치를 대하여야 좋은 글이 나오는 것이다—네가 무엇을 알겠느냐 사또 분부는 내 수쇄하마 어서 나귀 안장 짓고 공방 주모 관청빗 불러서 자리와 술과 안주 준비하라고 일러라\" 하고 몽룡은 벌써 일어나서 옷을 입는다 몽룡은 생명주 겹바지에 당베 중의 받쳐 입고 옥색 항라 겹저고리 옷고름에 약랑을 차고 남갑사 수향배자에 옥단추를 달아 입고 당모시 중추막에 생초 긴 옷을 받쳐 입고 송금단 허리띠에 모초단 두리낭자 주황당사 벌매듭 끈을 달아차고 널찍한 자주갑사 띠를 느슨히 매었는데 나귀가 걸음을 빨리 걸을 때마다 띠끝이 석웅황 박은 숙갑사 토막 댕기와 어울려서 펄펄 날린다 \"사또 자제 사또 자제\" 하고 나귀가 지나가면 길가 사람들이 모두 부러운 듯이 우러러본다 오늘이 오월 단오라 울긋불긋 새옷 입은 아이들은 떼를 모아 몽룡의 나귀를 따라온다 사또자제 이 도령이 얼굴 잘생기고 재주 있다 하는 것은 남원 부내에서 모르는 사람이 없었다 그의 희고 넓은 이마 광채 있는 눈 높은 코하며 후리후리한 키하며 아직 나이는 열 여섯 살이라 애티는 있지마는 과연 호남자의 풍격이 있었다 사람들이 자기를 모두 우러러볼 때에 몽룡도 기뻤다 잘 났다 재주 있다 하는 말을 어려서부터 들어온 몽룡은 조선 팔도에 자기가 으뜸인 것같이 생각하였고 장차 자기는 글 잘하고 벼슬 높은 사람이 되어 이름이 크게 떨칠 것을 스스로 믿었다 몽룡은 의기 양양하여 일부러 나귀를 천천히 천천히 몰고 분홍당지 숭두선을 헌거로이 부치면서 광한루로 향하였다 광한루는 처음에는 잘 지었던 모양이나 매우 퇴락하여서 단청도 다 벗겨지고 기왓고랑에 묵은 풀이 우거지었으며 마루청 널조차 여기저기 떨어져 버렸다 몽룡은 방자가 자리를 까는 동안에 마루로 이리저리 거닐며 사방의 경치도 바라보고 들어와 벽에 붙인 글귀와 지나 간 사람들의 성명 새겨 붙인 것도 보더니 매우 볼 만한 듯이 \"여봐라 방자야\" 하고 방자를 부른다 \"여이\" 광한루라고 이름만 좋았지 어디 좋은 것 있느냐 네가 이것을 삼남 제일 승지라 하니 과연 상놈의 눈이다 방자는 몽룡의 얼굴에 볼만한 빛이 있는 것을 보고 가장 수심된 듯이 두 어깨를 축 늘이고 \"그러길래 소인이 여쭈었지요—공부하시는 도련님이 가만히 글이나 읽고 계실 것이지 승지 찾으시기 당치 않다고 아직 도련님께서 경치 보시는 눈이 열리지를 못하셨으니까 \" 하고 손으로 뒤통수를 긁으며 혀를 끌끌 찬다 몽룡은 기감 막혀 웃으며 \"어디 경치 잘 보는 네 이야기 좀 들어 보자—네 눈에는 광한루가 그렇게 좋으냐\" \"좋다 뿐이겠소\" 하고 방자는 혹은 왼편 팔을 들어 왼쪽을 가리키고 혹은 오른편 팔을 들어 오른쪽을 가리키고 혹은 고개를 번쩍 들어 하늘을 우러러보며 혹은 손가락을 빳빳이 해가지고 땅을 가리키면서 노랫가락으로 광한루의 좋은 연유를 설명한다— \"가까운 산은 초록이요 먼 산은 퍼렁이요 훨쩍 더 먼 산은 회색이라 가까운 산에 아지랑이요 먼 산에 안개오니 동남서 삼방으로 둘러선 첩첩 산이 그 아니 좋사오며 일망 무제 넓은 들에 물 있으면 논이 되고 물 없으면 밭이 되어 도련님네 같으신 양반님네 진지 짓는 벼며 소인네 같은 상놈들이 먹는 밥이 되는 조와 피와 보리 밀 파릇파릇 자라 나니 그 아니 좋은 경치오며 꽃 피는 산을랑 등에 지고 붕어 메에기 송사리떼 노는 개천을랑 앞에 두고 무거운 기와도 말고 끌어 오기 어려운 돌도 말고 가볍고 아무 데나 있는 풀과 흙으로만 지은 농가가 둘씩 셋씩 셋씩 둘씩 조는 듯이 꿈꾸는 듯이 배부른 송아지들처럼 풀 속에 누웠느니 그 아니 절묘한 경치오며 눈을 들어 우러러보오면 연옥색 하늘에 양떼 같은 구름 점이 오락가락 널려 있고 이따금 이렇게 서늘한 바람이 슬슬 불어와 소인의 등에 맺힌 향기로운 땀을 씻어 가니 그 아니 상쾌한 경치요 게다가 이름조차 광한루에 좋은 술과 안주까지 있으니 이런 좋은 경치가 또 있겠소 어깨춤이 절로 나네 좋을 좋을 좋을씨고\" 하고 얼씬얼씬 춤을 춘다 \"허 그놈\" 하고 말없이 듣던 몽룡은 방자의 어깨를 툭 치며 \"얘 너 그런 재담을 다 어디서 배웠니\" 방자 춤추기를 그치고 시치미를 뚝 떼며 \"말씀이야 바로 소인의 고을에 무슨 그리 좋은 경치가 있겠읍니까 그'"
      ]
     },
     "execution_count": 27,
     "metadata": {},
     "output_type": "execute_result"
    }
   ],
   "source": [
    "df['동화'][861]"
   ]
  },
  {
   "cell_type": "markdown",
   "id": "2cb846de",
   "metadata": {},
   "source": [
    "## 3-1) 익명화\n",
    "동화 데이터에 등장하는 등장인물들의 이름을 익명화합니다. 이름에 의한 성별 고정관념을 없애는 과정입니다.\n",
    "<br>각 인물별로 번호를 메겨 E(번호) 형태의 토큰으로 대체합니다."
   ]
  },
  {
   "cell_type": "code",
   "execution_count": 31,
   "id": "aff96e1e",
   "metadata": {},
   "outputs": [
    {
     "data": {
      "text/plain": [
       "0       다다\n",
       "1      방정환\n",
       "2      손기정\n",
       "3       선미\n",
       "4      반쪽이\n",
       "      ... \n",
       "227    바오밥\n",
       "228    마룰라\n",
       "229    와르다\n",
       "230     롤리\n",
       "231     월터\n",
       "Name: 인물, Length: 232, dtype: object"
      ]
     },
     "execution_count": 31,
     "metadata": {},
     "output_type": "execute_result"
    }
   ],
   "source": [
    "name_list = pd.read_csv('gender_swapping/character.txt')['인물']\n",
    "name_list"
   ]
  },
  {
   "cell_type": "code",
   "execution_count": 32,
   "id": "3001c444",
   "metadata": {},
   "outputs": [],
   "source": [
    "def anonymize(text, name_list):\n",
    "    for i in range(len(name_list)):\n",
    "        #new_name = '인물' + str(i)\n",
    "        text = text.replace(name_list[i], '<인물' + str(i) +'>')\n",
    "    return text"
   ]
  },
  {
   "cell_type": "code",
   "execution_count": 33,
   "id": "065bd4a7",
   "metadata": {},
   "outputs": [],
   "source": [
    "anonymized_data = []\n",
    "for i in range(len(df['동화'])):\n",
    "    story = str(df['동화'][i])\n",
    "    text = anonymize(story, name_list)\n",
    "    anonymized_data.append(text)\n",
    "    \n",
    "data = {'동화':anonymized_data}\n",
    "anonymized_df = pd.DataFrame(data)"
   ]
  },
  {
   "cell_type": "code",
   "execution_count": 34,
   "id": "30127eea",
   "metadata": {},
   "outputs": [
    {
     "name": "stdout",
     "output_type": "stream",
     "text": [
      "원본 데이터: 961 anonymized 데이터: 961\n",
      "원본 데이터 \"방정환\" 등장 수: 2 [1, 2]\n",
      "anonymized 데이터 \"방정환\" 등장 수: 2 [1, 2]\n"
     ]
    }
   ],
   "source": [
    "#제대로 익명화되었는지 확인하기\n",
    "print('원본 데이터:', len(df['동화']), 'anonymized 데이터:', len(anonymized_df))\n",
    "print(\n",
    "    '원본 데이터 \"방정환\" 등장 수:', \n",
    "      len(df[df['동화'].str.contains('방정환', na=False)]),\n",
    "      df.index[df['동화'].str.contains('방정환', na=False)].tolist()\n",
    ")\n",
    "print(\n",
    "    'anonymized 데이터 \"방정환\" 등장 수:',\n",
    "      len(anonymized_df.query('동화.str.contains(\"<인물1>\")')),\n",
    "     anonymized_df.index[anonymized_df['동화'].str.contains('<인물1>', na=False)].tolist()\n",
    ")"
   ]
  },
  {
   "cell_type": "markdown",
   "id": "ac00f8ff",
   "metadata": {},
   "source": [
    "## 3-2) 여성어/남성어 바꾸기 \n",
    "1. 엄마/아빠, 할머니/할아버지, 공주/왕자 등 단어에 성별을 유추할 수 있는 단어들을 sawpping합니다. 이를 통해 주어 뒤에 서술되는 요소가 주어의 성별에 영향을 받지 않도록 만듭니다.\n",
    "2. '여배우(=배우)', '하녀(=하인)'처럼 stem이 되는 단어가 보편적 기준으로서 남성을 지칭하고, 여성을 지칭하기 위해 단어의 앞이나 뒤에 '-여'를 붙인 단어들을 stem이 되는 단어로 바꿉니다. "
   ]
  },
  {
   "cell_type": "code",
   "execution_count": 35,
   "id": "863710bd",
   "metadata": {},
   "outputs": [],
   "source": [
    "#word_list 정의\n",
    "female_word_list = [\n",
    "    '엄마', '할머니', '여왕', '공주', '그녀', '여신', '하녀', '여학생', '의붓어머니', '계모', '마녀',\n",
    "    '여자아이', '간호사', '여의사','그녀', '신부', '과부', '미망인', '소녀', '모성애', '아내', '집사람', '손녀',\n",
    "    '처녀', '여자친구', '딸', '언니', '누나','새언니', '숙녀', '여성'\n",
    "]\n",
    "\n",
    "male_word_list = [\n",
    "    '아빠', '할아버지', '왕', '왕자', '그', '신', '하인', '학생', '의붓아버지', '계부', '마법사',\n",
    "    '남자아이', '의사','의사', '그', '신랑', '홀아비', '홀아비', '소년', '부성애', '남편', '바깥사람', '손자',\n",
    "    '총각', '남자친구', '아들', '오빠', '형','새오빠', '신사', '남성'\n",
    "]\n",
    "\n",
    "조사_list = ['께', '에게', '한테', '더러', '에서','의',\n",
    "          '에게서', '한테서', '와', '하고', '처럼', '같이', '보다',\n",
    "          '만큼', '도']\n",
    "\n",
    "#은/는, 이/가는 수작업으로 붙인다.\n",
    "additional_female_word_list = [\n",
    "    '엄마는', '엄마가', '할머니는', '할머니가', '여왕이', '여왕은', '공주가', '공주는', '그녀가', '그녀는', '여신이', '여신은'\n",
    "    '하녀가', '하녀는', '여학생은', '여학생이', '의붓어머니가', '의붓어머니는', '계모가', '계모는', '마녀가', '마녀는',\n",
    "    '여자아이가', '여자아이는', '간호사가', '간호사는', '여의사가', '여의사는','그녀는', '그녀가', '신부는', '신부가', '과부가', '과부는', '미망인은','미망인이',\n",
    "    '소녀가', '소녀는','모성애가', '모성애는', '아내는', '아내가', '집사람이', '집사람은', '손녀는', '손녀가', '처녀가', '처녀는',\n",
    "    '여자친구가', '여자친구는','딸은', '딸이', '언니가', '언니는', '누나가', '누나는', '새언니가', '새언니는', '숙녀가', '숙녀는',\n",
    "    '여성이', '여성은']\n",
    "\n",
    "additional_male_word_list = [\n",
    "    '아빠는', '아빠가', '할아버지는', '할아버지가', '왕이', '왕은', '왕자가', '왕자는', '그가', '그는', '신이', '신은'\n",
    "    '하인이', '하인은', '남학생은', '남학생이', '의붓아버지가', '의붓아버지는', '계부가', '계부는', '마법사가', '마법사는',\n",
    "    '남자아이가', '남자아이는', '의사가', '의사는', '의사가', '의사는', '그는', '그가', '신랑은', '신랑이', '홀아비가', '홀아비는', '홀아비는','홀아비가',\n",
    "    '소년이', '소년은','부성애가', '부성애는', '남편은', '남편이', '바깥사람이', '바깥사람은', '손자는', '손자가', '총각이', '총각은',\n",
    "    '남자친구가', '남자친구는','아들은', '아들이', '오빠가', '오빠는', '형이', '형은', '새오빠가', '새오빠는', '신사가', '신사는',\n",
    "    '남성이', '남성은']"
   ]
  },
  {
   "cell_type": "code",
   "execution_count": 36,
   "id": "de042a8c",
   "metadata": {},
   "outputs": [],
   "source": [
    "def add_grammer(origin_word_list, additional_list):\n",
    "    final_word = []\n",
    "    for i in range(len(origin_word_list)):\n",
    "        for n in range(len(조사_list)):\n",
    "            word = str(origin_word_list[i])+str(조사_list[n])\n",
    "            final_word.append(word)\n",
    "    for x in range(len(additional_list)):\n",
    "        final_word.append(additional_list[x])\n",
    "    return final_word"
   ]
  },
  {
   "cell_type": "code",
   "execution_count": 37,
   "id": "6176125a",
   "metadata": {},
   "outputs": [],
   "source": [
    "final_female_word_list = add_grammer(female_word_list, additional_female_word_list)\n",
    "\n",
    "final_male_word_list = add_grammer(male_word_list, additional_male_word_list)"
   ]
  },
  {
   "cell_type": "code",
   "execution_count": 38,
   "id": "6dc82d3d",
   "metadata": {},
   "outputs": [
    {
     "name": "stdout",
     "output_type": "stream",
     "text": [
      "['엄마께', '엄마에게', '엄마한테', '엄마더러', '엄마에서', '엄마의', '엄마에게서', '엄마한테서', '엄마와', '엄마하고', '엄마처럼', '엄마같이', '엄마보다', '엄마만큼', '엄마도', '할머니께', '할머니에게', '할머니한테', '할머니더러', '할머니에서', '할머니의', '할머니에게서', '할머니한테서', '할머니와', '할머니하고', '할머니처럼', '할머니같이', '할머니보다', '할머니만큼', '할머니도', '여왕께', '여왕에게', '여왕한테', '여왕더러', '여왕에서', '여왕의', '여왕에게서', '여왕한테서', '여왕와', '여왕하고', '여왕처럼', '여왕같이', '여왕보다', '여왕만큼', '여왕도', '공주께', '공주에게', '공주한테', '공주더러', '공주에서', '공주의', '공주에게서', '공주한테서', '공주와', '공주하고', '공주처럼', '공주같이', '공주보다', '공주만큼', '공주도', '그녀께', '그녀에게', '그녀한테', '그녀더러', '그녀에서', '그녀의', '그녀에게서', '그녀한테서', '그녀와', '그녀하고', '그녀처럼', '그녀같이', '그녀보다', '그녀만큼', '그녀도', '여신께', '여신에게', '여신한테', '여신더러', '여신에서', '여신의', '여신에게서', '여신한테서', '여신와', '여신하고', '여신처럼', '여신같이', '여신보다', '여신만큼', '여신도', '하녀께', '하녀에게', '하녀한테', '하녀더러', '하녀에서', '하녀의', '하녀에게서', '하녀한테서', '하녀와', '하녀하고', '하녀처럼', '하녀같이', '하녀보다', '하녀만큼', '하녀도', '여학생께', '여학생에게', '여학생한테', '여학생더러', '여학생에서', '여학생의', '여학생에게서', '여학생한테서', '여학생와', '여학생하고', '여학생처럼', '여학생같이', '여학생보다', '여학생만큼', '여학생도', '의붓어머니께', '의붓어머니에게', '의붓어머니한테', '의붓어머니더러', '의붓어머니에서', '의붓어머니의', '의붓어머니에게서', '의붓어머니한테서', '의붓어머니와', '의붓어머니하고', '의붓어머니처럼', '의붓어머니같이', '의붓어머니보다', '의붓어머니만큼', '의붓어머니도', '계모께', '계모에게', '계모한테', '계모더러', '계모에서', '계모의', '계모에게서', '계모한테서', '계모와', '계모하고', '계모처럼', '계모같이', '계모보다', '계모만큼', '계모도', '마녀께', '마녀에게', '마녀한테', '마녀더러', '마녀에서', '마녀의', '마녀에게서', '마녀한테서', '마녀와', '마녀하고', '마녀처럼', '마녀같이', '마녀보다', '마녀만큼', '마녀도', '여자아이께', '여자아이에게', '여자아이한테', '여자아이더러', '여자아이에서', '여자아이의', '여자아이에게서', '여자아이한테서', '여자아이와', '여자아이하고', '여자아이처럼', '여자아이같이', '여자아이보다', '여자아이만큼', '여자아이도', '간호사께', '간호사에게', '간호사한테', '간호사더러', '간호사에서', '간호사의', '간호사에게서', '간호사한테서', '간호사와', '간호사하고', '간호사처럼', '간호사같이', '간호사보다', '간호사만큼', '간호사도', '여의사께', '여의사에게', '여의사한테', '여의사더러', '여의사에서', '여의사의', '여의사에게서', '여의사한테서', '여의사와', '여의사하고', '여의사처럼', '여의사같이', '여의사보다', '여의사만큼', '여의사도', '그녀께', '그녀에게', '그녀한테', '그녀더러', '그녀에서', '그녀의', '그녀에게서', '그녀한테서', '그녀와', '그녀하고', '그녀처럼', '그녀같이', '그녀보다', '그녀만큼', '그녀도', '신부께', '신부에게', '신부한테', '신부더러', '신부에서', '신부의', '신부에게서', '신부한테서', '신부와', '신부하고', '신부처럼', '신부같이', '신부보다', '신부만큼', '신부도', '과부께', '과부에게', '과부한테', '과부더러', '과부에서', '과부의', '과부에게서', '과부한테서', '과부와', '과부하고', '과부처럼', '과부같이', '과부보다', '과부만큼', '과부도', '미망인께', '미망인에게', '미망인한테', '미망인더러', '미망인에서', '미망인의', '미망인에게서', '미망인한테서', '미망인와', '미망인하고', '미망인처럼', '미망인같이', '미망인보다', '미망인만큼', '미망인도', '소녀께', '소녀에게', '소녀한테', '소녀더러', '소녀에서', '소녀의', '소녀에게서', '소녀한테서', '소녀와', '소녀하고', '소녀처럼', '소녀같이', '소녀보다', '소녀만큼', '소녀도', '모성애께', '모성애에게', '모성애한테', '모성애더러', '모성애에서', '모성애의', '모성애에게서', '모성애한테서', '모성애와', '모성애하고', '모성애처럼', '모성애같이', '모성애보다', '모성애만큼', '모성애도', '아내께', '아내에게', '아내한테', '아내더러', '아내에서', '아내의', '아내에게서', '아내한테서', '아내와', '아내하고', '아내처럼', '아내같이', '아내보다', '아내만큼', '아내도', '집사람께', '집사람에게', '집사람한테', '집사람더러', '집사람에서', '집사람의', '집사람에게서', '집사람한테서', '집사람와', '집사람하고', '집사람처럼', '집사람같이', '집사람보다', '집사람만큼', '집사람도', '손녀께', '손녀에게', '손녀한테', '손녀더러', '손녀에서', '손녀의', '손녀에게서', '손녀한테서', '손녀와', '손녀하고', '손녀처럼', '손녀같이', '손녀보다', '손녀만큼', '손녀도', '처녀께', '처녀에게', '처녀한테', '처녀더러', '처녀에서', '처녀의', '처녀에게서', '처녀한테서', '처녀와', '처녀하고', '처녀처럼', '처녀같이', '처녀보다', '처녀만큼', '처녀도', '여자친구께', '여자친구에게', '여자친구한테', '여자친구더러', '여자친구에서', '여자친구의', '여자친구에게서', '여자친구한테서', '여자친구와', '여자친구하고', '여자친구처럼', '여자친구같이', '여자친구보다', '여자친구만큼', '여자친구도', '딸께', '딸에게', '딸한테', '딸더러', '딸에서', '딸의', '딸에게서', '딸한테서', '딸와', '딸하고', '딸처럼', '딸같이', '딸보다', '딸만큼', '딸도', '언니께', '언니에게', '언니한테', '언니더러', '언니에서', '언니의', '언니에게서', '언니한테서', '언니와', '언니하고', '언니처럼', '언니같이', '언니보다', '언니만큼', '언니도', '누나께', '누나에게', '누나한테', '누나더러', '누나에서', '누나의', '누나에게서', '누나한테서', '누나와', '누나하고', '누나처럼', '누나같이', '누나보다', '누나만큼', '누나도', '새언니께', '새언니에게', '새언니한테', '새언니더러', '새언니에서', '새언니의', '새언니에게서', '새언니한테서', '새언니와', '새언니하고', '새언니처럼', '새언니같이', '새언니보다', '새언니만큼', '새언니도', '숙녀께', '숙녀에게', '숙녀한테', '숙녀더러', '숙녀에서', '숙녀의', '숙녀에게서', '숙녀한테서', '숙녀와', '숙녀하고', '숙녀처럼', '숙녀같이', '숙녀보다', '숙녀만큼', '숙녀도', '여성께', '여성에게', '여성한테', '여성더러', '여성에서', '여성의', '여성에게서', '여성한테서', '여성와', '여성하고', '여성처럼', '여성같이', '여성보다', '여성만큼', '여성도', '엄마는', '엄마가', '할머니는', '할머니가', '여왕이', '여왕은', '공주가', '공주는', '그녀가', '그녀는', '여신이', '여신은하녀가', '하녀는', '여학생은', '여학생이', '의붓어머니가', '의붓어머니는', '계모가', '계모는', '마녀가', '마녀는', '여자아이가', '여자아이는', '간호사가', '간호사는', '여의사가', '여의사는', '그녀는', '그녀가', '신부는', '신부가', '과부가', '과부는', '미망인은', '미망인이', '소녀가', '소녀는', '모성애가', '모성애는', '아내는', '아내가', '집사람이', '집사람은', '손녀는', '손녀가', '처녀가', '처녀는', '여자친구가', '여자친구는', '딸은', '딸이', '언니가', '언니는', '누나가', '누나는', '새언니가', '새언니는', '숙녀가', '숙녀는', '여성이', '여성은']\n"
     ]
    }
   ],
   "source": [
    "print(final_female_word_list)"
   ]
  },
  {
   "cell_type": "code",
   "execution_count": 39,
   "id": "504c8299",
   "metadata": {},
   "outputs": [],
   "source": [
    "def preprocessing(text, origin_word_list):\n",
    "    for i in range(len(origin_word_list)):\n",
    "        text = text.replace(origin_word_list[i], '*'+origin_word_list[i])\n",
    "    return text"
   ]
  },
  {
   "cell_type": "code",
   "execution_count": 40,
   "id": "c918016c",
   "metadata": {},
   "outputs": [],
   "source": [
    "def gender_swapping(text, origin_word_list, swapped_word_list):\n",
    "    for i in range(len(origin_word_list)):\n",
    "        text = text.replace('*'+origin_word_list[i], swapped_word_list[i])\n",
    "    return text"
   ]
  },
  {
   "cell_type": "code",
   "execution_count": 41,
   "id": "3ac43e89",
   "metadata": {},
   "outputs": [],
   "source": [
    "swapped_data = []\n",
    "for i in range(len(df)):\n",
    "    story = str(anonymized_df['동화'][i])\n",
    "    f_to_m = preprocessing(story, final_female_word_list)\n",
    "    m_to_f = preprocessing(f_to_m, final_male_word_list)\n",
    "    f_to_m_swapped = gender_swapping(m_to_f, final_female_word_list, final_male_word_list)\n",
    "    m_to_f_swapped = gender_swapping(f_to_m_swapped, final_male_word_list, final_female_word_list)\n",
    "    swapped_data.append(m_to_f_swapped)\n",
    "    \n",
    "data = {'동화':swapped_data}\n",
    "gender_swapped_df = pd.DataFrame(data)"
   ]
  },
  {
   "cell_type": "code",
   "execution_count": 42,
   "id": "98ebfffe",
   "metadata": {},
   "outputs": [
    {
     "name": "stdout",
     "output_type": "stream",
     "text": [
      "원본 데이터: 961 swapped 데이터: 961\n",
      "원본 데이터 할머니 단어 수: 74\n",
      "원본 데이터 할아버지 단어 수: 64\n",
      "swapped 데이터 할머니 단어 수: 64\n",
      "swapped 데이터 할아버지 단어 수: 74\n"
     ]
    }
   ],
   "source": [
    "#제대로 swapped되었는지 확인\n",
    "print('원본 데이터:', len(df['동화']), 'swapped 데이터:', len(gender_swapped_df))\n",
    "print('원본 데이터 할머니 단어 수:', len(df[df['동화'].str.contains('할머니가', na=False)]))\n",
    "print('원본 데이터 할아버지 단어 수:', len(df[df['동화'].str.contains('할아버지가', na=False)]))\n",
    "print('swapped 데이터 할머니 단어 수:', len(gender_swapped_df.query('동화.str.contains(\"할머니가\")')))\n",
    "print('swapped 데이터 할아버지 단어 수:', len(gender_swapped_df.query('동화.str.contains(\"할아버지가\")')))"
   ]
  },
  {
   "cell_type": "code",
   "execution_count": 23,
   "id": "ece6b9f6",
   "metadata": {},
   "outputs": [
    {
     "ename": "NameError",
     "evalue": "name 'gender_swapped_df' is not defined",
     "output_type": "error",
     "traceback": [
      "\u001b[1;31m---------------------------------------------------------------------------\u001b[0m",
      "\u001b[1;31mNameError\u001b[0m                                 Traceback (most recent call last)",
      "\u001b[1;32m~\\AppData\\Local\\Temp\\ipykernel_10356\\1459755787.py\u001b[0m in \u001b[0;36m<module>\u001b[1;34m\u001b[0m\n\u001b[1;32m----> 1\u001b[1;33m \u001b[0mgender_swapped_df\u001b[0m\u001b[1;33m[\u001b[0m\u001b[1;34m'동화'\u001b[0m\u001b[1;33m]\u001b[0m\u001b[1;33m[\u001b[0m\u001b[1;36m860\u001b[0m\u001b[1;33m]\u001b[0m\u001b[1;33m\u001b[0m\u001b[0m\n\u001b[0m",
      "\u001b[1;31mNameError\u001b[0m: name 'gender_swapped_df' is not defined"
     ]
    }
   ],
   "source": [
    "gender_swapped_df['동화'][860]"
   ]
  },
  {
   "cell_type": "code",
   "execution_count": 44,
   "id": "16cbef29",
   "metadata": {},
   "outputs": [],
   "source": [
    "gender_swapped_df.to_csv('swapped_data_0910.csv', encoding='UTF-8')"
   ]
  },
  {
   "cell_type": "markdown",
   "id": "a234ba5a",
   "metadata": {},
   "source": [
    "# 4. Labeling\n",
    "seq2seq 모델에 적용하기 위해 데이터셋의 앞 두 문장을 input으로, 스토리 전체를 target으로 학습 데이터를 수정합니다. "
   ]
  },
  {
   "cell_type": "code",
   "execution_count": 3,
   "id": "57eee844",
   "metadata": {},
   "outputs": [
    {
     "data": {
      "text/html": [
       "<div>\n",
       "<style scoped>\n",
       "    .dataframe tbody tr th:only-of-type {\n",
       "        vertical-align: middle;\n",
       "    }\n",
       "\n",
       "    .dataframe tbody tr th {\n",
       "        vertical-align: top;\n",
       "    }\n",
       "\n",
       "    .dataframe thead th {\n",
       "        text-align: right;\n",
       "    }\n",
       "</style>\n",
       "<table border=\"1\" class=\"dataframe\">\n",
       "  <thead>\n",
       "    <tr style=\"text-align: right;\">\n",
       "      <th></th>\n",
       "      <th>동화</th>\n",
       "    </tr>\n",
       "  </thead>\n",
       "  <tbody>\n",
       "    <tr>\n",
       "      <th>0</th>\n",
       "      <td>\"나는 알쏭달쏭 미술관 관장 '&lt;인물0&gt;'란다. 이곳은 신기하고 괴상한 작품으로 가...</td>\n",
       "    </tr>\n",
       "    <tr>\n",
       "      <th>1</th>\n",
       "      <td>&lt;인물1&gt;은 어려서부터 책을 참 좋아했어요. 다섯 살 때는 할머니한테 천재문을 배웠...</td>\n",
       "    </tr>\n",
       "    <tr>\n",
       "      <th>2</th>\n",
       "      <td>텔레비전도 재미있는 그림책도 없었던 옛날의 어린이들은 무엇을 하고 놀았을까요? \"옛...</td>\n",
       "    </tr>\n",
       "    <tr>\n",
       "      <th>3</th>\n",
       "      <td>\"따뜻한 봄바람이 살랑살랑 불고 겨울에 움츠렸던 몸이 움찔움찔. 얘들아 나랑 놀자 ...</td>\n",
       "    </tr>\n",
       "    <tr>\n",
       "      <th>4</th>\n",
       "      <td>우리 할아버지입니다. 어려서부터 나는 할머니와 한 방을 썼어요. 할머니는 늘 신문을...</td>\n",
       "    </tr>\n",
       "    <tr>\n",
       "      <th>...</th>\n",
       "      <td>...</td>\n",
       "    </tr>\n",
       "    <tr>\n",
       "      <th>771</th>\n",
       "      <td>핸드폰 게임 앱을 &lt;인물153&gt;자 선물상자가 나왔다. 선물상자가 열리면서 수많은 옷...</td>\n",
       "    </tr>\n",
       "    <tr>\n",
       "      <th>772</th>\n",
       "      <td>그럭저럭 사이좋은 부부가 있었어요. 둘은 같이 식탁을 차렸고, 저녁을 먹은 뒤에는 ...</td>\n",
       "    </tr>\n",
       "    <tr>\n",
       "      <th>773</th>\n",
       "      <td>비가 개었다.  동시에 저 편 들판 건너 숲 뒤에는 둥그렇게 무지개가 뻗쳤다. 오묘...</td>\n",
       "    </tr>\n",
       "    <tr>\n",
       "      <th>774</th>\n",
       "      <td>여름 장이란 애시당초에 글러서 해는 아직 중천에 있건만 장판은 벌써 쓸쓸하고 더운 ...</td>\n",
       "    </tr>\n",
       "    <tr>\n",
       "      <th>775</th>\n",
       "      <td>생물 시간이었다.  “이 없는 동물이 무엇인지 아는가?”  선생이 두 번씩 거푸 물...</td>\n",
       "    </tr>\n",
       "  </tbody>\n",
       "</table>\n",
       "<p>776 rows × 1 columns</p>\n",
       "</div>"
      ],
      "text/plain": [
       "                                                    동화\n",
       "0    \"나는 알쏭달쏭 미술관 관장 '<인물0>'란다. 이곳은 신기하고 괴상한 작품으로 가...\n",
       "1    <인물1>은 어려서부터 책을 참 좋아했어요. 다섯 살 때는 할머니한테 천재문을 배웠...\n",
       "2    텔레비전도 재미있는 그림책도 없었던 옛날의 어린이들은 무엇을 하고 놀았을까요? \"옛...\n",
       "3    \"따뜻한 봄바람이 살랑살랑 불고 겨울에 움츠렸던 몸이 움찔움찔. 얘들아 나랑 놀자 ...\n",
       "4    우리 할아버지입니다. 어려서부터 나는 할머니와 한 방을 썼어요. 할머니는 늘 신문을...\n",
       "..                                                 ...\n",
       "771  핸드폰 게임 앱을 <인물153>자 선물상자가 나왔다. 선물상자가 열리면서 수많은 옷...\n",
       "772  그럭저럭 사이좋은 부부가 있었어요. 둘은 같이 식탁을 차렸고, 저녁을 먹은 뒤에는 ...\n",
       "773  비가 개었다.  동시에 저 편 들판 건너 숲 뒤에는 둥그렇게 무지개가 뻗쳤다. 오묘...\n",
       "774  여름 장이란 애시당초에 글러서 해는 아직 중천에 있건만 장판은 벌써 쓸쓸하고 더운 ...\n",
       "775  생물 시간이었다.  “이 없는 동물이 무엇인지 아는가?”  선생이 두 번씩 거푸 물...\n",
       "\n",
       "[776 rows x 1 columns]"
      ]
     },
     "execution_count": 3,
     "metadata": {},
     "output_type": "execute_result"
    }
   ],
   "source": [
    "df = pd.read_csv('swapped_data_0902.csv')\n",
    "df = df.dropna(axis=0)\n",
    "df = df.drop(index=343, axis=0)\n",
    "#df = df.drop(index=303, axis=0)\n",
    "df = df.drop(df.columns[0], axis=1)\n",
    "df = df.reset_index(drop=True)\n",
    "df"
   ]
  },
  {
   "cell_type": "code",
   "execution_count": 4,
   "id": "54a17e71",
   "metadata": {},
   "outputs": [],
   "source": [
    "def split_to_sentences(text):\n",
    "    \"\"\"\n",
    "    Args: \n",
    "        text (str): raw text to split to sentences on end of sentences marks.\n",
    "    Returns:\n",
    "        List of sentences from text.\n",
    "    \"\"\"\n",
    "    # Split on end of sentence, but keep the punctuation marks.\n",
    "    text = text.replace('\\n', '')\n",
    "    sentences = text.split('.')\n",
    "    # If the last sentence is ''\n",
    "    if len(sentences) > 1 and len(sentences[-1]) < 3:\n",
    "        sentences.pop()\n",
    "    return sentences"
   ]
  },
  {
   "cell_type": "code",
   "execution_count": 12,
   "id": "56633b3d",
   "metadata": {},
   "outputs": [],
   "source": [
    "labels = []\n",
    "del_label = []\n",
    "targets = []\n",
    "for i in range(len(df)):\n",
    "    text = df['동화'][i]\n",
    "    sentences = split_to_sentences(text)\n",
    "    if len(sentences) < 2:\n",
    "        print(i)\n",
    "        i +=1\n",
    "        del_label.append(i)\n",
    "    else:\n",
    "        label = sentences[0] + '.' + sentences[1]\n",
    "        labels.append(label)\n",
    "        target_sen = ''\n",
    "        for i in range(len(sentences)-2):\n",
    "            target_sen += sentences[i+2]+'.'\n",
    "        targets.append(target_sen)"
   ]
  },
  {
   "cell_type": "code",
   "execution_count": 13,
   "id": "b425deea",
   "metadata": {},
   "outputs": [
    {
     "name": "stdout",
     "output_type": "stream",
     "text": [
      "98\n"
     ]
    }
   ],
   "source": [
    "labeled_df = df.assign(label = labels)\n",
    "labeled_df.rename(columns = {'동화':'target'},inplace=True)\n",
    "labeled_df\n",
    "print(len(label))"
   ]
  },
  {
   "cell_type": "code",
   "execution_count": 16,
   "id": "2f6ad160",
   "metadata": {},
   "outputs": [
    {
     "data": {
      "text/html": [
       "<div>\n",
       "<style scoped>\n",
       "    .dataframe tbody tr th:only-of-type {\n",
       "        vertical-align: middle;\n",
       "    }\n",
       "\n",
       "    .dataframe tbody tr th {\n",
       "        vertical-align: top;\n",
       "    }\n",
       "\n",
       "    .dataframe thead th {\n",
       "        text-align: right;\n",
       "    }\n",
       "</style>\n",
       "<table border=\"1\" class=\"dataframe\">\n",
       "  <thead>\n",
       "    <tr style=\"text-align: right;\">\n",
       "      <th></th>\n",
       "      <th>label</th>\n",
       "      <th>target</th>\n",
       "    </tr>\n",
       "  </thead>\n",
       "  <tbody>\n",
       "    <tr>\n",
       "      <th>0</th>\n",
       "      <td>\"나는 알쏭달쏭 미술관 관장 '&lt;인물0&gt;'란다. 이곳은 신기하고 괴상한 작품으로 가득하지</td>\n",
       "      <td>재미있는 미술 작품들이 가득한 알쏭달쏭 미술관에 온 걸 환영합니다.\" \"이쪽에 있...</td>\n",
       "    </tr>\n",
       "    <tr>\n",
       "      <th>1</th>\n",
       "      <td>&lt;인물1&gt;은 어려서부터 책을 참 좋아했어요. 다섯 살 때는 할머니한테 천재문을 배웠죠</td>\n",
       "      <td>\"하늘 천 땅 지 하늘 천 땅 지\" 꼬마 &lt;인물1&gt;는 할아버지를 따라 열심히 천자...</td>\n",
       "    </tr>\n",
       "    <tr>\n",
       "      <th>2</th>\n",
       "      <td>텔레비전도 재미있는 그림책도 없었던 옛날의 어린이들은 무엇을 하고 놀았을까요? \"옛...</td>\n",
       "      <td>1923년 1월의 어느 겨울밤 아이들이 화롯불에 둘러앉아 할아버지가 들려주시는 옛...</td>\n",
       "    </tr>\n",
       "    <tr>\n",
       "      <th>3</th>\n",
       "      <td>\"따뜻한 봄바람이 살랑살랑 불고 겨울에 움츠렸던 몸이 움찔움찔. 얘들아 나랑 놀자 ...</td>\n",
       "      <td>어깨동무 씨 동무 미나리 밭에 앉았다. 동무 동무 동무 보리가 나도록 씨동무. 서...</td>\n",
       "    </tr>\n",
       "    <tr>\n",
       "      <th>4</th>\n",
       "      <td>우리 할아버지입니다. 어려서부터 나는 할머니와 한 방을 썼어요</td>\n",
       "      <td>할머니는 늘 신문을 오려 붙이고 우표책을 정리하셨죠. “할아버지 헌 우표는 뭐하러...</td>\n",
       "    </tr>\n",
       "    <tr>\n",
       "      <th>...</th>\n",
       "      <td>...</td>\n",
       "      <td>...</td>\n",
       "    </tr>\n",
       "    <tr>\n",
       "      <th>771</th>\n",
       "      <td>핸드폰 게임 앱을 &lt;인물153&gt;자 선물상자가 나왔다. 선물상자가 열리면서 수많은 옷...</td>\n",
       "      <td>이 게임속의 또다른 나 자신인 아름백설공주다. 게임 화면으로 돌아오자 아름백조가 ...</td>\n",
       "    </tr>\n",
       "    <tr>\n",
       "      <th>772</th>\n",
       "      <td>그럭저럭 사이좋은 부부가 있었어요. 둘은 같이 식탁을 차렸고, 저녁을 먹은 뒤에는 ...</td>\n",
       "      <td>휴일이면 소풍을 가거나, 맛있는 식당을 찾아다니기도 했어요. 하지만 무언가 허전했...</td>\n",
       "    </tr>\n",
       "    <tr>\n",
       "      <th>773</th>\n",
       "      <td>비가 개었다.  동시에 저 편 들판 건너 숲 뒤에는 둥그렇게 무지개가 뻗쳤다</td>\n",
       "      <td>오묘하신 하느님의 재주를 자랑하 듯이, 칠색의 영롱한 무지개가 커다랗게 숲 이 편...</td>\n",
       "    </tr>\n",
       "    <tr>\n",
       "      <th>774</th>\n",
       "      <td>여름 장이란 애시당초에 글러서 해는 아직 중천에 있건만 장판은 벌써 쓸쓸하고 더운 ...</td>\n",
       "      <td>칩칩스럽게 날아드는 파리떼도 장난꾼 각다귀들도 귀찮다. 얼금뱅이요 왼손잡이인 드팀...</td>\n",
       "    </tr>\n",
       "    <tr>\n",
       "      <th>775</th>\n",
       "      <td>생물 시간이었다.  “이 없는 동물이 무엇인지 아는가?”  선생이 두 번씩 거푸 물...</td>\n",
       "      <td>“음, 창남인가. 어데 말해 보아.”  “이 없는 동물은 늙은 영감입니다!”  ...</td>\n",
       "    </tr>\n",
       "  </tbody>\n",
       "</table>\n",
       "<p>776 rows × 2 columns</p>\n",
       "</div>"
      ],
      "text/plain": [
       "                                                 label  \\\n",
       "0    \"나는 알쏭달쏭 미술관 관장 '<인물0>'란다. 이곳은 신기하고 괴상한 작품으로 가득하지   \n",
       "1      <인물1>은 어려서부터 책을 참 좋아했어요. 다섯 살 때는 할머니한테 천재문을 배웠죠   \n",
       "2    텔레비전도 재미있는 그림책도 없었던 옛날의 어린이들은 무엇을 하고 놀았을까요? \"옛...   \n",
       "3    \"따뜻한 봄바람이 살랑살랑 불고 겨울에 움츠렸던 몸이 움찔움찔. 얘들아 나랑 놀자 ...   \n",
       "4                   우리 할아버지입니다. 어려서부터 나는 할머니와 한 방을 썼어요   \n",
       "..                                                 ...   \n",
       "771  핸드폰 게임 앱을 <인물153>자 선물상자가 나왔다. 선물상자가 열리면서 수많은 옷...   \n",
       "772  그럭저럭 사이좋은 부부가 있었어요. 둘은 같이 식탁을 차렸고, 저녁을 먹은 뒤에는 ...   \n",
       "773         비가 개었다.  동시에 저 편 들판 건너 숲 뒤에는 둥그렇게 무지개가 뻗쳤다   \n",
       "774  여름 장이란 애시당초에 글러서 해는 아직 중천에 있건만 장판은 벌써 쓸쓸하고 더운 ...   \n",
       "775  생물 시간이었다.  “이 없는 동물이 무엇인지 아는가?”  선생이 두 번씩 거푸 물...   \n",
       "\n",
       "                                                target  \n",
       "0     재미있는 미술 작품들이 가득한 알쏭달쏭 미술관에 온 걸 환영합니다.\" \"이쪽에 있...  \n",
       "1     \"하늘 천 땅 지 하늘 천 땅 지\" 꼬마 <인물1>는 할아버지를 따라 열심히 천자...  \n",
       "2     1923년 1월의 어느 겨울밤 아이들이 화롯불에 둘러앉아 할아버지가 들려주시는 옛...  \n",
       "3     어깨동무 씨 동무 미나리 밭에 앉았다. 동무 동무 동무 보리가 나도록 씨동무. 서...  \n",
       "4     할머니는 늘 신문을 오려 붙이고 우표책을 정리하셨죠. “할아버지 헌 우표는 뭐하러...  \n",
       "..                                                 ...  \n",
       "771   이 게임속의 또다른 나 자신인 아름백설공주다. 게임 화면으로 돌아오자 아름백조가 ...  \n",
       "772   휴일이면 소풍을 가거나, 맛있는 식당을 찾아다니기도 했어요. 하지만 무언가 허전했...  \n",
       "773   오묘하신 하느님의 재주를 자랑하 듯이, 칠색의 영롱한 무지개가 커다랗게 숲 이 편...  \n",
       "774   칩칩스럽게 날아드는 파리떼도 장난꾼 각다귀들도 귀찮다. 얼금뱅이요 왼손잡이인 드팀...  \n",
       "775    “음, 창남인가. 어데 말해 보아.”  “이 없는 동물은 늙은 영감입니다!”  ...  \n",
       "\n",
       "[776 rows x 2 columns]"
      ]
     },
     "execution_count": 16,
     "metadata": {},
     "output_type": "execute_result"
    }
   ],
   "source": [
    "data = {'label':labels, 'target':targets}\n",
    "labeled_df = pd.DataFrame(data)\n",
    "labeled_df"
   ]
  },
  {
   "cell_type": "code",
   "execution_count": 14,
   "id": "36267111",
   "metadata": {},
   "outputs": [],
   "source": [
    "labeled_df.to_csv('labeld_dataset_0912.csv')"
   ]
  }
 ],
 "metadata": {
  "kernelspec": {
   "display_name": "Python 3 (ipykernel)",
   "language": "python",
   "name": "python3"
  },
  "language_info": {
   "codemirror_mode": {
    "name": "ipython",
    "version": 3
   },
   "file_extension": ".py",
   "mimetype": "text/x-python",
   "name": "python",
   "nbconvert_exporter": "python",
   "pygments_lexer": "ipython3",
   "version": "3.7.0"
  },
  "vscode": {
   "interpreter": {
    "hash": "ff4f85d6e04298634172ac5d8264e7e9b556b95639fe52ebb9425c4d4cba0c9c"
   }
  }
 },
 "nbformat": 4,
 "nbformat_minor": 5
}
