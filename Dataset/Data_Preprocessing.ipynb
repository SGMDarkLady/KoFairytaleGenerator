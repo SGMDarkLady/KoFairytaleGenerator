{
 "cells": [
  {
   "cell_type": "code",
   "execution_count": 92,
   "id": "02cee425",
   "metadata": {},
   "outputs": [],
   "source": [
    "import pandas as pd\n",
    "import openpyxl"
   ]
  },
  {
   "cell_type": "markdown",
   "id": "e3216058",
   "metadata": {},
   "source": [
    "# 1. Sentiment Analysis로 부정적 내용 제거 "
   ]
  },
  {
   "cell_type": "code",
   "execution_count": null,
   "id": "897a9675",
   "metadata": {},
   "outputs": [],
   "source": []
  },
  {
   "cell_type": "markdown",
   "id": "4cd352ff",
   "metadata": {},
   "source": [
    "# 2. Unsmile로 혐오 표현 데이터셋 제거"
   ]
  },
  {
   "cell_type": "code",
   "execution_count": null,
   "id": "c90c4984",
   "metadata": {},
   "outputs": [],
   "source": []
  },
  {
   "cell_type": "markdown",
   "id": "8b53e76d",
   "metadata": {},
   "source": [
    "# 3. Gender Swapping Data Augmentation(선택)"
   ]
  },
  {
   "cell_type": "code",
   "execution_count": 93,
   "id": "23f3e764",
   "metadata": {},
   "outputs": [
    {
     "name": "stdout",
     "output_type": "stream",
     "text": [
      "<class 'pandas.core.frame.DataFrame'>\n",
      "RangeIndex: 1314 entries, 0 to 1313\n",
      "Data columns (total 2 columns):\n",
      " #   Column      Non-Null Count  Dtype \n",
      "---  ------      --------------  ----- \n",
      " 0   Unnamed: 0  1314 non-null   int64 \n",
      " 1   동화          1275 non-null   object\n",
      "dtypes: int64(1), object(1)\n",
      "memory usage: 20.7+ KB\n"
     ]
    }
   ],
   "source": [
    "df = pd.read_csv('dataset/dataset.csv', encoding='UTF-8')\n",
    "df.info()"
   ]
  },
  {
   "cell_type": "markdown",
   "id": "2cb846de",
   "metadata": {},
   "source": [
    "## 3-1) 익명화\n",
    "동화 데이터에 등장하는 등장인물들의 이름을 익명화합니다. 이름에 의한 성별 고정관념을 없애는 과정입니다.\n",
    "<br>각 인물별로 번호를 메겨 E(번호) 형태의 토큰으로 대체합니다."
   ]
  },
  {
   "cell_type": "code",
   "execution_count": 94,
   "id": "aff96e1e",
   "metadata": {},
   "outputs": [
    {
     "data": {
      "text/plain": [
       "0       다다\n",
       "1      방정환\n",
       "2      손기정\n",
       "3       선미\n",
       "4      반쪽이\n",
       "      ... \n",
       "227    바오밥\n",
       "228    마룰라\n",
       "229    와르다\n",
       "230     롤리\n",
       "231     월터\n",
       "Name: 인물, Length: 232, dtype: object"
      ]
     },
     "execution_count": 94,
     "metadata": {},
     "output_type": "execute_result"
    }
   ],
   "source": [
    "name_list = pd.read_csv('GenderSwapping/character.txt')['인물']\n",
    "name_list"
   ]
  },
  {
   "cell_type": "code",
   "execution_count": 95,
   "id": "3001c444",
   "metadata": {},
   "outputs": [],
   "source": [
    "def anonymize(text, name_list):\n",
    "    for i in range(len(name_list)):\n",
    "        #new_name = '인물' + str(i)\n",
    "        text = text.replace(name_list[i], '<인물' + str(i) +'>')\n",
    "    return text"
   ]
  },
  {
   "cell_type": "code",
   "execution_count": 96,
   "id": "065bd4a7",
   "metadata": {},
   "outputs": [],
   "source": [
    "anonymized_data = []\n",
    "for i in range(len(df['동화'])):\n",
    "    story = str(df['동화'][i])\n",
    "    text = anonymize(story, name_list)\n",
    "    anonymized_data.append(text)\n",
    "    \n",
    "data = {'동화':anonymized_data}\n",
    "anonymized_df = pd.DataFrame(data)"
   ]
  },
  {
   "cell_type": "code",
   "execution_count": 97,
   "id": "30127eea",
   "metadata": {},
   "outputs": [
    {
     "name": "stdout",
     "output_type": "stream",
     "text": [
      "원본 데이터: 1314 anonymized 데이터: 1314\n",
      "원본 데이터 \"방정환\" 등장 수: 4 [1, 2, 565, 809]\n",
      "anonymized 데이터 \"방정환\" 등장 수: 4 [1, 2, 565, 809]\n"
     ]
    }
   ],
   "source": [
    "#제대로 익명화되었는지 확인하기\n",
    "print('원본 데이터:', len(df['동화']), 'anonymized 데이터:', len(anonymized_df))\n",
    "print(\n",
    "    '원본 데이터 \"방정환\" 등장 수:', \n",
    "      len(df[df['동화'].str.contains('방정환', na=False)]),\n",
    "      df.index[df['동화'].str.contains('방정환', na=False)].tolist()\n",
    ")\n",
    "print(\n",
    "    'anonymized 데이터 \"방정환\" 등장 수:',\n",
    "      len(anonymized_df.query('동화.str.contains(\"<인물1>\")')),\n",
    "     anonymized_df.index[anonymized_df['동화'].str.contains('<인물1>', na=False)].tolist()\n",
    ")"
   ]
  },
  {
   "cell_type": "markdown",
   "id": "ac00f8ff",
   "metadata": {},
   "source": [
    "## 3-2) 여성어/남성어 바꾸기 \n",
    "1. 엄마/아빠, 할머니/할아버지, 공주/왕자 등 단어에 성별을 유추할 수 있는 단어들을 sawpping합니다. 이를 통해 주어 뒤에 서술되는 요소가 주어의 성별에 영향을 받지 않도록 만듭니다.\n",
    "2. '여배우(=배우)', '하녀(=하인)'처럼 stem이 되는 단어가 보편적 기준으로서 남성을 지칭하고, 여성을 지칭하기 위해 단어의 앞이나 뒤에 '-여'를 붙인 단어들을 stem이 되는 단어로 바꿉니다. "
   ]
  },
  {
   "cell_type": "code",
   "execution_count": 17,
   "id": "863710bd",
   "metadata": {},
   "outputs": [],
   "source": [
    "#word_list 정의\n",
    "female_word_list = [\n",
    "    '엄마', '할머니', '여왕', '공주', '그녀', '여신', '하녀', '여학생', '의붓어머니', '계모', '마녀',\n",
    "    '여자아이', '간호사', '여의사','그녀', '신부', '과부', '미망인', '소녀', '모성애', '아내', '집사람', '손녀',\n",
    "    '처녀', '여자친구', '딸', '언니', '누나','새언니', '숙녀', '여성'\n",
    "]\n",
    "\n",
    "male_word_list = [\n",
    "    '아빠', '할아버지', '왕', '왕자', '그', '신', '하인', '학생', '의붓아버지', '계부', '마법사',\n",
    "    '남자아이', '의사','의사', '그', '신랑', '홀아비', '홀아비', '소년', '부성애', '남편', '바깥사람', '손자',\n",
    "    '총각', '남자친구', '아들', '오빠', '형','새오빠', '신사', '남성'\n",
    "]\n",
    "\n",
    "조사_list = ['께', '에게', '한테', '더러', '에서','의',\n",
    "          '에게서', '한테서', '와', '하고', '처럼', '같이', '보다',\n",
    "          '만큼', '도']\n",
    "\n",
    "#은/는, 이/가는 수작업으로 붙인다.\n",
    "additional_female_word_list = [\n",
    "    '엄마는', '엄마가', '할머니는', '할머니가', '여왕이', '여왕은', '공주가', '공주는', '그녀가', '그녀는', '여신이', '여신은'\n",
    "    '하녀가', '하녀는', '여학생은', '여학생이', '의붓어머니가', '의붓어머니는', '계모가', '계모는', '마녀가', '마녀는',\n",
    "    '여자아이가', '여자아이는', '간호사가', '간호사는', '여의사가', '여의사는','그녀는', '그녀가', '신부는', '신부가', '과부가', '과부는', '미망인은','미망인이',\n",
    "    '소녀가', '소녀는','모성애가', '모성애는', '아내는', '아내가', '집사람이', '집사람은', '손녀는', '손녀가', '처녀가', '처녀는',\n",
    "    '여자친구가', '여자친구는','딸은', '딸이', '언니가', '언니는', '누나가', '누나는', '새언니가', '새언니는', '숙녀가', '숙녀는',\n",
    "    '여성이', '여성은']\n",
    "\n",
    "additional_male_word_list = [\n",
    "    '아빠는', '아빠가', '할아버지는', '할아버지가', '왕이', '왕은', '왕자가', '왕자는', '그가', '그는', '신이', '신은'\n",
    "    '하인이', '하인은', '남학생은', '남학생이', '의붓아버지가', '의붓아버지는', '계부가', '계부는', '마법사가', '마법사는',\n",
    "    '남자아이가', '남자아이는', '의사가', '의사는', '의사가', '의사는', '그는', '그가', '신랑은', '신랑이', '홀아비가', '홀아비는', '홀아비는','홀아비가',\n",
    "    '소년이', '소년은','부성애가', '부성애는', '남편은', '남편이', '바깥사람이', '바깥사람은', '손자는', '손자가', '총각이', '총각은',\n",
    "    '남자친구가', '남자친구는','아들은', '아들이', '오빠가', '오빠는', '형이', '형은', '새오빠가', '새오빠는', '신사가', '신사는',\n",
    "    '남성이', '남성은']"
   ]
  },
  {
   "cell_type": "code",
   "execution_count": 38,
   "id": "de042a8c",
   "metadata": {},
   "outputs": [],
   "source": [
    "def add_grammer(origin_word_list, additional_list):\n",
    "    final_word = []\n",
    "    for i in range(len(origin_word_list)):\n",
    "        for n in range(len(조사_list)):\n",
    "            word = str(origin_word_list[i])+str(조사_list[n])\n",
    "            final_word.append(word)\n",
    "    for x in range(len(additional_list)):\n",
    "        final_word.append(additional_list[x])\n",
    "    return final_word"
   ]
  },
  {
   "cell_type": "code",
   "execution_count": 39,
   "id": "6176125a",
   "metadata": {},
   "outputs": [],
   "source": [
    "final_female_word_list = add_grammer(female_word_list, additional_female_word_list)\n",
    "\n",
    "final_male_word_list = add_grammer(male_word_list, additional_male_word_list)"
   ]
  },
  {
   "cell_type": "code",
   "execution_count": 40,
   "id": "6dc82d3d",
   "metadata": {},
   "outputs": [
    {
     "name": "stdout",
     "output_type": "stream",
     "text": [
      "['엄마께', '엄마에게', '엄마한테', '엄마더러', '엄마에서', '엄마의', '엄마에게서', '엄마한테서', '엄마와', '엄마하고', '엄마처럼', '엄마같이', '엄마보다', '엄마만큼', '엄마도', '할머니께', '할머니에게', '할머니한테', '할머니더러', '할머니에서', '할머니의', '할머니에게서', '할머니한테서', '할머니와', '할머니하고', '할머니처럼', '할머니같이', '할머니보다', '할머니만큼', '할머니도', '여왕께', '여왕에게', '여왕한테', '여왕더러', '여왕에서', '여왕의', '여왕에게서', '여왕한테서', '여왕와', '여왕하고', '여왕처럼', '여왕같이', '여왕보다', '여왕만큼', '여왕도', '공주께', '공주에게', '공주한테', '공주더러', '공주에서', '공주의', '공주에게서', '공주한테서', '공주와', '공주하고', '공주처럼', '공주같이', '공주보다', '공주만큼', '공주도', '그녀께', '그녀에게', '그녀한테', '그녀더러', '그녀에서', '그녀의', '그녀에게서', '그녀한테서', '그녀와', '그녀하고', '그녀처럼', '그녀같이', '그녀보다', '그녀만큼', '그녀도', '여신께', '여신에게', '여신한테', '여신더러', '여신에서', '여신의', '여신에게서', '여신한테서', '여신와', '여신하고', '여신처럼', '여신같이', '여신보다', '여신만큼', '여신도', '하녀께', '하녀에게', '하녀한테', '하녀더러', '하녀에서', '하녀의', '하녀에게서', '하녀한테서', '하녀와', '하녀하고', '하녀처럼', '하녀같이', '하녀보다', '하녀만큼', '하녀도', '여학생께', '여학생에게', '여학생한테', '여학생더러', '여학생에서', '여학생의', '여학생에게서', '여학생한테서', '여학생와', '여학생하고', '여학생처럼', '여학생같이', '여학생보다', '여학생만큼', '여학생도', '의붓어머니께', '의붓어머니에게', '의붓어머니한테', '의붓어머니더러', '의붓어머니에서', '의붓어머니의', '의붓어머니에게서', '의붓어머니한테서', '의붓어머니와', '의붓어머니하고', '의붓어머니처럼', '의붓어머니같이', '의붓어머니보다', '의붓어머니만큼', '의붓어머니도', '계모께', '계모에게', '계모한테', '계모더러', '계모에서', '계모의', '계모에게서', '계모한테서', '계모와', '계모하고', '계모처럼', '계모같이', '계모보다', '계모만큼', '계모도', '마녀께', '마녀에게', '마녀한테', '마녀더러', '마녀에서', '마녀의', '마녀에게서', '마녀한테서', '마녀와', '마녀하고', '마녀처럼', '마녀같이', '마녀보다', '마녀만큼', '마녀도', '여자아이께', '여자아이에게', '여자아이한테', '여자아이더러', '여자아이에서', '여자아이의', '여자아이에게서', '여자아이한테서', '여자아이와', '여자아이하고', '여자아이처럼', '여자아이같이', '여자아이보다', '여자아이만큼', '여자아이도', '간호사께', '간호사에게', '간호사한테', '간호사더러', '간호사에서', '간호사의', '간호사에게서', '간호사한테서', '간호사와', '간호사하고', '간호사처럼', '간호사같이', '간호사보다', '간호사만큼', '간호사도', '여의사께', '여의사에게', '여의사한테', '여의사더러', '여의사에서', '여의사의', '여의사에게서', '여의사한테서', '여의사와', '여의사하고', '여의사처럼', '여의사같이', '여의사보다', '여의사만큼', '여의사도', '그녀께', '그녀에게', '그녀한테', '그녀더러', '그녀에서', '그녀의', '그녀에게서', '그녀한테서', '그녀와', '그녀하고', '그녀처럼', '그녀같이', '그녀보다', '그녀만큼', '그녀도', '신부께', '신부에게', '신부한테', '신부더러', '신부에서', '신부의', '신부에게서', '신부한테서', '신부와', '신부하고', '신부처럼', '신부같이', '신부보다', '신부만큼', '신부도', '과부께', '과부에게', '과부한테', '과부더러', '과부에서', '과부의', '과부에게서', '과부한테서', '과부와', '과부하고', '과부처럼', '과부같이', '과부보다', '과부만큼', '과부도', '미망인께', '미망인에게', '미망인한테', '미망인더러', '미망인에서', '미망인의', '미망인에게서', '미망인한테서', '미망인와', '미망인하고', '미망인처럼', '미망인같이', '미망인보다', '미망인만큼', '미망인도', '소녀께', '소녀에게', '소녀한테', '소녀더러', '소녀에서', '소녀의', '소녀에게서', '소녀한테서', '소녀와', '소녀하고', '소녀처럼', '소녀같이', '소녀보다', '소녀만큼', '소녀도', '모성애께', '모성애에게', '모성애한테', '모성애더러', '모성애에서', '모성애의', '모성애에게서', '모성애한테서', '모성애와', '모성애하고', '모성애처럼', '모성애같이', '모성애보다', '모성애만큼', '모성애도', '아내께', '아내에게', '아내한테', '아내더러', '아내에서', '아내의', '아내에게서', '아내한테서', '아내와', '아내하고', '아내처럼', '아내같이', '아내보다', '아내만큼', '아내도', '집사람께', '집사람에게', '집사람한테', '집사람더러', '집사람에서', '집사람의', '집사람에게서', '집사람한테서', '집사람와', '집사람하고', '집사람처럼', '집사람같이', '집사람보다', '집사람만큼', '집사람도', '손녀께', '손녀에게', '손녀한테', '손녀더러', '손녀에서', '손녀의', '손녀에게서', '손녀한테서', '손녀와', '손녀하고', '손녀처럼', '손녀같이', '손녀보다', '손녀만큼', '손녀도', '처녀께', '처녀에게', '처녀한테', '처녀더러', '처녀에서', '처녀의', '처녀에게서', '처녀한테서', '처녀와', '처녀하고', '처녀처럼', '처녀같이', '처녀보다', '처녀만큼', '처녀도', '여자친구께', '여자친구에게', '여자친구한테', '여자친구더러', '여자친구에서', '여자친구의', '여자친구에게서', '여자친구한테서', '여자친구와', '여자친구하고', '여자친구처럼', '여자친구같이', '여자친구보다', '여자친구만큼', '여자친구도', '딸께', '딸에게', '딸한테', '딸더러', '딸에서', '딸의', '딸에게서', '딸한테서', '딸와', '딸하고', '딸처럼', '딸같이', '딸보다', '딸만큼', '딸도', '언니께', '언니에게', '언니한테', '언니더러', '언니에서', '언니의', '언니에게서', '언니한테서', '언니와', '언니하고', '언니처럼', '언니같이', '언니보다', '언니만큼', '언니도', '누나께', '누나에게', '누나한테', '누나더러', '누나에서', '누나의', '누나에게서', '누나한테서', '누나와', '누나하고', '누나처럼', '누나같이', '누나보다', '누나만큼', '누나도', '새언니께', '새언니에게', '새언니한테', '새언니더러', '새언니에서', '새언니의', '새언니에게서', '새언니한테서', '새언니와', '새언니하고', '새언니처럼', '새언니같이', '새언니보다', '새언니만큼', '새언니도', '숙녀께', '숙녀에게', '숙녀한테', '숙녀더러', '숙녀에서', '숙녀의', '숙녀에게서', '숙녀한테서', '숙녀와', '숙녀하고', '숙녀처럼', '숙녀같이', '숙녀보다', '숙녀만큼', '숙녀도', '여성께', '여성에게', '여성한테', '여성더러', '여성에서', '여성의', '여성에게서', '여성한테서', '여성와', '여성하고', '여성처럼', '여성같이', '여성보다', '여성만큼', '여성도', '엄마는', '엄마가', '할머니는', '할머니가', '여왕이', '여왕은', '공주가', '공주는', '그녀가', '그녀는', '여신이', '여신은하녀가', '하녀는', '여학생은', '여학생이', '의붓어머니가', '의붓어머니는', '계모가', '계모는', '마녀가', '마녀는', '여자아이가', '여자아이는', '간호사가', '간호사는', '여의사가', '여의사는', '그녀는', '그녀가', '신부는', '신부가', '과부가', '과부는', '미망인은', '미망인이', '소녀가', '소녀는', '모성애가', '모성애는', '아내는', '아내가', '집사람이', '집사람은', '손녀는', '손녀가', '처녀가', '처녀는', '여자친구가', '여자친구는', '딸은', '딸이', '언니가', '언니는', '누나가', '누나는', '새언니가', '새언니는', '숙녀가', '숙녀는', '여성이', '여성은']\n"
     ]
    }
   ],
   "source": [
    "print(final_female_word_list)"
   ]
  },
  {
   "cell_type": "code",
   "execution_count": 41,
   "id": "504c8299",
   "metadata": {},
   "outputs": [],
   "source": [
    "def preprocessing(text, origin_word_list):\n",
    "    for i in range(len(origin_word_list)):\n",
    "        text = text.replace(origin_word_list[i], '*'+origin_word_list[i])\n",
    "    return text"
   ]
  },
  {
   "cell_type": "code",
   "execution_count": 42,
   "id": "c918016c",
   "metadata": {},
   "outputs": [],
   "source": [
    "def gender_swapping(text, origin_word_list, swapped_word_list):\n",
    "    for i in range(len(origin_word_list)):\n",
    "        text = text.replace('*'+origin_word_list[i], swapped_word_list[i])\n",
    "    return text"
   ]
  },
  {
   "cell_type": "code",
   "execution_count": 98,
   "id": "3ac43e89",
   "metadata": {},
   "outputs": [],
   "source": [
    "swapped_data = []\n",
    "for i in range(len(df)):\n",
    "    story = str(anonymized_df['동화'][i])\n",
    "    f_to_m = preprocessing(story, final_female_word_list)\n",
    "    m_to_f = preprocessing(f_to_m, final_male_word_list)\n",
    "    f_to_m_swapped = gender_swapping(m_to_f, final_female_word_list, final_male_word_list)\n",
    "    m_to_f_swapped = gender_swapping(f_to_m_swapped, final_male_word_list, final_female_word_list)\n",
    "    swapped_data.append(m_to_f_swapped)\n",
    "    \n",
    "data = {'동화':swapped_data}\n",
    "gender_swapped_df = pd.DataFrame(data)"
   ]
  },
  {
   "cell_type": "code",
   "execution_count": 99,
   "id": "98ebfffe",
   "metadata": {},
   "outputs": [
    {
     "name": "stdout",
     "output_type": "stream",
     "text": [
      "원본 데이터: 1314 swapped 데이터: 1314\n",
      "원본 데이터 할머니 단어 수: 109\n",
      "원본 데이터 할아버지 단어 수: 100\n",
      "swapped 데이터 할머니 단어 수: 100\n",
      "swapped 데이터 할아버지 단어 수: 109\n"
     ]
    }
   ],
   "source": [
    "#제대로 swapped되었는지 확인\n",
    "print('원본 데이터:', len(df['동화']), 'swapped 데이터:', len(gender_swapped_df))\n",
    "print('원본 데이터 할머니 단어 수:', len(df[df['동화'].str.contains('할머니가', na=False)]))\n",
    "print('원본 데이터 할아버지 단어 수:', len(df[df['동화'].str.contains('할아버지가', na=False)]))\n",
    "print('swapped 데이터 할머니 단어 수:', len(gender_swapped_df.query('동화.str.contains(\"할머니가\")')))\n",
    "print('swapped 데이터 할아버지 단어 수:', len(gender_swapped_df.query('동화.str.contains(\"할아버지가\")')))"
   ]
  },
  {
   "cell_type": "code",
   "execution_count": 101,
   "id": "ece6b9f6",
   "metadata": {},
   "outputs": [
    {
     "data": {
      "text/plain": [
       "' 우리 친구들은 미술이 뭐라고 생각하나요.  종이에 그림을 그리는 것 아니면 멋진 조각 작품을 만드는 것 그런데 지금의 미술은 꼭 그림이나 조각품만이 아니랍니다.  비디오 아트 행위 예술 벽의 낙서까지 그 어떤 것도 예술이고 미술일 수 있다고 해요. 그럼 오늘 신나는 동화여행 속에서 알쏭달쏭 현대미술관으로 재미있고 엉뚱한 작품을 만나러 가볼까요.  알쏭달쏭 미술관 \"나는 알쏭달쏭 미술관 관장 \\'<인물0>\\'란다 이곳은 신기하고 괴상한 작품으로 가득하지 재미있는 미술 작품들이 가득한 알쏭달쏭 미술관에 온 걸 환영합니다.\" \"이쪽에 있는 변기를 볼래? 화장실에서나 볼 수 있는 변기가 미술 작품이라면 믿겠니?\" \"네? 변기가 미술 작품이라구요?\" \"너희들 모나리자란 그림을 알고 있지? 레오나르도 다빈치가 그린 그림이야. 그런데 뒤샹이라는 화가는 모나리자의 얼굴에 수염만 그리고 전시를 했단다. 그래서 사람들은 깜짝 놀랐지.\" \"네? 유명한 작품에 낙서를 한 게 미술 작품이라구요?\" \"뒤샹은 장난꾸러기였나봐. 그럼 이거는 뭘 그린 건지 한번 맞춰볼래? 여러 색깔의 물감을 뿌리고 붓고 흘린 거란다 곳곳에 커다란 물감 얼룩도 있지\" \"폴록이라는 화가는 이게 연보라빛 안개라는구나. 그런데 미술관 관장인 내가 봐도 신나게 물감을 뿌려 놓은 것 같거든 혹시 너희들 눈에는 안개가 보이니?\" \"글쎄요? 보이는 것도 같고 아닌 것 같기도 하고..\" \"그렇게 볼록은 커다란 종류의 물감을 쏟아 부었어. 그리고 붓을 휘젓고 물감을 튀겼지. 가끔은 물감 대신 모래를 톡톡 뿌리기도 했단다. 진짜 신났겠지?\" \"물감을 가지고 장난치는 것 같아...\" \"화가 에른스트는 물건의 종이를 대고 문지르면서 작품을 만들었어. 어떤 물건이냐에 따라 무늬가 달라지지!\" \"에이 이건 나도 그릴 수 있을 것 같아.\" \"종이에 물감을 쭉 짜놓고 접었다가 펴면 양쪽에 똑같은 그림이 나타나지 이걸 \\'데칼코마니\\'라고 한단다.\" \"이 그림은 어떠냐 이것도 미술 작품이야. 리엔텐 슈타인은 만화의 한 장면에 검은 선을 그린 다음 알록달록 색칠을 했단다 진짜 만화책처럼 보이려고 촘촘히 작은 점도 찍었어.\"  \"관장님 저도 만화책으로 작품을 만들어 볼래요!\" \"그리고 리히텐슈타인은 말풍선 안에 글도 넣었단다. 누구나 알기 쉽게 재미있는 그림을 그리고 싶었던 거야 어때 만화를 보는 것처럼 쉽지?\" \"네 꼭 만화책 같아요.\" \"햄버거와 막대 아이스크림을 미술 작품이라고 전시한 미술가도 있단다. 먹고 싶다기보다는 깔고 앉고 싶지.\" \"물론 절대로 먹을 수는 없어 고무와 상자 천으로 만들어졌거든.\" \"야 이런 것도 현대미술이구나. 어 갑자기 배가 고파져.\" \"화가 올덴버*그녀는 반대로 생각하는 걸 좋아했단다. 사람이나 눈물 대신 물건이나 음식을 조각으로 만들었어. \"숟가락, 미끄럼틀, 먹다 버린 사과, 배드민턴 공 이런 재료들이 모두 미술이 되었지 재료도 이것저것 써서 작은 곳은 엄청 크게 단단한 곳은 물렁물렁하게 만들었단다.\" \"먹다 버린 사과가 멋진 작품이 된 거야.\"  \"심심해서 끄적거리는 것도 미술이 될까?\" \"화가 바스키아는 지하철과 길거리 벽에 글을 쓰고 그림을 그렸어. 아프리카 가면을 닮은 얼굴이랑 글자 화려한 색깔과 모양이 어우러져 활기찬 그림이 되었지.\" \"낙서가 예술 작품이 될 수 있다구요? 어 그럼 나도 벌써 예술간데..?\" \"스미스슨이라는 화가는 호수의 빙글빙글 달팽이 집 모양 둑을 만들었어. 이건 비행기를 타야 볼 수 있겠지.  \"저기요 저기 멋진 둑이 보여요.\" \"이 둑은 물에 잠기기도 하고 부서지거나 깎이면서 조금씩 없어진단다. 이런 것까지도 작품이라고 생각했단다. 현대 미술가들은 톡톡 튀는 생각 톡톡 튀는 방법으로 작품을 만들어요.\" \"허스트는 죽은 동물이나 알약으로 죽음을 표현했단다.\" \"그런데 이게 모두 미술이 맞는 걸까?\"  \"미술이 그림을 그리는 것만은 아닌가 봐요. 그래 맞아 현대 미술가들은 자기가 그리고 싶은 대로 그리고 만들고 싶은 대로 만들지 우리는 그냥 보이는 대로 느끼면 된단다.\" 정말 생각지도 않았던 것들이 미술 작품으로 전시되어 있었어요. 이렇게 현대미술은 표현 방법이나 주제 또 재료와 도구들이 아주 아주 다양해졌답니다. 우리 친구들도 느끼는 대로 생각하는 대로 머릿속에 그려지는 상상력을 마음껏 나타내 보세요. 바로 그게 미술이니까요. 그럼 우리는 다음에 또 다른 이야기로 다시 만나요. 안녕~'"
      ]
     },
     "execution_count": 101,
     "metadata": {},
     "output_type": "execute_result"
    }
   ],
   "source": [
    "gender_swapped_df['동화'][0]"
   ]
  },
  {
   "cell_type": "code",
   "execution_count": 102,
   "id": "16cbef29",
   "metadata": {},
   "outputs": [],
   "source": [
    "gender_swapped_df.to_csv('dataset/swapped_data_0822.csv', encoding='UTF-8')"
   ]
  },
  {
   "cell_type": "markdown",
   "id": "a234ba5a",
   "metadata": {},
   "source": [
    "# 4. Labeling\n",
    "seq2seq 모델에 적용하기 위해 데이터셋의 앞 두 문장을 input으로, 스토리 전체를 target으로 학습 데이터를 수정합니다. "
   ]
  },
  {
   "cell_type": "code",
   "execution_count": null,
   "id": "57eee844",
   "metadata": {},
   "outputs": [],
   "source": [
    "df = pd.read_excel('dataset_0831_unsmile.xlsx', engine='openpyxl')\n",
    "df = df.dropna(axis=0)\n",
    "df = df.drop(index=520, axis=0)\n",
    "#df = df.drop(index=303, axis=0)\n",
    "df = df.drop(df.columns[0], axis=1)\n",
    "df = df.reset_index(drop=True)\n",
    "df"
   ]
  },
  {
   "cell_type": "code",
   "execution_count": null,
   "id": "54a17e71",
   "metadata": {},
   "outputs": [],
   "source": [
    "def split_to_sentences(text):\n",
    "    \"\"\"\n",
    "    Args: \n",
    "        text (str): raw text to split to sentences on end of sentences marks.\n",
    "    Returns:\n",
    "        List of sentences from text.\n",
    "    \"\"\"\n",
    "    # Split on end of sentence, but keep the punctuation marks.\n",
    "    text = text.replace('\\n', '')\n",
    "    sentences = text.split('.')\n",
    "    # If the last sentence is ''\n",
    "    if len(sentences) > 1 and len(sentences[-1]) < 3:\n",
    "        sentences.pop()\n",
    "    return sentences"
   ]
  },
  {
   "cell_type": "code",
   "execution_count": null,
   "id": "56633b3d",
   "metadata": {},
   "outputs": [],
   "source": [
    "labels = []\n",
    "for i in range(len(df)):\n",
    "    text = df['동화'][i]\n",
    "    sentences = split_to_sentences(text)\n",
    "\n",
    "    label = sentences[0] + '.' + sentences[1]\n",
    "    labels.append(label)\n",
    "labels"
   ]
  },
  {
   "cell_type": "code",
   "execution_count": null,
   "id": "b425deea",
   "metadata": {},
   "outputs": [],
   "source": [
    "labeled_df = df.assign(label = labels)\n",
    "labeled_df.rename(columns = {'동화':'target'},inplace=True)\n",
    "labeled_df"
   ]
  },
  {
   "cell_type": "code",
   "execution_count": null,
   "id": "36267111",
   "metadata": {},
   "outputs": [],
   "source": [
    "labeled_df.to_csv('labeld_dataset_0902.csv')"
   ]
  }
 ],
 "metadata": {
  "kernelspec": {
   "display_name": "Python 3 (ipykernel)",
   "language": "python",
   "name": "python3"
  },
  "language_info": {
   "codemirror_mode": {
    "name": "ipython",
    "version": 3
   },
   "file_extension": ".py",
   "mimetype": "text/x-python",
   "name": "python",
   "nbconvert_exporter": "python",
   "pygments_lexer": "ipython3",
   "version": "3.7.0"
  },
  "vscode": {
   "interpreter": {
    "hash": "e6ca58ca60af1a323d2fd1825711943899e8fdf116af5f48df7110b796a46c0f"
   }
  }
 },
 "nbformat": 4,
 "nbformat_minor": 5
}
