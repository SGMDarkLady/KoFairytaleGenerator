{
 "cells": [
  {
   "cell_type": "code",
   "execution_count": 156,
   "id": "cc9aaa48",
   "metadata": {},
   "outputs": [],
   "source": [
    "import json\n",
    "import torch"
   ]
  },
  {
   "cell_type": "code",
   "execution_count": 157,
   "id": "f8d5139c",
   "metadata": {},
   "outputs": [],
   "source": [
    "with open('tokenizer/tokenizer.json', encoding='UTF-8') as json_file:\n",
    "    json_data = json.load(json_file)\n",
    "    \n",
    "vocab = json_data['model']['vocab']"
   ]
  },
  {
   "cell_type": "code",
   "execution_count": 158,
   "id": "f6d767e3",
   "metadata": {},
   "outputs": [],
   "source": [
    "from transformers import GPT2LMHeadModel\n",
    "\n",
    "model = GPT2LMHeadModel.from_pretrained('../../../SGM/finetuning/kogpt2_tokenizer_0905', use_cache = False)#.to(device='cuda', non_blocking=True)\n",
    "# torch.cuda.empty_cache()"
   ]
  },
  {
   "cell_type": "markdown",
   "id": "5aab4e00",
   "metadata": {},
   "source": [
    "### Cosine Similiarity \n",
    "- geder bias 확인"
   ]
  },
  {
   "cell_type": "code",
   "execution_count": 62,
   "id": "1f02f6ee",
   "metadata": {},
   "outputs": [
    {
     "name": "stdout",
     "output_type": "stream",
     "text": [
      "아빠 - 부엌: 0.3935\n",
      "엄마 - 부엌: 0.4269\n"
     ]
    }
   ],
   "source": [
    "import torch\n",
    "#cosine similiarity\n",
    "cos = torch.nn.CosineSimilarity(dim=1)\n",
    "\n",
    "male_keyword = model.transformer.wte.weight.data[vocab['아빠']].reshape(1,768)\n",
    "female_keyword = model.transformer.wte.weight.data[vocab['엄마']].reshape(1,768)\n",
    "search_keyword = model.transformer.wte.weight.data[vocab['부엌']].reshape(1,768)\n",
    "\n",
    "output = [cos(male_keyword,search_keyword), cos(female_keyword,search_keyword)]\n",
    "\n",
    "male_similarity = str(str(output[0]).split('[')[1]).split(']')[0]\n",
    "female_similarity = str(str(output[1]).split('[')[1]).split(']')[0]\n",
    "\n",
    "print(\"아빠 - 부엌\" +':', float(male_similarity))\n",
    "print(\"엄마 - 부엌\" + ':', float(female_similarity))"
   ]
  },
  {
   "cell_type": "markdown",
   "id": "75780a04",
   "metadata": {},
   "source": [
    "### Define wordset"
   ]
  },
  {
   "cell_type": "code",
   "execution_count": 13,
   "id": "b8aa88e4",
   "metadata": {},
   "outputs": [
    {
     "data": {
      "text/plain": [
       "\"\\ndefinitional\\n    ['▁여성은'],\\n    ['▁여성을'],\\n    ['▁여성들은'],\\n    ['▁여성에게'],\\n    ['▁여성들이'],\\n    ['▁여성들의'],\\n    ['▁여성선거'],\\n    ['','▁하남성'],\\n    ['▁여자와'],\\n    ['여성'],\\n    ['▁여자를'],\\n    ['▁딸을'],\\n    ['▁딸인'],\\n    ['▁딸은'],\\n    ['딸아이'],\\n    ['딸래미'],\\n    ['외동딸'],\\n    ['딸아'],\\n    ['▁아들이며,'],\\n    ['▁아들에게'],\\n    ['','▁맏아들'],\\n    ['▁아들은'],\\n    ['','막내아들'],\\n    ['▁아내로'],\\n    \""
      ]
     },
     "execution_count": 13,
     "metadata": {},
     "output_type": "execute_result"
    }
   ],
   "source": [
    "'''\n",
    "definitional\n",
    "    ['▁여성은'],\n",
    "    ['▁여성을'],\n",
    "    ['▁여성들은'],\n",
    "    ['▁여성에게'],\n",
    "    ['▁여성들이'],\n",
    "    ['▁여성들의'],\n",
    "    ['▁여성선거'],\n",
    "    ['','▁하남성'],\n",
    "    ['▁여자와'],\n",
    "    ['여성'],\n",
    "    ['▁여자를'],\n",
    "    ['▁딸을'],\n",
    "    ['▁딸인'],\n",
    "    ['▁딸은'],\n",
    "    ['딸아이'],\n",
    "    ['딸래미'],\n",
    "    ['외동딸'],\n",
    "    ['딸아'],\n",
    "    ['▁아들이며,'],\n",
    "    ['▁아들에게'],\n",
    "    ['','▁맏아들'],\n",
    "    ['▁아들은'],\n",
    "    ['','막내아들'],\n",
    "    ['▁아내로'],\n",
    "    '''"
   ]
  },
  {
   "cell_type": "code",
   "execution_count": 97,
   "id": "ea43083f",
   "metadata": {},
   "outputs": [],
   "source": [
    "deifinitional = [\n",
    "    ['엄마', '아빠'], \n",
    "    ['▁엄마', '아빠'], \n",
    "    #['_여성', '▁남성'], \n",
    "    #['_여성의','▁남성의'], \n",
    "    ['▁여성이','▁남성이'],\n",
    "    ['▁여자', '▁남자'],\n",
    "    ['여자','남자'],\n",
    "    ['▁여자의','▁남자의'],\n",
    "    ['▁여자는','▁남자는'],\n",
    "    ['▁여자가','▁남자가'],\n",
    "    ['▁여자와','▁남자와'],\n",
    "    ['▁여자들이','▁남자들은'],\n",
    "    ['소녀','▁소년'],\n",
    "    ['▁소녀','소년'],\n",
    "    ['▁딸','▁아들'],\n",
    "    ['▁딸이','▁아들이'],\n",
    "    ['▁딸과','▁아들과'],\n",
    "    ['▁딸로','▁아들로,'],\n",
    "    ['▁딸의','▁아들의'],\n",
    "    ['##딸','##아들'],\n",
    "    ['할머니','할아버지'],\n",
    "    ['▁할머니','▁할아버지'],\n",
    "    ['##할머니''_할아버지는'],\n",
    "    ['손녀', '손자'],\n",
    "    ['손녀', '_손자인'],\n",
    "    ['손녀', '_손자'],\n",
    "    ['언니','오빠'],\n",
    "    ['언니','_오빠'],\n",
    "    ['누나','형'],\n",
    "    ['▁아내','▁남편'],\n",
    "    ['▁아내가','▁남편이'],\n",
    "    ['▁아내와','▁남편과'],\n",
    "    ['▁아내의','▁남편의'],\n",
    "    ['▁아내를','▁남편을'],\n",
    "    ['▁아내는','▁남편은'],\n",
    "    ['아내','남편'],  \n",
    "]"
   ]
  },
  {
   "cell_type": "code",
   "execution_count": 139,
   "id": "46e6a20e",
   "metadata": {},
   "outputs": [
    {
     "data": {
      "text/plain": [
       "\"\\n    ['언니','오빠'],\\n    ['언니','_오빠'],\\n    ['누나','형'],\\n    ['▁아내','▁남편'],\\n    ['▁아내가','▁남편이'],\\n    ['▁아내와','▁남편과'],\\n    ['▁아내의','▁남편의'],\\n    ['▁아내를','▁남편을'],\\n    ['▁아내는','▁남편은'],\\n    ['아내','남편']\\n    \""
      ]
     },
     "execution_count": 139,
     "metadata": {},
     "output_type": "execute_result"
    }
   ],
   "source": [
    "equalized_set = [\n",
    "    ['엄마', '아빠'], \n",
    "    ['▁엄마', '아빠'], \n",
    "    ['▁여성이','▁남성이'],\n",
    "    ['▁여자', '▁남자'],\n",
    "    ['여자','남자'],\n",
    "    ['▁여자의','▁남자의'],\n",
    "    ['▁여자는','▁남자는'],\n",
    "    ['▁여자가','▁남자가'],\n",
    "    ['▁여자와','▁남자와'],\n",
    "    ['▁여자들이','▁남자들은'],\n",
    "    ['소녀','▁소년'],\n",
    "    ['▁소녀','소년'],\n",
    "    ['▁딸','▁아들'],\n",
    "    ['▁딸이','▁아들이'],\n",
    "    ['▁딸과','▁아들과'],\n",
    "    ['▁딸로','▁아들로,'],\n",
    "    ['▁딸의','▁아들의'],\n",
    "    ['##딸','##아들'],\n",
    "    ['할머니','할아버지'],\n",
    "    ['▁할머니','▁할아버지'],\n",
    "]\n",
    "\n",
    "#['_여성', '▁남성'], \n",
    "#['_여성의','▁남성의'], \n",
    "#['##할머니''_할아버지는'],\n",
    "#['손녀', '_손자인'],\n",
    "#['손녀', '손자'],\n",
    "#['손녀', '_손자'],\n",
    "\n",
    "'''\n",
    "    ['언니','오빠'],\n",
    "    ['언니','_오빠'],\n",
    "    ['누나','형'],\n",
    "    ['▁아내','▁남편'],\n",
    "    ['▁아내가','▁남편이'],\n",
    "    ['▁아내와','▁남편과'],\n",
    "    ['▁아내의','▁남편의'],\n",
    "    ['▁아내를','▁남편을'],\n",
    "    ['▁아내는','▁남편은'],\n",
    "    ['아내','남편']\n",
    "    '''"
   ]
  },
  {
   "cell_type": "markdown",
   "id": "f5f54212",
   "metadata": {},
   "source": [
    "# neutralize\n",
    "- [아빠, 엄마] 거리를 x축으로 하고, 그 가운데에 keyword list의 단어들이 오게 만들어 단어를 중성화시킵니다."
   ]
  },
  {
   "cell_type": "code",
   "execution_count": 24,
   "id": "e619aa08",
   "metadata": {},
   "outputs": [],
   "source": [
    "#코드 에러 해결해야 함. 하지만 전체 코드 돌리는 것에 문제 없음.\n",
    "'''\n",
    "from sklearn.decomposition import PCA\n",
    "\n",
    "def gender_subspace(pairs, model):\n",
    "    for a,b in pairs:\n",
    "        gender_axis = model.transformer.wte.weight.data[vocab[a]] - model.transformer.wte.weight.data[vocab[b]]\n",
    "        #center = (word_to_vec_map[a]+word_to_vec_map[b])/2\n",
    "        #pca = PCA(n_components = 0.99)\n",
    "        #pca = pca.fit_transform(gender_axis)\n",
    "    return gender_axis\n",
    "'''"
   ]
  },
  {
   "cell_type": "code",
   "execution_count": 53,
   "id": "43bbf2b1",
   "metadata": {},
   "outputs": [
    {
     "data": {
      "text/plain": [
       "torch.Size([1, 768])"
      ]
     },
     "execution_count": 53,
     "metadata": {},
     "output_type": "execute_result"
    }
   ],
   "source": [
    "gender_axis = gender_subspace([['엄마','아빠']], model).reshape(1,768)\n",
    "gender_axis.shape"
   ]
  },
  {
   "cell_type": "code",
   "execution_count": 57,
   "id": "d77546ab",
   "metadata": {},
   "outputs": [],
   "source": [
    "import numpy as np\n",
    "\n",
    "def neutralize(wordset, gender_axis, model):\n",
    "    for w in wordset:\n",
    "        e = model.transformer.wte.weight.data[vocab[w]].reshape(768,1).cpu().detach().numpy()\n",
    "        \n",
    "    g = gender_axis.reshape(1,768).cpu().detach().numpy()\n",
    "    e_biascomponent = (e.dot(g)/np.sum(g*g)) * g\n",
    "    \n",
    "    e_debiased = e - e_biascomponent\n",
    "    \n",
    "    e_debiased = torch.Tensor(e_debiased)\n",
    "    return e_debiased"
   ]
  },
  {
   "cell_type": "code",
   "execution_count": 60,
   "id": "41fb4b49",
   "metadata": {},
   "outputs": [],
   "source": [
    "keyword_list = ['아기','공주','부엌','노동','농사','과학']\n",
    "\n",
    "e_debiased = neutralize(keyword_list,gender_axis, model)"
   ]
  },
  {
   "cell_type": "code",
   "execution_count": 68,
   "id": "4a177ea2",
   "metadata": {},
   "outputs": [
    {
     "name": "stdout",
     "output_type": "stream",
     "text": [
      "cosine similarity between 아기 and g, before neutralizing:  tensor([-0.0100])\n",
      "cosine similarity between 아기 and g, after neutralizing:  tensor([0.0002])\n",
      "-------------------------------------\n",
      "cosine similarity between 공주 and g, before neutralizing:  tensor([0.0157])\n",
      "cosine similarity between 공주 and g, after neutralizing:  tensor([-0.0002])\n",
      "-------------------------------------\n",
      "cosine similarity between 부엌 and g, before neutralizing:  tensor([0.0295])\n",
      "cosine similarity between 부엌 and g, after neutralizing:  tensor([0.0002])\n",
      "-------------------------------------\n",
      "cosine similarity between 노동 and g, before neutralizing:  tensor([-0.0474])\n",
      "cosine similarity between 노동 and g, after neutralizing:  tensor([-0.0002])\n",
      "-------------------------------------\n",
      "cosine similarity between 농사 and g, before neutralizing:  tensor([-0.0228])\n",
      "cosine similarity between 농사 and g, after neutralizing:  tensor([0.0002])\n",
      "-------------------------------------\n",
      "cosine similarity between 과학 and g, before neutralizing:  tensor([-0.0286])\n",
      "cosine similarity between 과학 and g, after neutralizing:  tensor([0.0002])\n",
      "-------------------------------------\n"
     ]
    }
   ],
   "source": [
    "for i in range(len(keyword_list)):\n",
    "    print(\"cosine similarity between \" + keyword_list[i] + \" and g, before neutralizing: \",cos(model.transformer.wte.weight.data[vocab[keyword_list[i]]], torch.Tensor(gender_axis)))\n",
    "    print(\"cosine similarity between \" + keyword_list[i] + \" and g, after neutralizing: \", cos(e_debiased[i],torch.Tensor(gender_axis)))\n",
    "    print('-------------------------------------')"
   ]
  },
  {
   "cell_type": "code",
   "execution_count": 70,
   "id": "7926a804",
   "metadata": {},
   "outputs": [],
   "source": [
    "e_debiased_final = []\n",
    "for i in range(len(e_debiased)):\n",
    "    e = e_debiased[i].reshape(768)\n",
    "    e_debiased_final.append(e)"
   ]
  },
  {
   "cell_type": "code",
   "execution_count": 82,
   "id": "5ad5fefa",
   "metadata": {},
   "outputs": [],
   "source": [
    "for i in range(len(keyword_list)):\n",
    "    idx = vocab[keyword_list[i]]\n",
    "    model.transformer.wte.weight.data[idx] = e_debiased_final[i]"
   ]
  },
  {
   "cell_type": "markdown",
   "id": "2b62fb84",
   "metadata": {},
   "source": [
    "# equalize\n",
    "- [아빠, 엄마]의 거리를 x축으로 하는 gender axis에 대해 [여성어, 남성어] 세트의 위치를 같게 만듭니다.\n",
    "- 이를 통해 keyword_list가 모든 [여성어, 남성어] 리스트의 거리로부터 중점에 있게 됩니다."
   ]
  },
  {
   "cell_type": "code",
   "execution_count": 108,
   "id": "e332a9aa",
   "metadata": {},
   "outputs": [],
   "source": [
    "def equalize(pair, bias_axis, word_to_vec_map):\n",
    "        \n",
    "    w1, w2 = pair[0], pair[1]\n",
    "    e_w1 = model.transformer.wte.weight.data[vocab[w1]].cpu().detach().numpy()\n",
    "    e_w2 =  model.transformer.wte.weight.data[vocab[w2]].cpu().detach().numpy()\n",
    "\n",
    "\n",
    "    mu = (e_w1 + e_w2) / 2\n",
    "    bias_axis = bias_axis.reshape(768).cpu().detach().numpy()\n",
    "\n",
    "    mu_B = mu.dot(bias_axis)/np.sum(bias_axis*bias_axis) * bias_axis\n",
    "    mu_orth = mu - mu_B\n",
    " \n",
    "\n",
    "    e_w1B = e_w1.dot(bias_axis)/np.sum(bias_axis*bias_axis) * bias_axis\n",
    "    e_w2B = e_w2.dot(bias_axis)/np.sum(bias_axis*bias_axis) * bias_axis\n",
    "        \n",
    "   \n",
    "    corrected_e_w1B = np.sqrt(np.abs(1-np.sum(mu_orth*mu_orth))) * (e_w1B - mu_B) / np.sqrt(np.sum((e_w1 - mu_orth - mu_B)**2))\n",
    "    corrected_e_w2B = np.sqrt(np.abs(1-np.sum(mu_orth*mu_orth))) * (e_w2B - mu_B) / np.sqrt(np.sum((e_w2 - mu_orth - mu_B)**2))\n",
    " \n",
    "\n",
    "    e1 = corrected_e_w1B + mu_orth\n",
    "    e2 = corrected_e_w2B + mu_orth\n",
    "\n",
    "    return e1,e2"
   ]
  },
  {
   "cell_type": "code",
   "execution_count": 100,
   "id": "cccc0afb",
   "metadata": {},
   "outputs": [
    {
     "name": "stdout",
     "output_type": "stream",
     "text": [
      "cosine_similarity(model[\"man\"], gender =  tensor([0.5088])\n",
      "cosine_similarity(model[\"woman\"], gender =  tensor([-0.5192])\n",
      "-------------------------------------\n",
      "cosine_similarity(model[\"man\"], gender =  tensor([-0.0524])\n",
      "cosine_similarity(model[\"woman\"], gender =  tensor([-0.5192])\n",
      "-------------------------------------\n",
      "cosine_similarity(model[\"man\"], gender =  tensor([-0.0352])\n",
      "cosine_similarity(model[\"woman\"], gender =  tensor([-0.0258])\n",
      "-------------------------------------\n",
      "cosine_similarity(model[\"man\"], gender =  tensor([-0.0657])\n",
      "cosine_similarity(model[\"woman\"], gender =  tensor([-0.0749])\n",
      "-------------------------------------\n",
      "cosine_similarity(model[\"man\"], gender =  tensor([-0.0132])\n",
      "cosine_similarity(model[\"woman\"], gender =  tensor([-0.0671])\n",
      "-------------------------------------\n",
      "cosine_similarity(model[\"man\"], gender =  tensor([-0.0492])\n",
      "cosine_similarity(model[\"woman\"], gender =  tensor([-0.0522])\n",
      "-------------------------------------\n"
     ]
    }
   ],
   "source": [
    "for i in range(len(keyword_list)):\n",
    "    print(\"cosine_similarity(model[\\\"man\\\"], gender = \",cos(model.transformer.wte.weight.data[vocab[equalized_set[i][0]]], torch.Tensor(gender_axis)))\n",
    "    print(\"cosine_similarity(model[\\\"woman\\\"], gender = \", cos(model.transformer.wte.weight.data[vocab[equalized_set[i][1]]], torch.Tensor(gender_axis)))\n",
    "    print('-------------------------------------')"
   ]
  },
  {
   "cell_type": "code",
   "execution_count": 154,
   "id": "40cdcc8c",
   "metadata": {},
   "outputs": [
    {
     "name": "stdout",
     "output_type": "stream",
     "text": [
      "cosine similarities after equalizing:\n",
      "cosine_similarity( 엄마 , gender) =  tensor([0.8173])\n",
      "cosine_similarity( 아빠 , gender) =  tensor([-0.8173])\n",
      "----------------\n",
      "cosine_similarity( ▁엄마 , gender) =  tensor([0.2650])\n",
      "cosine_similarity( 아빠 , gender) =  tensor([-0.2650])\n",
      "----------------\n",
      "cosine_similarity( ▁여성이 , gender) =  tensor([-0.0045])\n",
      "cosine_similarity( ▁남성이 , gender) =  tensor([0.0045])\n",
      "----------------\n",
      "cosine_similarity( ▁여자 , gender) =  tensor([0.0025])\n",
      "cosine_similarity( ▁남자 , gender) =  tensor([-0.0025])\n",
      "----------------\n",
      "cosine_similarity( 여자 , gender) =  tensor([0.0145])\n",
      "cosine_similarity( 남자 , gender) =  tensor([-0.0145])\n",
      "----------------\n",
      "cosine_similarity( ▁여자의 , gender) =  tensor([0.0016])\n",
      "cosine_similarity( ▁남자의 , gender) =  tensor([-0.0016])\n",
      "----------------\n",
      "cosine_similarity( ▁여자는 , gender) =  tensor([-0.0059])\n",
      "cosine_similarity( ▁남자는 , gender) =  tensor([0.0059])\n",
      "----------------\n",
      "cosine_similarity( ▁여자가 , gender) =  tensor([0.0035])\n",
      "cosine_similarity( ▁남자가 , gender) =  tensor([-0.0035])\n",
      "----------------\n",
      "cosine_similarity( ▁여자와 , gender) =  tensor([0.0007])\n",
      "cosine_similarity( ▁남자와 , gender) =  tensor([-0.0007])\n",
      "----------------\n",
      "cosine_similarity( ▁여자들이 , gender) =  tensor([0.0018])\n",
      "cosine_similarity( ▁남자들은 , gender) =  tensor([-0.0018])\n",
      "----------------\n",
      "cosine_similarity( 소녀 , gender) =  tensor([0.0336])\n",
      "cosine_similarity( ▁소년 , gender) =  tensor([-0.0336])\n",
      "----------------\n",
      "cosine_similarity( ▁소녀 , gender) =  tensor([-0.0013])\n",
      "cosine_similarity( 소년 , gender) =  tensor([0.0013])\n",
      "----------------\n",
      "cosine_similarity( ▁딸 , gender) =  tensor([-0.0026])\n",
      "cosine_similarity( ▁아들 , gender) =  tensor([0.0026])\n",
      "----------------\n",
      "cosine_similarity( ▁딸이 , gender) =  tensor([-0.0133])\n",
      "cosine_similarity( ▁아들이 , gender) =  tensor([0.0133])\n",
      "----------------\n",
      "cosine_similarity( ▁딸과 , gender) =  tensor([-0.0237])\n",
      "cosine_similarity( ▁아들과 , gender) =  tensor([0.0237])\n",
      "----------------\n",
      "cosine_similarity( ▁딸로 , gender) =  tensor([-0.0322])\n",
      "cosine_similarity( ▁아들로, , gender) =  tensor([0.0322])\n",
      "----------------\n",
      "cosine_similarity( ▁딸의 , gender) =  tensor([-0.0052])\n",
      "cosine_similarity( ▁아들의 , gender) =  tensor([0.0052])\n",
      "----------------\n",
      "cosine_similarity( ##딸 , gender) =  tensor([-0.0567])\n",
      "cosine_similarity( ##아들 , gender) =  tensor([0.0567])\n",
      "----------------\n",
      "cosine_similarity( 할머니 , gender) =  tensor([-0.0336])\n",
      "cosine_similarity( 할아버지 , gender) =  tensor([0.0336])\n",
      "----------------\n",
      "cosine_similarity( ▁할머니 , gender) =  tensor([-0.0056])\n",
      "cosine_similarity( ▁할아버지 , gender) =  tensor([0.0056])\n",
      "----------------\n"
     ]
    }
   ],
   "source": [
    "print(\"cosine similarities after equalizing:\")\n",
    "\n",
    "equalized_final = []\n",
    "for i in range(len(equalized_set)):\n",
    "    e1, e2 = equalize(equalized_set[i], gender_axis, model)\n",
    "    equalized_final.append([torch.Tensor(e1),torch.Tensor(e2)])\n",
    "    print(\"cosine_similarity(\", equalized_set[i][0], \", gender) = \", cos(torch.Tensor(e1), torch.Tensor(gender_axis)))\n",
    "    print(\"cosine_similarity(\", equalized_set[i][1], \", gender) = \", cos(torch.Tensor(e2), torch.Tensor(gender_axis)))\n",
    "    print('----------------')"
   ]
  },
  {
   "cell_type": "code",
   "execution_count": 155,
   "id": "2c632e5e",
   "metadata": {},
   "outputs": [],
   "source": [
    "for i in range(len(keyword_list)):\n",
    "    idx1 = vocab[equalized_set[i][0]]\n",
    "    idx2 = vocab[equalized_set[i][1]]\n",
    "    model.transformer.wte.weight.data[idx1] = equalized_final[i][0]\n",
    "    model.transformer.wte.weight.data[idx2] = equalized_final[i][1]"
   ]
  }
 ],
 "metadata": {
  "kernelspec": {
   "display_name": "Python 3 (ipykernel)",
   "language": "python",
   "name": "python3"
  },
  "language_info": {
   "codemirror_mode": {
    "name": "ipython",
    "version": 3
   },
   "file_extension": ".py",
   "mimetype": "text/x-python",
   "name": "python",
   "nbconvert_exporter": "python",
   "pygments_lexer": "ipython3",
   "version": "3.7.0"
  }
 },
 "nbformat": 4,
 "nbformat_minor": 5
}
